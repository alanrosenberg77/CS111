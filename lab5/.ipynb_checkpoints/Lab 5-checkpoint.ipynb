{
 "cells": [
  {
   "cell_type": "markdown",
   "id": "a0f596d8-4d5f-42fd-8d84-b86e9e453eb7",
   "metadata": {},
   "source": [
    "## Instructions\n",
    "\n",
    "Answer the following questions. It behooves you to answer as much of each question as possible to receive some partial credit. You are advised to begin this lab early so that you have ample time to complete it. **Make sure that your code is commented appropriately to receive full credit on each problem**"
   ]
  },
  {
   "cell_type": "markdown",
   "id": "4f6acfa2-77dc-4996-8c78-77d295bdcb2f",
   "metadata": {},
   "source": [
    "## Assignment\n",
    "\n",
    "This assignment is worth 100 points. There are three sections to this homework assignment: a Fundamentals section, an Essentials section, and an Advanced section. You have all of the tools you need to complete all of the lab, but it is triaged for you to give you an idea of what you should focus on first."
   ]
  },
  {
   "cell_type": "markdown",
   "id": "9ca81fa7-c02c-4626-9a44-0baf16e8aac2",
   "metadata": {},
   "source": [
    "### Fundamentals (30 points)"
   ]
  },
  {
   "cell_type": "markdown",
   "id": "e420c4ce-3a6f-445b-bd90-460b9b48b350",
   "metadata": {},
   "source": [
    "1. (10 points) What is the main, substantive difference between a list and a tuple? Explain what that difference means in practical terms."
   ]
  },
  {
   "cell_type": "markdown",
   "id": "ab7e2235-a295-481b-a988-db06b3752e1b",
   "metadata": {},
   "source": [
    "  > Answer:"
   ]
  },
  {
   "cell_type": "markdown",
   "id": "3dc213e4-0421-4438-9c52-b696208f0512",
   "metadata": {},
   "source": [
    "2. (10 points) Read the section on static visualizations (Section 5.17 in the book). What is seaborn and why is it useful to us?"
   ]
  },
  {
   "cell_type": "markdown",
   "id": "c2e036af-b632-4dc9-9eea-706fa06a9098",
   "metadata": {},
   "source": [
    "  > Answer: "
   ]
  },
  {
   "cell_type": "markdown",
   "id": "5757175b-1344-4697-b977-f996d5b499cd",
   "metadata": {},
   "source": [
    "3. What is a lambda function? Why is it useful for lists?"
   ]
  },
  {
   "cell_type": "markdown",
   "id": "b24f9937-a218-4083-8bcb-669a9956a99c",
   "metadata": {},
   "source": [
    "> Answer:"
   ]
  },
  {
   "cell_type": "markdown",
   "id": "1ed07202-3a5a-43b7-b511-7864765f14ed",
   "metadata": {},
   "source": [
    "### Essentials (50 points)"
   ]
  },
  {
   "cell_type": "markdown",
   "id": "b58a7b28-9163-454c-b007-19bc559797da",
   "metadata": {},
   "source": [
    "4. (10 points) Create a function which inputs a seven-letter word and turns it into a 1-800 phone number. You might need to look at your phone to see which letters correspond to which numbers! Do a few examples to make sure it works."
   ]
  },
  {
   "cell_type": "code",
   "execution_count": null,
   "id": "0b07a982-71f0-481e-9f9a-029a69183bdf",
   "metadata": {},
   "outputs": [],
   "source": [
    "## Answer:\n",
    "\n",
    "word = input('7 letter word: ')\n",
    "number = '1-800'\n",
    "\n",
    "for char in word:\n",
    "    char\n",
    "\n",
    "print('Your new 1-800 number:', number)"
   ]
  },
  {
   "cell_type": "markdown",
   "id": "2f91d2c8-251d-4324-951a-7004953bb554",
   "metadata": {},
   "source": [
    "5. (10 points) Write a function which inputs a list and removes any duplicates in that list. \n",
    "    "
   ]
  },
  {
   "cell_type": "code",
   "execution_count": 22,
   "id": "569fe0af-4426-4210-93c7-340e21026f80",
   "metadata": {},
   "outputs": [],
   "source": [
    "## Answer"
   ]
  },
  {
   "cell_type": "markdown",
   "id": "3a9368c6-dd7e-4257-98e6-486f40029c7b",
   "metadata": {},
   "source": [
    "6. (10 points) Create a list of the first 1000 prime numbers. \n",
    "\n",
    "    >Hint: Don't re-invent the wheel. Go grab the function you wrote in the last lab to help you!"
   ]
  },
  {
   "cell_type": "code",
   "execution_count": null,
   "id": "dc082148-ce86-49d9-8076-1d8dd1f569b0",
   "metadata": {},
   "outputs": [],
   "source": [
    "## Answer"
   ]
  },
  {
   "cell_type": "markdown",
   "id": "5abbe5ea-a448-43f5-82b2-098109e49134",
   "metadata": {},
   "source": [
    "7. (10 points) Create a function which inputs a number and determines if that number is a palindrome. Then randomly select 1000 numbers between 10000 and 99999. What percentage are palindromes?\n",
    "    \n",
    "    >Hint: The `.randrange()` function in the `random` library should help you. You also need to consider what to do if the number has an even or odd number of digits!\n",
    "    "
   ]
  },
  {
   "cell_type": "code",
   "execution_count": 66,
   "id": "b33a8fb6-291a-4ae4-9843-cfcdae2424c0",
   "metadata": {},
   "outputs": [],
   "source": [
    "## Answer"
   ]
  },
  {
   "cell_type": "markdown",
   "id": "eed323ec-048e-4f76-a5b3-55237425b246",
   "metadata": {},
   "source": [
    "8. (10 points) Create a list of the numbers from 1 to 100. Using **list comprehensions** create the following sublists:\n",
    "    + A list of the first 100 multiples of 3.\n",
    "    + A list of the odd numbers from the list\n",
    "    + A list of the product of the $i$th number and the $i+1$st number (This list will have 99 entries)\n",
    "    + The prime numbers from the list (Use your function from above!)"
   ]
  },
  {
   "cell_type": "code",
   "execution_count": 68,
   "id": "d51fd6fe-f3f5-41b2-801e-d5f0aea8e722",
   "metadata": {},
   "outputs": [],
   "source": [
    "## Answer"
   ]
  },
  {
   "cell_type": "markdown",
   "id": "4f2d9ef1-2754-45a0-844c-686f64e64966",
   "metadata": {},
   "source": [
    "### Advanced (20 points)"
   ]
  },
  {
   "cell_type": "markdown",
   "id": "f5e4cff0-4cd2-4b06-9da5-a984767467b2",
   "metadata": {},
   "source": [
    "9. (10 points) A perfect shuffle of a deck of cards is one that perfectly interlaces them. For instance if there were cards numbered $[1,2,3,4,5,6]$, the perfect shuffle would be $[1,3,5,2,4,6]$. Write a function which performs a perfect shuffle for a list of \"cards\". "
   ]
  },
  {
   "cell_type": "code",
   "execution_count": 111,
   "id": "5827191c-02c1-4c86-abd7-22646ee27eaa",
   "metadata": {},
   "outputs": [],
   "source": [
    "## Function"
   ]
  },
  {
   "cell_type": "markdown",
   "id": "231f12d9-fd39-4d88-aedd-4f461aedf75e",
   "metadata": {},
   "source": [
    "+ Next, write a function which determines how many perfect shuffles are required for a deck with $2 * n$ cards in it to return to its original order. "
   ]
  },
  {
   "cell_type": "code",
   "execution_count": 110,
   "id": "247df19c-c03a-4fed-b7dc-8573f46b7908",
   "metadata": {},
   "outputs": [],
   "source": [
    "## Shuffle Calculation"
   ]
  },
  {
   "cell_type": "markdown",
   "id": "8284b5bf-3292-4e8c-9051-125ffd2528bc",
   "metadata": {},
   "source": [
    "+ Finally, use this information to determine the number of shuffles required to return to its original state for decks with 4 to 1000 cards. Print out how many shuffles are required for all powers of 2 in that range (4, 8, 16, 32, etc.) and make sure that it is formatted nicely. Can you make a conjecture about the number of shuffles required for a deck of size $2^n$?"
   ]
  },
  {
   "cell_type": "code",
   "execution_count": 112,
   "id": "0bf20781-11e3-44ff-aeda-56da4a9ac692",
   "metadata": {},
   "outputs": [],
   "source": [
    "## Estimated Probability"
   ]
  },
  {
   "cell_type": "markdown",
   "id": "1fd0df75-b0e2-43fd-af3e-6f3f513647b0",
   "metadata": {},
   "source": [
    "> Conjecture:"
   ]
  },
  {
   "cell_type": "markdown",
   "id": "c48ef3a4-c243-4186-ab80-1c97109e255c",
   "metadata": {},
   "source": [
    "10. (10 points) The following code below creates a virtual 52 card poker deck:"
   ]
  },
  {
   "cell_type": "code",
   "execution_count": 114,
   "id": "cd9524e7-73c1-4592-b2ec-75e059f30c41",
   "metadata": {},
   "outputs": [],
   "source": [
    "deck = [('Ace','Heart'),('King','Heart'),('Queen','Heart'),('Jack','Heart'),\n",
    "        ('10','Heart'),('9','Heart'),('8','Heart'),('7','Heart'),('6','Heart'),\n",
    "        ('5','Heart'),('4','Heart'),('3','Heart'),('2','Heart'),\n",
    "        ('Ace','Club'),('King','Club'),('Queen','Club'),('Jack','Club'),\n",
    "        ('10','Club'),('9','Club'),('8','Club'),('7','Club'),('6','Club'),\n",
    "        ('5','Club'),('4','Club'),('3','Club'),('2','Club'),\n",
    "        ('Ace','Diamond'),('King','Diamond'),('Queen','Diamond'),('Jack','Diamond'),\n",
    "        ('10','Diamond'),('9','Diamond'),('8','Diamond'),('7','Diamond'),('6','Diamond'),\n",
    "        ('5','Diamond'),('4','Diamond'),('3','Diamond'),('2','Diamond'),\n",
    "        ('Ace','Spades'),('King','Spades'),('Queen','Spades'),('Jack','Spades'),\n",
    "        ('10','Spades'),('9','Spades'),('8','Spades'),('7','Spades'),('6','Spades'),\n",
    "        ('5','Spades'),('4','Spades'),('3','Spades'),('2','Spades')]\n"
   ]
  },
  {
   "cell_type": "markdown",
   "id": "a3ef2089-b50a-46ce-9ddc-91001691098c",
   "metadata": {},
   "source": [
    "* Write a function which determines if a 5-card hand is a pair, two pair, three of a kind or full house. You should check online if you do not know what these hands are."
   ]
  },
  {
   "cell_type": "code",
   "execution_count": 115,
   "id": "c6148d35-1171-423f-a697-796a97b6e51b",
   "metadata": {},
   "outputs": [],
   "source": [
    "## Answer"
   ]
  },
  {
   "cell_type": "markdown",
   "id": "bff2b049-07af-455b-b795-a37aaac283a1",
   "metadata": {},
   "source": [
    "+ Next, write a function to determine if you have a straight"
   ]
  },
  {
   "cell_type": "code",
   "execution_count": 116,
   "id": "a309c3e6-6fb1-4a0d-b607-c1a4155688fc",
   "metadata": {},
   "outputs": [],
   "source": [
    "## Answer"
   ]
  },
  {
   "cell_type": "markdown",
   "id": "bd778a7e-febf-4108-b760-188466c20bc9",
   "metadata": {},
   "source": [
    "+ Then, write a program which determines if the hand is a flush."
   ]
  },
  {
   "cell_type": "code",
   "execution_count": null,
   "id": "2f74178d-f711-45c3-b632-4bb560643725",
   "metadata": {},
   "outputs": [],
   "source": [
    "## Answer"
   ]
  },
  {
   "cell_type": "markdown",
   "id": "08c189d5-e65d-41d2-b733-e312157b572a",
   "metadata": {},
   "source": [
    "+ Finally, write a program which determines the type of hand that someone has (pair, two pair, three of a kind, straight, flush, or straight flush.) If the hand isn't any of these state the highest card in the hand. For example, (King of Hearts, Jack of Clubs, 3 of Spades, 10 of Diamonds, 8 of Diamonds) is a \"King high\".\n",
    "\n",
    "> Note: You did not write an explicit program to determine a straight flush but you can use the functions you did write to determine if you have one!"
   ]
  },
  {
   "cell_type": "code",
   "execution_count": 117,
   "id": "73d5338d-f1de-47d3-8187-f20ef72e8d76",
   "metadata": {},
   "outputs": [],
   "source": [
    "## Answer"
   ]
  }
 ],
 "metadata": {
  "kernelspec": {
   "display_name": "Python 3 (ipykernel)",
   "language": "python",
   "name": "python3"
  },
  "language_info": {
   "codemirror_mode": {
    "name": "ipython",
    "version": 3
   },
   "file_extension": ".py",
   "mimetype": "text/x-python",
   "name": "python",
   "nbconvert_exporter": "python",
   "pygments_lexer": "ipython3",
   "version": "3.9.12"
  }
 },
 "nbformat": 4,
 "nbformat_minor": 5
}
