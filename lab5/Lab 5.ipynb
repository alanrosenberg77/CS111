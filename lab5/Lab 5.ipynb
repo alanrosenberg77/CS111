{
 "cells": [
  {
   "cell_type": "markdown",
   "id": "a0f596d8-4d5f-42fd-8d84-b86e9e453eb7",
   "metadata": {},
   "source": [
    "## Instructions\n",
    "\n",
    "Answer the following questions. It behooves you to answer as much of each question as possible to receive some partial credit. You are advised to begin this lab early so that you have ample time to complete it. **Make sure that your code is commented appropriately to receive full credit on each problem**"
   ]
  },
  {
   "cell_type": "markdown",
   "id": "4f6acfa2-77dc-4996-8c78-77d295bdcb2f",
   "metadata": {},
   "source": [
    "## Assignment\n",
    "\n",
    "This assignment is worth 100 points. There are three sections to this homework assignment: a Fundamentals section, an Essentials section, and an Advanced section. You have all of the tools you need to complete all of the lab, but it is triaged for you to give you an idea of what you should focus on first."
   ]
  },
  {
   "cell_type": "markdown",
   "id": "9ca81fa7-c02c-4626-9a44-0baf16e8aac2",
   "metadata": {},
   "source": [
    "### Fundamentals (30 points)"
   ]
  },
  {
   "cell_type": "markdown",
   "id": "e420c4ce-3a6f-445b-bd90-460b9b48b350",
   "metadata": {},
   "source": [
    "1. (10 points) What is the main, substantive difference between a list and a tuple? Explain what that difference means in practical terms."
   ]
  },
  {
   "cell_type": "markdown",
   "id": "ab7e2235-a295-481b-a988-db06b3752e1b",
   "metadata": {},
   "source": [
    "  > Answer:"
   ]
  },
  {
   "cell_type": "markdown",
   "id": "3dc213e4-0421-4438-9c52-b696208f0512",
   "metadata": {},
   "source": [
    "2. (10 points) Read the section on static visualizations (Section 5.17 in the book). What is seaborn and why is it useful to us?"
   ]
  },
  {
   "cell_type": "markdown",
   "id": "c2e036af-b632-4dc9-9eea-706fa06a9098",
   "metadata": {},
   "source": [
    "  > Answer: "
   ]
  },
  {
   "cell_type": "markdown",
   "id": "5757175b-1344-4697-b977-f996d5b499cd",
   "metadata": {},
   "source": [
    "3. What is a lambda function? Why is it useful for lists?"
   ]
  },
  {
   "cell_type": "markdown",
   "id": "b24f9937-a218-4083-8bcb-669a9956a99c",
   "metadata": {},
   "source": [
    "> Answer:"
   ]
  },
  {
   "cell_type": "markdown",
   "id": "1ed07202-3a5a-43b7-b511-7864765f14ed",
   "metadata": {},
   "source": [
    "### Essentials (50 points)"
   ]
  },
  {
   "cell_type": "markdown",
   "id": "b58a7b28-9163-454c-b007-19bc559797da",
   "metadata": {},
   "source": [
    "4. (10 points) Create a function which inputs a seven-letter word and turns it into a 1-800 phone number. You might need to look at your phone to see which letters correspond to which numbers! Do a few examples to make sure it works."
   ]
  },
  {
   "cell_type": "code",
   "execution_count": 1,
   "id": "0b07a982-71f0-481e-9f9a-029a69183bdf",
   "metadata": {},
   "outputs": [
    {
     "name": "stdout",
     "output_type": "stream",
     "text": [
      "7 letter word: lovedog\n",
      "1-800-568-3364\n"
     ]
    }
   ],
   "source": [
    "## Answer:\n",
    "\n",
    "word = ''\n",
    "while(len(word) != 7):\n",
    "    word = input('7 letter word: ')\n",
    "\n",
    "number = '1-800-'\n",
    "i = 0\n",
    "\n",
    "for char in word:\n",
    "    if(char=='a' or char=='b' or char =='c'):\n",
    "        number += '2'\n",
    "    elif(char=='d' or char=='e' or char=='f'):\n",
    "        number += '3'\n",
    "    elif(char=='g' or char=='h' or char=='i'):\n",
    "        number += '4'\n",
    "    elif(char=='j' or char=='k' or char=='l'):\n",
    "        number += '5'\n",
    "    elif(char=='m' or char=='n' or char=='o'):\n",
    "        number += '6'\n",
    "    elif(char=='p' or char=='q' or char=='r' or char=='s'):\n",
    "        number += '7'\n",
    "    elif(char=='t' or char=='u' or char=='v'):\n",
    "        number += '8'\n",
    "    elif(char=='w' or char=='x' or char=='y' or char=='z'):\n",
    "        number += '9'\n",
    "    else:\n",
    "        number += char\n",
    "    \n",
    "    i += 1\n",
    "    if(i==3):\n",
    "        number += '-'\n",
    "\n",
    "print(number)"
   ]
  },
  {
   "cell_type": "markdown",
   "id": "2f91d2c8-251d-4324-951a-7004953bb554",
   "metadata": {},
   "source": [
    "5. (10 points) Write a function which inputs a list and removes any duplicates in that list. \n",
    "    "
   ]
  },
  {
   "cell_type": "code",
   "execution_count": 2,
   "id": "569fe0af-4426-4210-93c7-340e21026f80",
   "metadata": {},
   "outputs": [
    {
     "name": "stdout",
     "output_type": "stream",
     "text": [
      "[1, 2, 3, 4, 5, 6, 7, 8, 9]\n"
     ]
    }
   ],
   "source": [
    "## Answer\n",
    "\n",
    "def removeDuplicates(list):\n",
    "    \"\"\"removes any duplicate values\n",
    "    in a provided list\"\"\"\n",
    "    \n",
    "    removals = []\n",
    "    for i in range(len(list)):\n",
    "        current = list[i]\n",
    "        \n",
    "        for j in range (i+1, len(list)):\n",
    "            compare = list[j]\n",
    "            \n",
    "            if(current == compare):\n",
    "                removals.append(list[j])\n",
    "    \n",
    "    for val in removals:\n",
    "        list.remove(val)\n",
    "\n",
    "list = [1,2,3,3,4,5,6,6,7,8,9]\n",
    "\n",
    "removeDuplicates(list)\n",
    "print(list)"
   ]
  },
  {
   "cell_type": "markdown",
   "id": "3a9368c6-dd7e-4257-98e6-486f40029c7b",
   "metadata": {},
   "source": [
    "6. (10 points) Create a list of the first 1000 prime numbers. \n",
    "\n",
    "    >Hint: Don't re-invent the wheel. Go grab the function you wrote in the last lab to help you!"
   ]
  },
  {
   "cell_type": "code",
   "execution_count": 3,
   "id": "dc082148-ce86-49d9-8076-1d8dd1f569b0",
   "metadata": {},
   "outputs": [
    {
     "name": "stdout",
     "output_type": "stream",
     "text": [
      "1000\n"
     ]
    }
   ],
   "source": [
    "## Answer\n",
    "\n",
    "def isPrime(number):\n",
    "    \"\"\"Determines whether a number is prime\"\"\"\n",
    "    \n",
    "    isPrime = True\n",
    "    for x in range(2,number):\n",
    "        if(number % x == 0):\n",
    "            isPrime = False\n",
    "    \n",
    "    return isPrime\n",
    "\n",
    "\n",
    "i = 2\n",
    "primes = []\n",
    "while(len(primes) < 1000):\n",
    "    \n",
    "    if isPrime(i):\n",
    "        primes.append(i)\n",
    "        \n",
    "    i += 1\n",
    "\n",
    "print(len(primes))\n",
    "#print(primes)"
   ]
  },
  {
   "cell_type": "markdown",
   "id": "5abbe5ea-a448-43f5-82b2-098109e49134",
   "metadata": {},
   "source": [
    "7. (10 points) Create a function which inputs a number and determines if that number is a palindrome. Then randomly select 1000 numbers between 10000 and 99999. What percentage are palindromes?\n",
    "    \n",
    "    >Hint: The `.randrange()` function in the `random` library should help you. You also need to consider what to do if the number has an even or odd number of digits!\n",
    "    "
   ]
  },
  {
   "cell_type": "code",
   "execution_count": 4,
   "id": "b33a8fb6-291a-4ae4-9843-cfcdae2424c0",
   "metadata": {},
   "outputs": [
    {
     "name": "stdout",
     "output_type": "stream",
     "text": [
      "Percentage of palindromes: 0.009\n"
     ]
    }
   ],
   "source": [
    "## Answer\n",
    "import random\n",
    "\n",
    "def isPalindrome(number):\n",
    "    \n",
    "    num = str(number)\n",
    "    i = 0\n",
    "    j = len(num)-1\n",
    "    palindrome = True\n",
    "    while i < j-i:\n",
    "        if(num[i] != num[j]):\n",
    "            palindrome = False\n",
    "            break\n",
    "        \n",
    "        i += 1\n",
    "        j -= 1\n",
    "    return palindrome\n",
    "\n",
    "palindromes = []\n",
    "for i in range(1000):\n",
    "    palindromes.append(isPalindrome(random.randrange(10000, 99999)))\n",
    "\n",
    "count = 0\n",
    "for boo in palindromes:\n",
    "    if boo:\n",
    "        count += 1\n",
    "\n",
    "print('Percentage of palindromes:', count/1000)"
   ]
  },
  {
   "cell_type": "markdown",
   "id": "eed323ec-048e-4f76-a5b3-55237425b246",
   "metadata": {},
   "source": [
    "8. (10 points) Create a list of the numbers from 1 to 100. Using **list comprehensions** create the following sublists:\n",
    "    + A list of the first 100 multiples of 3.\n",
    "    + A list of the odd numbers from the list\n",
    "    + A list of the product of the $i$th number and the $i+1$st number (This list will have 99 entries)\n",
    "    + The prime numbers from the list (Use your function from above!)"
   ]
  },
  {
   "cell_type": "code",
   "execution_count": 19,
   "id": "d51fd6fe-f3f5-41b2-801e-d5f0aea8e722",
   "metadata": {},
   "outputs": [
    {
     "name": "stdout",
     "output_type": "stream",
     "text": [
      "range(0, 100)\n",
      "[0, 1, 2, 3, 5, 7, 11, 13, 17, 19, 23, 29, 31, 37, 41, 43, 47, 53, 59, 61, 67, 71, 73, 79, 83, 89, 97]\n"
     ]
    }
   ],
   "source": [
    "## Answer\n",
    "\n",
    "lst = range(100)\n",
    "print(lst)\n",
    "\n",
    "multsOf3 = [x for x in lst if x%3==0]\n",
    "odds = [x for x in lst if x%2!=0]\n",
    "products = [lst[i]*lst[i+1] for i in range(99)]\n",
    "primes = [x for x in lst if isPrime(x)]\n",
    "\n",
    "print(primes)"
   ]
  },
  {
   "cell_type": "markdown",
   "id": "4f2d9ef1-2754-45a0-844c-686f64e64966",
   "metadata": {},
   "source": [
    "### Advanced (20 points)"
   ]
  },
  {
   "cell_type": "markdown",
   "id": "f5e4cff0-4cd2-4b06-9da5-a984767467b2",
   "metadata": {},
   "source": [
    "9. (10 points) A perfect shuffle of a deck of cards is one that perfectly interlaces them. For instance if there were cards numbered $[1,2,3,4,5,6]$, the perfect shuffle would be $[1,3,5,2,4,6]$. Write a function which performs a perfect shuffle for a list of \"cards\". "
   ]
  },
  {
   "cell_type": "code",
   "execution_count": 2,
   "id": "5827191c-02c1-4c86-abd7-22646ee27eaa",
   "metadata": {},
   "outputs": [
    {
     "name": "stdout",
     "output_type": "stream",
     "text": [
      "[12, 47, 26, 14, 34, 39]\n",
      "[12, 26, 34, 47, 14, 39]\n"
     ]
    }
   ],
   "source": [
    "## Function\n",
    "import random\n",
    "\n",
    "deck = range(52)\n",
    "hand = random.sample(deck, 6)\n",
    "print(hand)\n",
    "\n",
    "def perfectShuffle(hand):\n",
    "    shuffle = hand[0:len(hand):2]\n",
    "    shuffle += hand[1:len(hand):2]\n",
    "    return shuffle\n",
    "\n",
    "print(perfectShuffle(hand))"
   ]
  },
  {
   "cell_type": "markdown",
   "id": "231f12d9-fd39-4d88-aedd-4f461aedf75e",
   "metadata": {},
   "source": [
    "+ Next, write a function which determines how many perfect shuffles are required for a deck with $2 * n$ cards in it to return to its original order. "
   ]
  },
  {
   "cell_type": "code",
   "execution_count": 3,
   "id": "247df19c-c03a-4fed-b7dc-8573f46b7908",
   "metadata": {},
   "outputs": [
    {
     "name": "stdout",
     "output_type": "stream",
     "text": [
      "18\n"
     ]
    }
   ],
   "source": [
    "## Shuffle Calculation\n",
    "\n",
    "def iterationsUntilOriginal(n):\n",
    "    hand = [i for i in range(2*n)]\n",
    "    shuffle = perfectShuffle(hand)\n",
    "    count = 1\n",
    "    while(hand != shuffle):\n",
    "        shuffle = perfectShuffle(shuffle)\n",
    "        count += 1\n",
    "    return count\n",
    "\n",
    "print(iterationsUntilOriginal(10))"
   ]
  },
  {
   "cell_type": "markdown",
   "id": "8284b5bf-3292-4e8c-9051-125ffd2528bc",
   "metadata": {},
   "source": [
    "+ Finally, use this information to determine the number of shuffles required to return to its original state for decks with 4 to 1000 cards. Print out how many shuffles are required for all powers of 2 in that range (4, 8, 16, 32, etc.) and make sure that it is formatted nicely. Can you make a conjecture about the number of shuffles required for a deck of size $2^n$?"
   ]
  },
  {
   "cell_type": "code",
   "execution_count": 88,
   "id": "0bf20781-11e3-44ff-aeda-56da4a9ac692",
   "metadata": {},
   "outputs": [
    {
     "name": "stdout",
     "output_type": "stream",
     "text": [
      "2\n",
      "3\n",
      "4\n",
      "5\n",
      "6\n",
      "7\n",
      "8\n",
      "9\n"
     ]
    }
   ],
   "source": [
    "## Estimated Probability\n",
    "\n",
    "powersOf2 = [2**i for i in range(1,11)]\n",
    "for i in range(2, 501):\n",
    "    if i in powersOf2:\n",
    "        print(iterationsUntilOriginal(i))"
   ]
  },
  {
   "cell_type": "markdown",
   "id": "1fd0df75-b0e2-43fd-af3e-6f3f513647b0",
   "metadata": {},
   "source": [
    "> Conjecture: Decks of sizes that are a power of 2 take log2(deck size) iterations to return to their original organization."
   ]
  },
  {
   "cell_type": "markdown",
   "id": "c48ef3a4-c243-4186-ab80-1c97109e255c",
   "metadata": {},
   "source": [
    "10. (10 points) The following code below creates a virtual 52 card poker deck:"
   ]
  },
  {
   "cell_type": "code",
   "execution_count": 1,
   "id": "cd9524e7-73c1-4592-b2ec-75e059f30c41",
   "metadata": {},
   "outputs": [],
   "source": [
    "deck = [('Ace','Heart'),('King','Heart'),('Queen','Heart'),('Jack','Heart'),\n",
    "        ('10','Heart'),('9','Heart'),('8','Heart'),('7','Heart'),('6','Heart'),\n",
    "        ('5','Heart'),('4','Heart'),('3','Heart'),('2','Heart'),\n",
    "        ('Ace','Club'),('King','Club'),('Queen','Club'),('Jack','Club'),\n",
    "        ('10','Club'),('9','Club'),('8','Club'),('7','Club'),('6','Club'),\n",
    "        ('5','Club'),('4','Club'),('3','Club'),('2','Club'),\n",
    "        ('Ace','Diamond'),('King','Diamond'),('Queen','Diamond'),('Jack','Diamond'),\n",
    "        ('10','Diamond'),('9','Diamond'),('8','Diamond'),('7','Diamond'),('6','Diamond'),\n",
    "        ('5','Diamond'),('4','Diamond'),('3','Diamond'),('2','Diamond'),\n",
    "        ('Ace','Spades'),('King','Spades'),('Queen','Spades'),('Jack','Spades'),\n",
    "        ('10','Spades'),('9','Spades'),('8','Spades'),('7','Spades'),('6','Spades'),\n",
    "        ('5','Spades'),('4','Spades'),('3','Spades'),('2','Spades')]\n"
   ]
  },
  {
   "cell_type": "markdown",
   "id": "a3ef2089-b50a-46ce-9ddc-91001691098c",
   "metadata": {},
   "source": [
    "* Write a function which determines if a 5-card hand is a pair, two pair, three of a kind or full house. You should check online if you do not know what these hands are."
   ]
  },
  {
   "cell_type": "code",
   "execution_count": 2,
   "id": "c6148d35-1171-423f-a697-796a97b6e51b",
   "metadata": {},
   "outputs": [
    {
     "name": "stdout",
     "output_type": "stream",
     "text": [
      "[('4', 'Club'), ('Queen', 'Club'), ('Jack', 'Heart'), ('King', 'Club'), ('3', 'Diamond')]\n",
      "Nothing\n"
     ]
    }
   ],
   "source": [
    "## Answer\n",
    "import random\n",
    "\n",
    "def identifyHand(hand):\n",
    "    \"\"\"Evaluates a hand of cards,\n",
    "    returning whether that hand is a pair,\n",
    "    two pair, three of a kind, or full house\"\"\"\n",
    "    \n",
    "    kinds = [x[0] for x in hand]\n",
    "    pairs = 0\n",
    "    trios = 0\n",
    "    match = []\n",
    "    for i in range(len(kinds)-1):\n",
    "        matches = 0\n",
    "        for j in range(i+1,len(kinds)):\n",
    "            if(kinds[i] == kinds[j] and kinds[j] not in match):\n",
    "                matches += 1\n",
    "        if(matches == 1):\n",
    "            pairs += 1\n",
    "        if(matches == 2):\n",
    "            trios += 1\n",
    "        match.append(kinds[i])\n",
    "        \n",
    "    \n",
    "    if(pairs == 1 and trios == 1):\n",
    "        return 'Full House'\n",
    "    if(pairs == 1):\n",
    "        return 'Pair'\n",
    "    if(pairs == 2):\n",
    "        return 'Two Pair!'\n",
    "    if(trios == 1):\n",
    "        return 'Three of a Kind'\n",
    "    return 'Nothing'\n",
    "    \n",
    "hand = random.sample(deck, 5)\n",
    "print(hand)\n",
    "print(identifyHand(hand))"
   ]
  },
  {
   "cell_type": "markdown",
   "id": "bff2b049-07af-455b-b795-a37aaac283a1",
   "metadata": {},
   "source": [
    "+ Next, write a function to determine if you have a straight"
   ]
  },
  {
   "cell_type": "code",
   "execution_count": 12,
   "id": "a309c3e6-6fb1-4a0d-b607-c1a4155688fc",
   "metadata": {},
   "outputs": [
    {
     "name": "stdout",
     "output_type": "stream",
     "text": [
      "[('6', 'Spades'), ('2', 'Spades'), ('Jack', 'Club'), ('4', 'Heart'), ('2', 'Diamond')]\n",
      "False\n"
     ]
    }
   ],
   "source": [
    "## Answer\n",
    "import random\n",
    "\n",
    "def organize(hand):\n",
    "    ranks = [x[0] for x in hand]\n",
    "    for i in range(len(ranks)):\n",
    "        if ranks[i] == 'Jack':\n",
    "            ranks[i] = '11'\n",
    "        elif ranks[i] == 'Queen':\n",
    "            ranks[i] = '12'\n",
    "        elif ranks[i] == 'King':\n",
    "            ranks[i] = '13'\n",
    "        elif ranks[i] == 'Ace':\n",
    "            ranks[i] = '14'\n",
    "    ranks = list(map(int, ranks))\n",
    "    ranks = sorted(ranks)\n",
    "    return ranks\n",
    "\n",
    "def isStraight(hand):\n",
    "    \"\"\"Evaluates a hand of cards,\n",
    "    returning whether that hand is a straight\"\"\"\n",
    "    \n",
    "    ranks = organize(hand)\n",
    "        \n",
    "    for i in range(1,len(ranks)):\n",
    "        if(ranks[i] == ranks[i-1]):\n",
    "            return False\n",
    "    \n",
    "    lowest = ranks[0]\n",
    "    for rank in ranks:\n",
    "        if(rank <= lowest+4):\n",
    "            continue\n",
    "        else:\n",
    "            return False\n",
    "    return True\n",
    "\n",
    "\n",
    "# hand = [('5','Heart'),('7', 'Spade'),('3','Heart'),('4', 'Diamond'),('6', 'Diamond')]\n",
    "hand = random.sample(deck, 5)\n",
    "print(hand)\n",
    "print(isStraight(hand))"
   ]
  },
  {
   "cell_type": "markdown",
   "id": "bd778a7e-febf-4108-b760-188466c20bc9",
   "metadata": {},
   "source": [
    "+ Then, write a program which determines if the hand is a flush."
   ]
  },
  {
   "cell_type": "code",
   "execution_count": 13,
   "id": "2f74178d-f711-45c3-b632-4bb560643725",
   "metadata": {},
   "outputs": [
    {
     "name": "stdout",
     "output_type": "stream",
     "text": [
      "[('5', 'Heart'), ('7', 'Heart'), ('3', 'Heart'), ('4', 'Heart'), ('6', 'Heart')]\n",
      "True\n"
     ]
    }
   ],
   "source": [
    "## Answer\n",
    "\n",
    "def isFlush(hand):\n",
    "    \"\"\"Evaluates a hand of cards,\n",
    "    returning whether that hand is a flush\"\"\"\n",
    "    \n",
    "    suits = [x[1] for x in hand]\n",
    "    first = suits[0]\n",
    "    for suit in suits:\n",
    "        if suit != first:\n",
    "            return False\n",
    "    return True\n",
    "\n",
    "# hand = random.sample(deck, 5)\n",
    "hand = [('5','Heart'),('7', 'Heart'),('3','Heart'),('4', 'Heart'),('6', 'Heart')]\n",
    "print(hand)\n",
    "print(isFlush(hand))"
   ]
  },
  {
   "cell_type": "markdown",
   "id": "08c189d5-e65d-41d2-b733-e312157b572a",
   "metadata": {},
   "source": [
    "+ Finally, write a program which determines the type of hand that someone has (pair, two pair, three of a kind, straight, flush, or straight flush.) If the hand isn't any of these state the highest card in the hand. For example, (King of Hearts, Jack of Clubs, 3 of Spades, 10 of Diamonds, 8 of Diamonds) is a \"King high\".\n",
    "\n",
    "> Note: You did not write an explicit program to determine a straight flush but you can use the functions you did write to determine if you have one!"
   ]
  },
  {
   "cell_type": "code",
   "execution_count": 41,
   "id": "73d5338d-f1de-47d3-8187-f20ef72e8d76",
   "metadata": {},
   "outputs": [
    {
     "name": "stdout",
     "output_type": "stream",
     "text": [
      "[('5', 'Club'), ('10', 'Heart'), ('10', 'Diamond'), ('King', 'Spades'), ('10', 'Club')]\n",
      "Three of a Kind\n"
     ]
    }
   ],
   "source": [
    "## Answer\n",
    "import random\n",
    "\n",
    "def highCard(hand):\n",
    "    \"\"\"Evaluates a hand of cards,\n",
    "    returning the highest rank card\"\"\"\n",
    "    \n",
    "    ranks = organize(hand)\n",
    "    \n",
    "    if ranks[len(ranks)-1] == 11:\n",
    "        return 'Jack High'\n",
    "    elif ranks[len(ranks)-1] == 12:\n",
    "        return 'Queen High'\n",
    "    elif ranks[len(ranks)-1] == 13:\n",
    "        return 'King High'\n",
    "    elif ranks[len(ranks)-1] == 14:\n",
    "        return 'Ace High'\n",
    "    else:\n",
    "        return str(ranks[len(ranks)-1])+' High'\n",
    "\n",
    "def poker(hand):\n",
    "    \"\"\"Evaluates a hand of cards,\n",
    "    returning what type of hand the player has\"\"\"\n",
    "    \n",
    "    pairs = identifyHand(hand)\n",
    "    straight = isStraight(hand)\n",
    "    flush = isFlush(hand)\n",
    "    \n",
    "    if straight and flush:\n",
    "        return 'Straight Flush!'\n",
    "    elif straight:\n",
    "        return 'Straight'\n",
    "    elif flush:\n",
    "        return 'Flush'\n",
    "    elif pairs != 'Nothing':\n",
    "        return pairs\n",
    "    else:\n",
    "        return highCard(hand)\n",
    "    \n",
    "hand = random.sample(deck, 5)\n",
    "print(hand)\n",
    "print(poker(hand))"
   ]
  },
  {
   "cell_type": "code",
   "execution_count": null,
   "id": "50ee6cf5",
   "metadata": {},
   "outputs": [],
   "source": []
  }
 ],
 "metadata": {
  "kernelspec": {
   "display_name": "Python 3 (ipykernel)",
   "language": "python",
   "name": "python3"
  },
  "language_info": {
   "codemirror_mode": {
    "name": "ipython",
    "version": 3
   },
   "file_extension": ".py",
   "mimetype": "text/x-python",
   "name": "python",
   "nbconvert_exporter": "python",
   "pygments_lexer": "ipython3",
   "version": "3.9.12"
  }
 },
 "nbformat": 4,
 "nbformat_minor": 5
}
