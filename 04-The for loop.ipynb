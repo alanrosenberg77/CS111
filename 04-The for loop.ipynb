{
 "cells": [
  {
   "cell_type": "markdown",
   "id": "91a332bd-3f76-4925-a6a7-a0de1760bcb8",
   "metadata": {},
   "source": [
    "## The `for` loop"
   ]
  },
  {
   "cell_type": "markdown",
   "id": "1496e3c1-e56e-4d45-8679-84134b05ecc1",
   "metadata": {},
   "source": [
    "Here is the Python code for the activity we did in class:"
   ]
  },
  {
   "cell_type": "code",
   "execution_count": 11,
   "id": "da453c82-a041-4b21-9138-6ef5e9d594a2",
   "metadata": {},
   "outputs": [],
   "source": [
    "#Code to sum the first 20 natural numbers (0 through 19):\n",
    "\n",
    "# initialize the total variable\n",
    "total = 0\n",
    "\n",
    "for i in range(20):\n",
    "    total += i +1\n",
    "    #print(total)\n",
    "\n",
    "print(total)"
   ]
  },
  {
   "cell_type": "markdown",
   "id": "c6382683-c8b2-4e14-a20b-7787ca068d40",
   "metadata": {},
   "source": [
    "> Note 1: In order to access the numbers from 0 to 19, we used the `range()` function.\n",
    "\n",
    "> Note 2: The `+=` command is good shorthand for when we want to add a value to an existing variable and the over write that variable. In this case, `total += i` is shorthand for `total = total + i`. Other similar commands are `-=`, `*=`, `/=`. A complete list can be found in the book."
   ]
  },
  {
   "cell_type": "markdown",
   "id": "6cdbd291-9d70-4692-a39d-1f46116a2358",
   "metadata": {},
   "source": [
    "Below is the code that prints the index for `range(1,21)`:"
   ]
  },
  {
   "cell_type": "markdown",
   "id": "ec88fa7d-64cf-4b73-a725-93d93cf531ae",
   "metadata": {},
   "source": [
    "> Question: What numbers does `range(1,21)` represent?\n",
    "\n",
    "> Answer:"
   ]
  },
  {
   "cell_type": "code",
   "execution_count": 18,
   "id": "dd8f667b-a380-478b-a7e0-175594655731",
   "metadata": {},
   "outputs": [],
   "source": [
    "## Code to print index for range(1,21)\n",
    "\n",
    "for i in range(1,21):\n",
    "    print(i)"
   ]
  },
  {
   "cell_type": "markdown",
   "id": "43b11e94-1f39-434e-bbfa-b02c61d0507b",
   "metadata": {},
   "source": [
    "### Examples\n",
    "\n",
    "Here are some basic examples of `for` loops:"
   ]
  },
  {
   "cell_type": "code",
   "execution_count": null,
   "id": "7b24e289-c2ce-44bb-99b2-1bb976bb65b9",
   "metadata": {},
   "outputs": [],
   "source": [
    "# Example 1 \n",
    "# Takes all integers from 0 to 19, \n",
    "# doubles them, and prints the result\n",
    "\n",
    "for i in range(20):\n",
    "    print(2 * i)"
   ]
  },
  {
   "cell_type": "code",
   "execution_count": 23,
   "id": "1cc7afb7-42e5-41b9-b072-b246b3396b61",
   "metadata": {},
   "outputs": [],
   "source": [
    "# Example 2\n",
    "# Takes all integers from 0 to 100\n",
    "# If the number is odd it is added to the total\n",
    "\n",
    "# Version 1\n",
    "#initialize total\n",
    "total = 0\n",
    "\n",
    "for i in range(101):\n",
    "    if i % 2 == 1:\n",
    "        total += i\n",
    "        \n",
    "# print out the final result\n",
    "print(total)\n",
    "\n",
    "#Version 2\n",
    "#initialize total\n",
    "total = 0\n",
    "\n",
    "for i in range(1, 101, 2):\n",
    "    total += i\n",
    "        \n",
    "# print out the final result\n",
    "print(total)\n",
    "\n",
    "        \n",
    "\n"
   ]
  },
  {
   "cell_type": "code",
   "execution_count": 20,
   "id": "30e8fc5e-9c4d-4917-8b08-4b92c64c45f3",
   "metadata": {},
   "outputs": [],
   "source": [
    "# Example 3\n",
    "# For a given integer n this program\n",
    "# determines the factors of the number from 2 to n -1\n",
    "\n",
    "#Change this to whatever number you want\n",
    "n = 12345\n",
    "\n",
    "for i in range(2,n):\n",
    "    if n % i == 0:\n",
    "        print(i)\n"
   ]
  },
  {
   "cell_type": "markdown",
   "id": "de21774b-2b3f-4371-b2fb-a779c5bcafea",
   "metadata": {},
   "source": [
    "## On your own\n",
    "\n",
    "1. Suppose your bank account gets $5\\%$ interest per year. Use a loop to calculate how much interest you would have after 25 years."
   ]
  },
  {
   "cell_type": "code",
   "execution_count": 1,
   "id": "1089d82f-bc3e-48de-9485-ab420bb0c0cb",
   "metadata": {},
   "outputs": [
    {
     "name": "stdout",
     "output_type": "stream",
     "text": [
      "Starting amount:25\n",
      "After 25 years, your amount is now 84.65887352248471\n"
     ]
    }
   ],
   "source": [
    "x=int(input('Starting amount:'))\n",
    "\n",
    "for i in range(25):\n",
    "    x=x*1.05\n",
    "    # print(x)\n",
    "\n",
    "print('After 25 years, your amount is now',x)"
   ]
  },
  {
   "cell_type": "markdown",
   "id": "49c21afe-ebf3-4063-b732-15624462e71f",
   "metadata": {},
   "source": [
    "2. Write a program which separates a five digit number into individual digits. \n",
    "\n",
    "> Hint: The `//` and `%` functions will help you here! "
   ]
  },
  {
   "cell_type": "code",
   "execution_count": 2,
   "id": "4faed5e0",
   "metadata": {},
   "outputs": [
    {
     "name": "stdout",
     "output_type": "stream",
     "text": [
      "Give 5 digit number:54321\n",
      "1\n",
      "2\n",
      "3\n",
      "4\n",
      "5\n"
     ]
    }
   ],
   "source": [
    "x=int(input('Give 5 digit number:'))\n",
    "\n",
    "for i in range(5):\n",
    "    print(x%10)\n",
    "    x=x//10"
   ]
  },
  {
   "cell_type": "markdown",
   "id": "6c0e075d-c44c-40f1-82ab-0d955fcf174d",
   "metadata": {},
   "source": [
    "3. The number $e$ can be approximated by the following infinite series of additions:\n",
    "\n",
    "$$ e = \\frac{1}{0!} + \\frac{1}{1!} + \\frac{1}{2!} + \\dots $$\n",
    "\n",
    "We can truncate this infinite series (just take the first $n$ terms, say) to get an estimate for $e$. Construct a loop which calculcates $e$ to $n$ terms in this sequence, where $n$ is a variable.\n",
    "\n",
    "> Hint: The `!` symbol will not work for the factorial symbol. Instead you will need to import the `math` library (by writing `import math`) and use the factorial symbol. The syntax is `math.factorial(NumberYouWant)`. "
   ]
  },
  {
   "cell_type": "code",
   "execution_count": 8,
   "id": "283012ce-6c1f-453c-b4e6-3434ad15f0e2",
   "metadata": {},
   "outputs": [
    {
     "name": "stdout",
     "output_type": "stream",
     "text": [
      "How many times? 1000\n",
      "e is 2.7182818284590455\n"
     ]
    }
   ],
   "source": [
    "import math\n",
    "\n",
    "n=int(input('How many times? '))\n",
    "e=0\n",
    "\n",
    "for i in range(n):\n",
    "    e=e+(1/math.factorial(i))\n",
    "    \n",
    "print('e is',e)"
   ]
  },
  {
   "cell_type": "markdown",
   "id": "24135790-2b46-4a10-8cfd-7ed6669ba801",
   "metadata": {},
   "source": [
    "4. The number $\\pi$ is equal to the following infinite series of additions:\n",
    "\n",
    "$$ \\pi = \\frac{4}{1} - \\frac{4}{3} + \\frac{4}{5} - \\frac{4}{7} + \\dots$$\n",
    "\n",
    "We can truncate this infinite series (just take the first $n$ terms, say) to get an estimate for $\\pi$. Construct a loop which calculcates $\\pi$ to $n$ terms in this sequence, where $n$ is a variable.\n",
    "\n",
    "> Hint: If you want to alternate between $+$ and $-$, you can use $(-1)^i$ in your code!\n"
   ]
  },
  {
   "cell_type": "code",
   "execution_count": 21,
   "id": "e0c5db48-0738-418a-a05a-b201174ff63c",
   "metadata": {},
   "outputs": [
    {
     "name": "stdout",
     "output_type": "stream",
     "text": [
      "How many times? 10000\n",
      "3.1414926535900345\n"
     ]
    }
   ],
   "source": [
    "n=int(input('How many times? '))\n",
    "pi=0\n",
    "\n",
    "for i in range(n):\n",
    "    #print(2*i+1)\n",
    "    pi=pi+(4/(2*i+1))*(-1)**i\n",
    "    #print(pi)\n",
    "\n",
    "print(pi)"
   ]
  },
  {
   "cell_type": "code",
   "execution_count": null,
   "id": "dde370d4",
   "metadata": {},
   "outputs": [],
   "source": []
  }
 ],
 "metadata": {
  "kernelspec": {
   "display_name": "Python 3 (ipykernel)",
   "language": "python",
   "name": "python3"
  },
  "language_info": {
   "codemirror_mode": {
    "name": "ipython",
    "version": 3
   },
   "file_extension": ".py",
   "mimetype": "text/x-python",
   "name": "python",
   "nbconvert_exporter": "python",
   "pygments_lexer": "ipython3",
   "version": "3.9.12"
  }
 },
 "nbformat": 4,
 "nbformat_minor": 5
}
