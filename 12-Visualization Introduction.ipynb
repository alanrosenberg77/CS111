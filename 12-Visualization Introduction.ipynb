{
 "cells": [
  {
   "cell_type": "markdown",
   "id": "404891eb-7950-4ba6-9757-a2091ae5cc29",
   "metadata": {},
   "source": [
    "## Visualization\n",
    "\n",
    "Today we will talk about one of the most important skills in Python for Data Science: Being able to visualize the data that you are working with in meaningful ways. Today, we will take our first step towards learning how to make visualizations in Python."
   ]
  },
  {
   "cell_type": "markdown",
   "id": "b910ad84-c21a-45ee-9caf-0202fa13f9c9",
   "metadata": {},
   "source": [
    "### Necessary Packages\n",
    "\n",
    "The two most common tools for data visualization in Python are in the `matplotlib` (specifically `matplotlib.pyplot`) and the `seaborn` libraries. Typically, programmers shorten these to `plt` and `sns`, respectively, using the `as` statement. We will also be using the `numpy` and `random` modules for this acitivity. "
   ]
  },
  {
   "cell_type": "code",
   "execution_count": 1,
   "id": "f0e0205d-e720-472b-b7f6-4034249e9d8f",
   "metadata": {},
   "outputs": [],
   "source": [
    "import matplotlib.pyplot as plt\n",
    "\n",
    "import numpy as np\n",
    "\n",
    "import random\n",
    "\n",
    "import seaborn as sns"
   ]
  },
  {
   "cell_type": "markdown",
   "id": "1b96f7d4-a040-417b-8a72-577611bbf9ed",
   "metadata": {},
   "source": [
    "### A First Example\n",
    "\n",
    "In this guided example, we will simulate rolling **two** dice and recording their sum. To make our lives easier, write a function which randomly rolls two dice and returns their sum. Call this function `twoDiceSum`.\n",
    "\n",
    "> Hint: The `random.randrange(x,y)` function randomly chooses an integer between $x$ and $y - 1$"
   ]
  },
  {
   "cell_type": "code",
   "execution_count": 25,
   "id": "236695f7-0d04-4af6-bb63-493eb8612874",
   "metadata": {},
   "outputs": [
    {
     "name": "stdout",
     "output_type": "stream",
     "text": [
      "9\n"
     ]
    }
   ],
   "source": [
    "def twoDiceSum():\n",
    "    die1 = random.randrange(1,7)\n",
    "    die2 = random.randrange(1,7)\n",
    "    return die1+die2\n",
    "\n",
    "print(twoDiceSum())"
   ]
  },
  {
   "cell_type": "markdown",
   "id": "14aa0256-f0d7-486d-b237-022adaf9d45e",
   "metadata": {},
   "source": [
    "Next, use a **list comprehension** to create a list of 1000 simulations of rolling two dice. Call this list `sims`."
   ]
  },
  {
   "cell_type": "code",
   "execution_count": 26,
   "id": "e8d74ac9-8ae3-4e0c-ab3e-2b208908a088",
   "metadata": {},
   "outputs": [],
   "source": [
    "sims = [twoDiceSum() for i in range(1000)]"
   ]
  },
  {
   "cell_type": "markdown",
   "id": "8166cb9a-8615-4334-ab63-eb6a37afa8bd",
   "metadata": {},
   "source": [
    "Next, we will use the `np.unique()` function to summarize the data. What does the code below produce?"
   ]
  },
  {
   "cell_type": "code",
   "execution_count": 27,
   "id": "90763ae1-4df1-4a6d-bdb0-34fdabcee4b3",
   "metadata": {},
   "outputs": [
    {
     "data": {
      "text/plain": [
       "array([ 2,  3,  4,  5,  6,  7,  8,  9, 10, 11, 12])"
      ]
     },
     "execution_count": 27,
     "metadata": {},
     "output_type": "execute_result"
    }
   ],
   "source": [
    "# Uncomment the line below to run it\n",
    "\n",
    "np.unique(sims)"
   ]
  },
  {
   "cell_type": "markdown",
   "id": "313eced2-479f-4ead-af45-b658cf641bf2",
   "metadata": {},
   "source": [
    "> Answer: [0,1,2]"
   ]
  },
  {
   "cell_type": "markdown",
   "id": "b51430b1-bbe1-4420-a9f9-0b0cb49f459f",
   "metadata": {},
   "source": [
    "The `np.unique()` function takes an additional argument, `return_counts = True`, which allows us to also store the number of times each unique value occurs. Add that argument in in the line below:"
   ]
  },
  {
   "cell_type": "code",
   "execution_count": 28,
   "id": "c29315f2-a437-408b-9879-3fc78d6f12c2",
   "metadata": {},
   "outputs": [
    {
     "data": {
      "text/plain": [
       "(array([ 2,  3,  4,  5,  6,  7,  8,  9, 10, 11, 12]),\n",
       " array([ 24,  58,  84, 108, 123, 192, 131, 101,  92,  59,  28]))"
      ]
     },
     "execution_count": 28,
     "metadata": {},
     "output_type": "execute_result"
    }
   ],
   "source": [
    "# Uncomment this code to run it\n",
    "\n",
    "np.unique(sims, return_counts = True)"
   ]
  },
  {
   "cell_type": "markdown",
   "id": "8413b2d8-8c95-4366-9acf-fd76782d210f",
   "metadata": {},
   "source": [
    "Notice that now we get 2 arrays (we will focus on this data type in a few weeks), one with the unique value, and the other with the count of the number of times that value occurs.  When a function outputs more than one item, Python allows us to store them in separate identifiers using the code below:"
   ]
  },
  {
   "cell_type": "code",
   "execution_count": 29,
   "id": "ffdf0d49-7211-48a1-8489-c1e866d0671a",
   "metadata": {},
   "outputs": [],
   "source": [
    "# Uncomment this code to run it\n",
    "\n",
    "values, counts = np.unique(sims, return_counts = True)"
   ]
  },
  {
   "cell_type": "markdown",
   "id": "fedd9fc6-2f50-42ef-b990-910feab0295a",
   "metadata": {},
   "source": [
    "Now that we have created the data we would like to visualize, the next step is to set up the graph. We will use the `sns.barplot()` function to do this."
   ]
  },
  {
   "cell_type": "code",
   "execution_count": 30,
   "id": "fbd5904b-ad17-4a9e-9cba-9aba130b17bf",
   "metadata": {},
   "outputs": [
    {
     "data": {
      "image/png": "[encoded data removed]",
      "text/plain": [
       "<Figure size 432x288 with 1 Axes>"
      ]
     },
     "metadata": {
      "needs_background": "light"
     },
     "output_type": "display_data"
    }
   ],
   "source": [
    "#Uncomment this code to run it\n",
    "\n",
    "axes = sns.barplot(x = values, y = counts)"
   ]
  },
  {
   "cell_type": "markdown",
   "id": "a6b7202c-5614-4017-a664-3cee0c2c0c2e",
   "metadata": {},
   "source": [
    "Note that when you run this code, a graph displays *even though we have stored this information in an identifier*. That's because Jupyter notebooks has added in functionality which will automatically display graph-like objects. These graphs are highly customizable. We will spend the next part of this activity learning some of those customizations.\n",
    "\n",
    "First, rerun the code above and change the palette to `bright`. You can do this by adding a `palette = 'bright'` argument to the code above."
   ]
  },
  {
   "cell_type": "code",
   "execution_count": 31,
   "id": "040405c3-cdc5-4392-9d36-a9191719bbb6",
   "metadata": {},
   "outputs": [
    {
     "data": {
      "image/png": "[encoded data removed]",
      "text/plain": [
       "<Figure size 432x288 with 1 Axes>"
      ]
     },
     "metadata": {
      "needs_background": "light"
     },
     "output_type": "display_data"
    }
   ],
   "source": [
    "axes = sns.barplot(x = values, y = counts, palette = 'bright')"
   ]
  },
  {
   "cell_type": "markdown",
   "id": "2ec15c60-da91-4b51-afab-323dd08a1a60",
   "metadata": {},
   "source": [
    "`barplot` objects (and graph-like objects generally) have a number of methods associated to them that we can employ to customize our visualizations. Fill in the text below to add a title and axis labels to your graph. Note that the output text is simply stating where the labels/title will be located on the graph. To avoid this output, you can add `_ = ` to the beginning of the second line. This stores the value in the `_` identifier, which we use as a \"throw-away\" value of sorts.. "
   ]
  },
  {
   "cell_type": "code",
   "execution_count": 33,
   "id": "b0f6b4eb-ba26-402e-bd6f-b064475649aa",
   "metadata": {},
   "outputs": [
    {
     "data": {
      "text/plain": [
       "[Text(0.5, 1.0, 'Sum of Dice for 1000 Rolls'),\n",
       " Text(0.5, 0, 'Sum'),\n",
       " Text(0, 0.5, 'Count')]"
      ]
     },
     "execution_count": 33,
     "metadata": {},
     "output_type": "execute_result"
    },
    {
     "data": {
      "image/png": "[encoded data removed]",
      "text/plain": [
       "<Figure size 432x288 with 1 Axes>"
      ]
     },
     "metadata": {
      "needs_background": "light"
     },
     "output_type": "display_data"
    }
   ],
   "source": [
    "# Uncomment the code below\n",
    "\n",
    "axes = sns.barplot(x = values, y = counts, palette = 'bright')\n",
    "axes.set(title = f'Sum of Dice for 1000 Rolls', xlabel = 'Sum', ylabel = 'Count')"
   ]
  },
  {
   "cell_type": "markdown",
   "id": "73dddcb6-3afb-452c-9ad6-c1d0b3db1bfc",
   "metadata": {},
   "source": [
    "## On Your Own\n",
    "\n",
    "1. Repeat this same process with 10,000 and 100,000 simulations instead."
   ]
  },
  {
   "cell_type": "code",
   "execution_count": 41,
   "id": "86c5182a-7a4f-4df8-a678-167b497a6087",
   "metadata": {},
   "outputs": [
    {
     "name": "stdout",
     "output_type": "stream",
     "text": [
      "[ 2  3  4  5  6  7  8  9 10 11 12] [ 280  552  817 1099 1351 1683 1400 1095  842  590  291]\n"
     ]
    },
    {
     "data": {
      "image/png": "[encoded data removed]",
      "text/plain": [
       "<Figure size 432x288 with 1 Axes>"
      ]
     },
     "metadata": {
      "needs_background": "light"
     },
     "output_type": "display_data"
    }
   ],
   "source": [
    "#10,000 simulations\n",
    "\n",
    "sims10 = [twoDiceSum() for i in range(10000)]\n",
    "values, counts = np.unique(sims10, return_counts = True)\n",
    "print(values, counts)\n",
    "axes = sns.barplot(x = values, y = counts)"
   ]
  },
  {
   "cell_type": "code",
   "execution_count": 42,
   "id": "cd2a28dd-0d7e-4654-99f2-e2efaccee972",
   "metadata": {},
   "outputs": [
    {
     "name": "stdout",
     "output_type": "stream",
     "text": [
      "[ 2  3  4  5  6  7  8  9 10 11 12] [ 2778  5497  8283 11154 13847 16764 13876 11221  8325  5574  2681]\n"
     ]
    },
    {
     "data": {
      "image/png": "[encoded data removed]",
      "text/plain": [
       "<Figure size 432x288 with 1 Axes>"
      ]
     },
     "metadata": {
      "needs_background": "light"
     },
     "output_type": "display_data"
    }
   ],
   "source": [
    "#100,000 simulations\n",
    "\n",
    "sims100 = [twoDiceSum() for i in range(100000)]\n",
    "values, counts = np.unique(sims100, return_counts = True)\n",
    "print(values, counts)\n",
    "axes = sns.barplot(x = values, y = counts)"
   ]
  },
  {
   "cell_type": "markdown",
   "id": "d0bad599-1776-4679-9a24-4d2c8c7a52c7",
   "metadata": {},
   "source": [
    "2. Write a new function which rolls two dice and returns the *product* of the rolls. Then simulate 1000, 10000, and 100000 rolls and see what the distribution of the products is. "
   ]
  },
  {
   "cell_type": "code",
   "execution_count": 44,
   "id": "1969481a-8a26-414d-8c9c-69f18bfb91f0",
   "metadata": {},
   "outputs": [
    {
     "name": "stdout",
     "output_type": "stream",
     "text": [
      "[ 1  2  3  4  5  6  8  9 10 12 15 16 18 20 24 25 30 36] [ 2877  5553  5568  8313  5579 11161  5522  2871  5383 11108  5529  2755\n",
      "  5463  5575  5506  2903  5507  2827]\n"
     ]
    },
    {
     "data": {
      "image/png": "[encoded data removed]",
      "text/plain": [
       "<Figure size 432x288 with 1 Axes>"
      ]
     },
     "metadata": {
      "needs_background": "light"
     },
     "output_type": "display_data"
    }
   ],
   "source": [
    "def productTwoDice():\n",
    "    die1 = random.randrange(1,7)\n",
    "    die2 = random.randrange(1,7)\n",
    "    return die1*die2\n",
    "\n",
    "sims = [productTwoDice() for i in range(100000)]\n",
    "values, counts = np.unique(sims, return_counts = True)\n",
    "print(values, counts)\n",
    "axes = sns.barplot(x = values, y = counts)"
   ]
  },
  {
   "cell_type": "code",
   "execution_count": 45,
   "id": "c67aad9b",
   "metadata": {},
   "outputs": [
    {
     "name": "stdout",
     "output_type": "stream",
     "text": [
      "[ 1  2  3  4  5  6  8  9 10 12 15 16 18 20 24 25 30 36] [ 276  539  538  878  510 1136  543  281  533 1115  556  297  522  596\n",
      "  584  270  563  263]\n"
     ]
    },
    {
     "data": {
      "image/png": "[encoded data removed]",
      "text/plain": [
       "<Figure size 432x288 with 1 Axes>"
      ]
     },
     "metadata": {
      "needs_background": "light"
     },
     "output_type": "display_data"
    }
   ],
   "source": [
    "sims10 = [productTwoDice() for i in range(10000)]\n",
    "values, counts = np.unique(sims10, return_counts = True)\n",
    "print(values, counts)\n",
    "axes = sns.barplot(x = values, y = counts)"
   ]
  },
  {
   "cell_type": "code",
   "execution_count": 46,
   "id": "a84bc83b",
   "metadata": {},
   "outputs": [
    {
     "name": "stdout",
     "output_type": "stream",
     "text": [
      "[ 1  2  3  4  5  6  8  9 10 12 15 16 18 20 24 25 30 36] [ 2704  5573  5610  8350  5698 11038  5516  2792  5550 11047  5533  2743\n",
      "  5553  5590  5657  2853  5537  2656]\n"
     ]
    },
    {
     "data": {
      "image/png": "[encoded data removed]",
      "text/plain": [
       "<Figure size 432x288 with 1 Axes>"
      ]
     },
     "metadata": {
      "needs_background": "light"
     },
     "output_type": "display_data"
    }
   ],
   "source": [
    "sims100 = [productTwoDice() for i in range(100000)]\n",
    "values, counts = np.unique(sims100, return_counts = True)\n",
    "print(values, counts)\n",
    "axes = sns.barplot(x = values, y = counts)"
   ]
  },
  {
   "cell_type": "code",
   "execution_count": null,
   "id": "74900d44",
   "metadata": {},
   "outputs": [],
   "source": []
  }
 ],
 "metadata": {
  "kernelspec": {
   "display_name": "Python 3 (ipykernel)",
   "language": "python",
   "name": "python3"
  },
  "language_info": {
   "codemirror_mode": {
    "name": "ipython",
    "version": 3
   },
   "file_extension": ".py",
   "mimetype": "text/x-python",
   "name": "python",
   "nbconvert_exporter": "python",
   "pygments_lexer": "ipython3",
   "version": "3.9.12"
  }
 },
 "nbformat": 4,
 "nbformat_minor": 5
}
