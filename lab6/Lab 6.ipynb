{
 "cells": [
  {
   "cell_type": "markdown",
   "id": "a0f596d8-4d5f-42fd-8d84-b86e9e453eb7",
   "metadata": {},
   "source": [
    "## Instructions\n",
    "\n",
    "Answer the following questions. It behooves you to answer as much of each question as possible to receive some partial credit. You are advised to begin this lab early so that you have ample time to complete it. **Make sure that your code is commented appropriately to receive full credit on each problem**"
   ]
  },
  {
   "cell_type": "markdown",
   "id": "4f6acfa2-77dc-4996-8c78-77d295bdcb2f",
   "metadata": {},
   "source": [
    "## Assignment\n",
    "\n",
    "This assignment is worth 100 points. There are three sections to this homework assignment: a Fundamentals section, an Essentials section, and an Advanced section. You have all of the tools you need to complete all of the lab, but it is triaged for you to give you an idea of what you should focus on first."
   ]
  },
  {
   "cell_type": "markdown",
   "id": "9ca81fa7-c02c-4626-9a44-0baf16e8aac2",
   "metadata": {},
   "source": [
    "### Fundamentals (30 points)"
   ]
  },
  {
   "cell_type": "markdown",
   "id": "e420c4ce-3a6f-445b-bd90-460b9b48b350",
   "metadata": {},
   "source": [
    "1. (10 points) What types can a key be? What is the main difference between a key and a value?"
   ]
  },
  {
   "cell_type": "markdown",
   "id": "ab7e2235-a295-481b-a988-db06b3752e1b",
   "metadata": {},
   "source": [
    "  > Answer:"
   ]
  },
  {
   "cell_type": "markdown",
   "id": "3dc213e4-0421-4438-9c52-b696208f0512",
   "metadata": {},
   "source": [
    "2. (10 points) Why are arrays preferenced over lists in data science? "
   ]
  },
  {
   "cell_type": "markdown",
   "id": "c2e036af-b632-4dc9-9eea-706fa06a9098",
   "metadata": {},
   "source": [
    "  > Answer: "
   ]
  },
  {
   "cell_type": "markdown",
   "id": "5757175b-1344-4697-b977-f996d5b499cd",
   "metadata": {},
   "source": [
    "3. (10 points) What are the two main ways a set differs from a list?"
   ]
  },
  {
   "cell_type": "markdown",
   "id": "b24f9937-a218-4083-8bcb-669a9956a99c",
   "metadata": {},
   "source": [
    "> Answer:"
   ]
  },
  {
   "cell_type": "markdown",
   "id": "1ed07202-3a5a-43b7-b511-7864765f14ed",
   "metadata": {},
   "source": [
    "### Essentials (50 points)"
   ]
  },
  {
   "cell_type": "markdown",
   "id": "b58a7b28-9163-454c-b007-19bc559797da",
   "metadata": {},
   "source": [
    "4. (10 points) Given the following dictionary, update the code for `Hawaii` from `2` to `4`. "
   ]
  },
  {
   "cell_type": "code",
   "execution_count": 4,
   "id": "0b07a982-71f0-481e-9f9a-029a69183bdf",
   "metadata": {},
   "outputs": [
    {
     "name": "stdout",
     "output_type": "stream",
     "text": [
      "4\n"
     ]
    }
   ],
   "source": [
    "## Dictionary\n",
    "\n",
    "stateElectoralVotes = {'Alabama':9,'Montana':4,'Alaska':3, \n",
    "                       'Nebraska':5,'Arizona':11,'Nevada':6,\n",
    "                       'Arkansas':6,'New Hampshire':4,'California':54,\n",
    "                       'New Jersey':14,'Colorado':10,'New Mexico':5,\n",
    "                       'Connecticut':7,'New York':28,'Delaware':3,\n",
    "                       'North Carolina':16,'Florida':30,'North Dakota':3,\n",
    "                       'Georgia':16,'Ohio':17,'Hawaii':2,\n",
    "                       'Oklahoma':7,'Idaho':4,'Oregon':8,\n",
    "                       'Illinois':19,'Pennsylvania':19,'Indiana':11,\n",
    "                       'Rhode Island':4,'Iowa':6,'South Carolina':9,\n",
    "                       'Kansas':6,'South Dakota':3,'Kentucky':8,\n",
    "                       'Tennessee':11,'Louisiana':8,'Texas':40,\n",
    "                       'Maine':4,'Utah':6,'Maryland':10,\n",
    "                       'Vermont':3,'Massachusetts':11,'Virginia':13,\n",
    "                       'Michigan':15,'Washington':12,'Minnesota':10,\n",
    "                       'West Virginia':4,'Mississippi':6,'Wisconsin':10,\n",
    "                       'Missouri':10,'Wyoming':3}\n",
    "\n",
    "\n",
    "## Answer:\n",
    "\n",
    "stateElectoralVotes.update({'Hawaii': 4})\n",
    "print(stateElectoralVotes.get('Hawaii'))"
   ]
  },
  {
   "cell_type": "markdown",
   "id": "2f91d2c8-251d-4324-951a-7004953bb554",
   "metadata": {},
   "source": [
    "5. (10 points) For the dictionary above, use a dictionary comprehension to find all states with electoral votes greated than 10. "
   ]
  },
  {
   "cell_type": "code",
   "execution_count": 7,
   "id": "569fe0af-4426-4210-93c7-340e21026f80",
   "metadata": {},
   "outputs": [
    {
     "name": "stdout",
     "output_type": "stream",
     "text": [
      "{'Arizona': 11, 'California': 54, 'New Jersey': 14, 'New York': 28, 'North Carolina': 16, 'Florida': 30, 'Georgia': 16, 'Ohio': 17, 'Illinois': 19, 'Pennsylvania': 19, 'Indiana': 11, 'Tennessee': 11, 'Texas': 40, 'Massachusetts': 11, 'Virginia': 13, 'Michigan': 15, 'Washington': 12}\n"
     ]
    }
   ],
   "source": [
    "## Answer\n",
    "\n",
    "bigStateVotes = {state:vote for state,vote in stateElectoralVotes.items() if vote > 10}\n",
    "print(bigStateVotes)"
   ]
  },
  {
   "cell_type": "markdown",
   "id": "3a9368c6-dd7e-4257-98e6-486f40029c7b",
   "metadata": {},
   "source": [
    "6. (15 points) Create a dictionary where the keys are the numbers 1 through 100 and the values are a list of the keys' divisors. For instance one key:value pair would be 26:[1,2,13,26]"
   ]
  },
  {
   "cell_type": "code",
   "execution_count": 22,
   "id": "dc082148-ce86-49d9-8076-1d8dd1f569b0",
   "metadata": {},
   "outputs": [
    {
     "name": "stdout",
     "output_type": "stream",
     "text": [
      "{1: [1], 2: [1, 2], 3: [1, 3], 4: [1, 2, 4], 5: [1, 5], 6: [1, 2, 3, 6], 7: [1, 7], 8: [1, 2, 4, 8], 9: [1, 3, 9], 10: [1, 2, 5, 10], 11: [1, 11], 12: [1, 2, 3, 4, 6, 12], 13: [1, 13], 14: [1, 2, 7, 14], 15: [1, 3, 5, 15], 16: [1, 2, 4, 8, 16], 17: [1, 17], 18: [1, 2, 3, 6, 9, 18], 19: [1, 19], 20: [1, 2, 4, 5, 10, 20], 21: [1, 3, 7, 21], 22: [1, 2, 11, 22], 23: [1, 23], 24: [1, 2, 3, 4, 6, 8, 12, 24], 25: [1, 5, 25], 26: [1, 2, 13, 26], 27: [1, 3, 9, 27], 28: [1, 2, 4, 7, 14, 28], 29: [1, 29], 30: [1, 2, 3, 5, 6, 10, 15, 30], 31: [1, 31], 32: [1, 2, 4, 8, 16, 32], 33: [1, 3, 11, 33], 34: [1, 2, 17, 34], 35: [1, 5, 7, 35], 36: [1, 2, 3, 4, 6, 9, 12, 18, 36], 37: [1, 37], 38: [1, 2, 19, 38], 39: [1, 3, 13, 39], 40: [1, 2, 4, 5, 8, 10, 20, 40], 41: [1, 41], 42: [1, 2, 3, 6, 7, 14, 21, 42], 43: [1, 43], 44: [1, 2, 4, 11, 22, 44], 45: [1, 3, 5, 9, 15, 45], 46: [1, 2, 23, 46], 47: [1, 47], 48: [1, 2, 3, 4, 6, 8, 12, 16, 24, 48], 49: [1, 7, 49], 50: [1, 2, 5, 10, 25, 50], 51: [1, 3, 17, 51], 52: [1, 2, 4, 13, 26, 52], 53: [1, 53], 54: [1, 2, 3, 6, 9, 18, 27, 54], 55: [1, 5, 11, 55], 56: [1, 2, 4, 7, 8, 14, 28, 56], 57: [1, 3, 19, 57], 58: [1, 2, 29, 58], 59: [1, 59], 60: [1, 2, 3, 4, 5, 6, 10, 12, 15, 20, 30, 60], 61: [1, 61], 62: [1, 2, 31, 62], 63: [1, 3, 7, 9, 21, 63], 64: [1, 2, 4, 8, 16, 32, 64], 65: [1, 5, 13, 65], 66: [1, 2, 3, 6, 11, 22, 33, 66], 67: [1, 67], 68: [1, 2, 4, 17, 34, 68], 69: [1, 3, 23, 69], 70: [1, 2, 5, 7, 10, 14, 35, 70], 71: [1, 71], 72: [1, 2, 3, 4, 6, 8, 9, 12, 18, 24, 36, 72], 73: [1, 73], 74: [1, 2, 37, 74], 75: [1, 3, 5, 15, 25, 75], 76: [1, 2, 4, 19, 38, 76], 77: [1, 7, 11, 77], 78: [1, 2, 3, 6, 13, 26, 39, 78], 79: [1, 79], 80: [1, 2, 4, 5, 8, 10, 16, 20, 40, 80], 81: [1, 3, 9, 27, 81], 82: [1, 2, 41, 82], 83: [1, 83], 84: [1, 2, 3, 4, 6, 7, 12, 14, 21, 28, 42, 84], 85: [1, 5, 17, 85], 86: [1, 2, 43, 86], 87: [1, 3, 29, 87], 88: [1, 2, 4, 8, 11, 22, 44, 88], 89: [1, 89], 90: [1, 2, 3, 5, 6, 9, 10, 15, 18, 30, 45, 90], 91: [1, 7, 13, 91], 92: [1, 2, 4, 23, 46, 92], 93: [1, 3, 31, 93], 94: [1, 2, 47, 94], 95: [1, 5, 19, 95], 96: [1, 2, 3, 4, 6, 8, 12, 16, 24, 32, 48, 96], 97: [1, 97], 98: [1, 2, 7, 14, 49, 98], 99: [1, 3, 9, 11, 33, 99], 100: [1, 2, 4, 5, 10, 20, 25, 50, 100]}\n"
     ]
    }
   ],
   "source": [
    "## Answer\n",
    "\n",
    "newDict = {}\n",
    "\n",
    "for key in range(1,101):\n",
    "    divisors = []\n",
    "    for value in range(1,key+1):\n",
    "        if(key%value==0):\n",
    "            divisors.append(value)\n",
    "    newDict.update({key:divisors})\n",
    "            \n",
    "print(newDict)"
   ]
  },
  {
   "cell_type": "markdown",
   "id": "5abbe5ea-a448-43f5-82b2-098109e49134",
   "metadata": {},
   "source": [
    "7. (15 points) The following code reads in Romeo and Juliet. Run it now. (You might have trouble running this on your personal computer, so using the Keck lab computers is advised.)"
   ]
  },
  {
   "cell_type": "code",
   "execution_count": 1,
   "id": "b33a8fb6-291a-4ae4-9843-cfcdae2424c0",
   "metadata": {},
   "outputs": [],
   "source": [
    "# Code to read in Romeo and Juliet\n",
    "\n",
    "# Open a file- read it into a string and turn it directly into a TextBlob\n",
    "file=open(\"romeoJuliet.txt\", 'r')\n",
    "dataString=file.read()\n",
    "file.close()\n",
    "\n",
    "dataString=dataString.replace(\"â€™\",'')\n",
    "\n",
    "start = dataString.index('ACT I')\n",
    "\n",
    "warAndPeace= dataString[start:]\n",
    "\n",
    "replacelist = ['\\n','\\r','.','-','\"',';',',','?','!']\n",
    "\n",
    "for item in replacelist:\n",
    "    warAndPeace = warAndPeace.replace(item,' ')\n",
    "\n",
    "words = [item.lower() for item in warAndPeace.split(' ') if item != '']"
   ]
  },
  {
   "cell_type": "markdown",
   "id": "e8ab7c88-677b-4df7-9b6c-c48054277c97",
   "metadata": {},
   "source": [
    "The variable `words` now contains a list of every (duplicated) word in Romeo and Juliet. Make a dictionary where the keys are each word that appears in Romeo and Juliet and the values are the number of times that word appears."
   ]
  },
  {
   "cell_type": "code",
   "execution_count": 26,
   "id": "6a7b34aa-ea8b-4047-b49e-2b73522db2cd",
   "metadata": {},
   "outputs": [],
   "source": [
    "## Answer\n",
    "\n",
    "romeoAndJuliet = {word:words.count(word) for word in words}\n",
    "# print(romeoAndJuliet)"
   ]
  },
  {
   "cell_type": "markdown",
   "id": "4f2d9ef1-2754-45a0-844c-686f64e64966",
   "metadata": {},
   "source": [
    "### Advanced (20 points)"
   ]
  },
  {
   "cell_type": "markdown",
   "id": "f5e4cff0-4cd2-4b06-9da5-a984767467b2",
   "metadata": {},
   "source": [
    "8. (20 points) Sally invited 17 guests to a dance party at her estate in the Hamptons. She assigned each guest a number from 2 to 18, keeping 1 for herself.At one point in the evening when everyone was dancing, Sally noticed the sum of each couple’s numbers was a perfect square. Everyone was wearing their numbers on their clothing. The question is, what was the number of Sally’s partner?\n",
    "\n",
    "      > Here’s a reminder: a perfect square is attained by squaring, or multiplying by itself, an integer. So four is a perfect square of two. Nine is a perfect square of three. Sixteen is a perfect square of four.\n",
    "      \n",
    "    + First, create a function which determines if a number is a perfect square."
   ]
  },
  {
   "cell_type": "code",
   "execution_count": 2,
   "id": "5827191c-02c1-4c86-abd7-22646ee27eaa",
   "metadata": {},
   "outputs": [
    {
     "name": "stdout",
     "output_type": "stream",
     "text": [
      "True\n"
     ]
    }
   ],
   "source": [
    "## Function\n",
    "import math\n",
    "\n",
    "def perfectSquare(num):\n",
    "    if(int(math.sqrt(num))==math.sqrt(num)):\n",
    "        return True\n",
    "    else:\n",
    "        return False\n",
    "    \n",
    "\n",
    "print(perfectSquare(9))"
   ]
  },
  {
   "cell_type": "markdown",
   "id": "231f12d9-fd39-4d88-aedd-4f461aedf75e",
   "metadata": {},
   "source": [
    "+ Next, for dancer 1 through 18, determine what dancers they could possibly be paired with. For instance,  Sally (Dancer 1) could only be paired with dancers 3, 8, and 15 as those numbers are the only ones that add up to a perfect square when added to 1. \n",
    "\n",
    "    > Hint: Use your function from the previous problem and store this information in a dictionary!"
   ]
  },
  {
   "cell_type": "code",
   "execution_count": 3,
   "id": "247df19c-c03a-4fed-b7dc-8573f46b7908",
   "metadata": {},
   "outputs": [
    {
     "name": "stdout",
     "output_type": "stream",
     "text": [
      "{1: [3, 8, 15], 2: [7, 14], 3: [1, 6, 13], 4: [5, 12], 5: [4, 11], 6: [3, 10], 7: [2, 9, 18], 8: [1, 17], 9: [7, 16], 10: [6, 15], 11: [5, 14], 12: [4, 13], 13: [3, 12], 14: [2, 11], 15: [1, 10], 16: [9], 17: [8], 18: [7]}\n"
     ]
    }
   ],
   "source": [
    "## Dictionary Creation\n",
    "\n",
    "dancers = {}\n",
    "\n",
    "for dancer in range(1, 19):\n",
    "    partners = []\n",
    "    for num in range(1, 19):\n",
    "        if perfectSquare(dancer+num) and dancer!=num:\n",
    "            partners.append(num)\n",
    "    dancers.update({dancer:partners})\n",
    "    \n",
    "print(dancers)"
   ]
  },
  {
   "cell_type": "markdown",
   "id": "8284b5bf-3292-4e8c-9051-125ffd2528bc",
   "metadata": {},
   "source": [
    "+ Finally, we will determine Sally's partner. If you print out the dictionary, you will notice that some numbers only have one option. Dancer 18, for instance, can only be paired with Dancer 7. Thus, 7 and 18 must be paired together. Figuring out what to do from here is up to you! "
   ]
  },
  {
   "cell_type": "code",
   "execution_count": 4,
   "id": "0bf20781-11e3-44ff-aeda-56da4a9ac692",
   "metadata": {},
   "outputs": [
    {
     "name": "stdout",
     "output_type": "stream",
     "text": [
      "{}\n",
      "{16: 9, 17: 8, 18: 7, 2: 14, 9: 16, 11: 5, 4: 12, 13: 3, 1: 15, 6: 10, 10: 6, 15: 1, 3: 13, 8: 17, 12: 4, 5: 11, 14: 2, 7: 18}\n"
     ]
    }
   ],
   "source": [
    "## Sally's dance partner\n",
    "\n",
    "pairs = {}\n",
    "while dancers:\n",
    "    \n",
    "    for key, val in dancers.items():\n",
    "        if len(val) == 1:\n",
    "            pairs.update({key : val[0]})\n",
    "            \n",
    "            dancers.pop(key)\n",
    "            for key1, val1 in dancers.items():\n",
    "                if val[0] in val1:\n",
    "                    val1.remove(val[0])\n",
    "                    \n",
    "            break\n",
    "        \n",
    "\n",
    "print(dancers)\n",
    "print(pairs)"
   ]
  },
  {
   "cell_type": "markdown",
   "id": "524d0659",
   "metadata": {},
   "source": [
    "Sally's Partner is dancer 15"
   ]
  },
  {
   "cell_type": "code",
   "execution_count": null,
   "id": "f29fea43",
   "metadata": {},
   "outputs": [],
   "source": []
  }
 ],
 "metadata": {
  "kernelspec": {
   "display_name": "Python 3 (ipykernel)",
   "language": "python",
   "name": "python3"
  },
  "language_info": {
   "codemirror_mode": {
    "name": "ipython",
    "version": 3
   },
   "file_extension": ".py",
   "mimetype": "text/x-python",
   "name": "python",
   "nbconvert_exporter": "python",
   "pygments_lexer": "ipython3",
   "version": "3.9.7"
  }
 },
 "nbformat": 4,
 "nbformat_minor": 5
}
