{
 "cells": [
  {
   "cell_type": "markdown",
   "id": "a0f596d8-4d5f-42fd-8d84-b86e9e453eb7",
   "metadata": {},
   "source": [
    "## Instructions\n",
    "\n",
    "Answer the following questions. It behooves you to answer as much of each question as possible to receive some partial credit. You are advised to begin this lab early so that you have ample time to complete it. **Make sure that your code is commented appropriately to receive full credit on each problem**"
   ]
  },
  {
   "cell_type": "markdown",
   "id": "4f6acfa2-77dc-4996-8c78-77d295bdcb2f",
   "metadata": {},
   "source": [
    "## Assignment\n",
    "\n",
    "This assignment is worth 100 points. There are three sections to this homework assignment: a Fundamentals section, an Essentials section, and an Advanced section. You have all of the tools you need to complete all of the lab, but it is triaged for you to give you an idea of what you should focus on first."
   ]
  },
  {
   "cell_type": "markdown",
   "id": "9ca81fa7-c02c-4626-9a44-0baf16e8aac2",
   "metadata": {},
   "source": [
    "### Fundamentals (30 points)"
   ]
  },
  {
   "cell_type": "markdown",
   "id": "e420c4ce-3a6f-445b-bd90-460b9b48b350",
   "metadata": {},
   "source": [
    "1. (10 points) What types can a key be? What is the main difference between a key and a value?"
   ]
  },
  {
   "cell_type": "markdown",
   "id": "ab7e2235-a295-481b-a988-db06b3752e1b",
   "metadata": {},
   "source": [
    "  > Answer:"
   ]
  },
  {
   "cell_type": "markdown",
   "id": "3dc213e4-0421-4438-9c52-b696208f0512",
   "metadata": {},
   "source": [
    "2. (10 points) Why are arrays preferenced over lists in data science? "
   ]
  },
  {
   "cell_type": "markdown",
   "id": "c2e036af-b632-4dc9-9eea-706fa06a9098",
   "metadata": {},
   "source": [
    "  > Answer: "
   ]
  },
  {
   "cell_type": "markdown",
   "id": "5757175b-1344-4697-b977-f996d5b499cd",
   "metadata": {},
   "source": [
    "3. (10 points) What are the two main ways a set differs from a list?"
   ]
  },
  {
   "cell_type": "markdown",
   "id": "b24f9937-a218-4083-8bcb-669a9956a99c",
   "metadata": {},
   "source": [
    "> Answer:"
   ]
  },
  {
   "cell_type": "markdown",
   "id": "1ed07202-3a5a-43b7-b511-7864765f14ed",
   "metadata": {},
   "source": [
    "### Essentials (50 points)"
   ]
  },
  {
   "cell_type": "markdown",
   "id": "b58a7b28-9163-454c-b007-19bc559797da",
   "metadata": {},
   "source": [
    "4. (10 points) Given the following dictionary, update the code for `Hawaii` from `2` to `4`. "
   ]
  },
  {
   "cell_type": "code",
   "execution_count": 2,
   "id": "0b07a982-71f0-481e-9f9a-029a69183bdf",
   "metadata": {},
   "outputs": [
    {
     "ename": "TypeError",
     "evalue": "cannot convert dictionary update sequence element #0 to a sequence",
     "output_type": "error",
     "traceback": [
      "\u001b[0;31m---------------------------------------------------------------------------\u001b[0m",
      "\u001b[0;31mTypeError\u001b[0m                                 Traceback (most recent call last)",
      "\u001b[0;32m/var/folders/d1/22hjkymd3j7313hjqwt_dtyjm48_26/T/ipykernel_18524/2481366846.py\u001b[0m in \u001b[0;36m<module>\u001b[0;34m\u001b[0m\n\u001b[1;32m     22\u001b[0m \u001b[0;31m## Answer:\u001b[0m\u001b[0;34m\u001b[0m\u001b[0;34m\u001b[0m\u001b[0m\n\u001b[1;32m     23\u001b[0m \u001b[0;34m\u001b[0m\u001b[0m\n\u001b[0;32m---> 24\u001b[0;31m \u001b[0mstateElectoralVotes\u001b[0m\u001b[0;34m.\u001b[0m\u001b[0mupdate\u001b[0m\u001b[0;34m(\u001b[0m\u001b[0;34m{\u001b[0m\u001b[0;34m'Hawaii'\u001b[0m\u001b[0;34m,\u001b[0m \u001b[0;36m4\u001b[0m\u001b[0;34m}\u001b[0m\u001b[0;34m)\u001b[0m\u001b[0;34m\u001b[0m\u001b[0;34m\u001b[0m\u001b[0m\n\u001b[0m",
      "\u001b[0;31mTypeError\u001b[0m: cannot convert dictionary update sequence element #0 to a sequence"
     ]
    }
   ],
   "source": [
    "## Dictionary\n",
    "\n",
    "stateElectoralVotes = {'Alabama':9,'Montana':4,'Alaska':3, \n",
    "                       'Nebraska':5,'Arizona':11,'Nevada':6,\n",
    "                       'Arkansas':6,'New Hampshire':4,'California':54,\n",
    "                       'New Jersey':14,'Colorado':10,'New Mexico':5,\n",
    "                       'Connecticut':7,'New York':28,'Delaware':3,\n",
    "                       'North Carolina':16,'Florida':30,'North Dakota':3,\n",
    "                       'Georgia':16,'Ohio':17,'Hawaii':2,\n",
    "                       'Oklahoma':7,'Idaho':4,'Oregon':8,\n",
    "                       'Illinois':19,'Pennsylvania':19,'Indiana':11,\n",
    "                       'Rhode Island':4,'Iowa':6,'South Carolina':9,\n",
    "                       'Kansas':6,'South Dakota':3,'Kentucky':8,\n",
    "                       'Tennessee':11,'Louisiana':8,'Texas':40,\n",
    "                       'Maine':4,'Utah':6,'Maryland':10,\n",
    "                       'Vermont':3,'Massachusetts':11,'Virginia':13,\n",
    "                       'Michigan':15,'Washington':12,'Minnesota':10,\n",
    "                       'West Virginia':4,'Mississippi':6,'Wisconsin':10,\n",
    "                       'Missouri':10,'Wyoming':3}\n",
    "\n",
    "\n",
    "## Answer:\n",
    "\n",
    "stateElectoralVotes.update({'Hawaii', 4})"
   ]
  },
  {
   "cell_type": "markdown",
   "id": "2f91d2c8-251d-4324-951a-7004953bb554",
   "metadata": {},
   "source": [
    "5. (10 points) For the dictionary above, use a dictionary comprehension to find all states with electoral votes greated than 10. "
   ]
  },
  {
   "cell_type": "code",
   "execution_count": 22,
   "id": "569fe0af-4426-4210-93c7-340e21026f80",
   "metadata": {},
   "outputs": [],
   "source": [
    "## Answer\n",
    "\n"
   ]
  },
  {
   "cell_type": "markdown",
   "id": "3a9368c6-dd7e-4257-98e6-486f40029c7b",
   "metadata": {},
   "source": [
    "6. (15 points) Create a dictionary where the keys are the numbers 1 through 100 and the values are a list of the keys' divisors. For instance one key:value pair would be 26:[1,2,13,26]"
   ]
  },
  {
   "cell_type": "code",
   "execution_count": null,
   "id": "dc082148-ce86-49d9-8076-1d8dd1f569b0",
   "metadata": {},
   "outputs": [],
   "source": [
    "## Answer"
   ]
  },
  {
   "cell_type": "markdown",
   "id": "5abbe5ea-a448-43f5-82b2-098109e49134",
   "metadata": {},
   "source": [
    "7. (15 points) The following code reads in Romeo and Juliet. Run it now. (You might have trouble running this on your personal computer, so using the Keck lab computers is advised.)"
   ]
  },
  {
   "cell_type": "code",
   "execution_count": 5,
   "id": "b33a8fb6-291a-4ae4-9843-cfcdae2424c0",
   "metadata": {},
   "outputs": [],
   "source": [
    "# Code to read in Romeo and Juliet\n",
    "from textblob import TextBlob\n",
    "\n",
    "# Open a file- read it into a string and turn it directly into a TextBlob\n",
    "file=open(\"romeoJuliet.txt\")\n",
    "dataString=TextBlob(file.read().lower())\n",
    "file.close()\n",
    "\n",
    "dataString=dataString.replace(\"â€™\",'')\n",
    "\n",
    "words = dataString.words"
   ]
  },
  {
   "cell_type": "markdown",
   "id": "e8ab7c88-677b-4df7-9b6c-c48054277c97",
   "metadata": {},
   "source": [
    "The variable `words` now contains a list of every (duplicated) word in Romeo and Juliet. Make a dictionary where the keys are each word that appears in Romeo and Juliet and the values are the number of times that word appears."
   ]
  },
  {
   "cell_type": "code",
   "execution_count": 15,
   "id": "6a7b34aa-ea8b-4047-b49e-2b73522db2cd",
   "metadata": {},
   "outputs": [],
   "source": [
    "## Answer"
   ]
  },
  {
   "cell_type": "markdown",
   "id": "4f2d9ef1-2754-45a0-844c-686f64e64966",
   "metadata": {},
   "source": [
    "### Advanced (20 points)"
   ]
  },
  {
   "cell_type": "markdown",
   "id": "f5e4cff0-4cd2-4b06-9da5-a984767467b2",
   "metadata": {},
   "source": [
    "8. (20 points) Sally invited 17 guests to a dance party at her estate in the Hamptons. She assigned each guest a number from 2 to 18, keeping 1 for herself.At one point in the evening when everyone was dancing, Sally noticed the sum of each couple’s numbers was a perfect square. Everyone was wearing their numbers on their clothing. The question is, what was the number of Sally’s partner?\n",
    "\n",
    "      > Here’s a reminder: a perfect square is attained by squaring, or multiplying by itself, an integer. So four is a perfect square of two. Nine is a perfect square of three. Sixteen is a perfect square of four.\n",
    "      \n",
    "    + First, create a function which determines if a number is a perfect square."
   ]
  },
  {
   "cell_type": "code",
   "execution_count": 111,
   "id": "5827191c-02c1-4c86-abd7-22646ee27eaa",
   "metadata": {},
   "outputs": [],
   "source": [
    "## Function"
   ]
  },
  {
   "cell_type": "markdown",
   "id": "231f12d9-fd39-4d88-aedd-4f461aedf75e",
   "metadata": {},
   "source": [
    "+ Next, for dancer 1 through 18, determine what dancers they could possibly be paired with. For instance,  Sally (Dancer 1) could only be paired with dancers 3, 8, and 15 as those numbers are the only ones that add up to a perfect square when added to 1. \n",
    "\n",
    "    > Hint: Use your function from the previous problem and store this information in a dictionary!"
   ]
  },
  {
   "cell_type": "code",
   "execution_count": 2,
   "id": "247df19c-c03a-4fed-b7dc-8573f46b7908",
   "metadata": {},
   "outputs": [],
   "source": [
    "## Dictionary Creation"
   ]
  },
  {
   "cell_type": "markdown",
   "id": "8284b5bf-3292-4e8c-9051-125ffd2528bc",
   "metadata": {},
   "source": [
    "+ Finally, we will determine Sally's partner. If you print out the dictionary, you will notice that some numbers only have one option. Dancer 18, for instance, can only be paired with Dancer 7. Thus, 7 and 18 must be paired together. Figuring out what to do from here is up to you! "
   ]
  },
  {
   "cell_type": "code",
   "execution_count": 1,
   "id": "0bf20781-11e3-44ff-aeda-56da4a9ac692",
   "metadata": {},
   "outputs": [],
   "source": [
    "## Sally's dance partner"
   ]
  }
 ],
 "metadata": {
  "kernelspec": {
   "display_name": "Python 3 (ipykernel)",
   "language": "python",
   "name": "python3"
  },
  "language_info": {
   "codemirror_mode": {
    "name": "ipython",
    "version": 3
   },
   "file_extension": ".py",
   "mimetype": "text/x-python",
   "name": "python",
   "nbconvert_exporter": "python",
   "pygments_lexer": "ipython3",
   "version": "3.9.12"
  }
 },
 "nbformat": 4,
 "nbformat_minor": 5
}
