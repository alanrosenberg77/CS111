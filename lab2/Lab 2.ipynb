{
 "cells": [
  {
   "cell_type": "markdown",
   "id": "a0f596d8-4d5f-42fd-8d84-b86e9e453eb7",
   "metadata": {},
   "source": [
    "## Instructions\n",
    "\n",
    "Answer the following questions. It behooves you to answer as much of each question as possible to receive some partial credit. You are advised to begin this lab early so that you have ample time to complete it."
   ]
  },
  {
   "cell_type": "markdown",
   "id": "4f6acfa2-77dc-4996-8c78-77d295bdcb2f",
   "metadata": {},
   "source": [
    "## Assignment\n",
    "\n",
    "This assignment is worth 100 points. There are three sections to this homework assignment: a Fundamentals section, an Essentials section, and an Advanced section. You have all of the tools you need to complete all of the lab, but it is triaged for you to give you an idea of what you should focus on first."
   ]
  },
  {
   "cell_type": "markdown",
   "id": "9ca81fa7-c02c-4626-9a44-0baf16e8aac2",
   "metadata": {},
   "source": [
    "### Fundamentals (30 points)"
   ]
  },
  {
   "cell_type": "markdown",
   "id": "e420c4ce-3a6f-445b-bd90-460b9b48b350",
   "metadata": {},
   "source": [
    "1. (10 points) Explain the difference between an `else` statement and an `elif` statement. When would you use an `else` statement over an `elif` statement?"
   ]
  },
  {
   "cell_type": "markdown",
   "id": "ab7e2235-a295-481b-a988-db06b3752e1b",
   "metadata": {},
   "source": [
    "  > Answer:"
   ]
  },
  {
   "cell_type": "markdown",
   "id": "3dc213e4-0421-4438-9c52-b696208f0512",
   "metadata": {},
   "source": [
    "2. (10 points) Explain the difference between a `for` loop and a `while` loop. When would you use a `for` loop? A `while` loop?"
   ]
  },
  {
   "cell_type": "markdown",
   "id": "c2e036af-b632-4dc9-9eea-706fa06a9098",
   "metadata": {},
   "source": [
    "  > Answer: "
   ]
  },
  {
   "cell_type": "markdown",
   "id": "5757175b-1344-4697-b977-f996d5b499cd",
   "metadata": {},
   "source": [
    "3. (10 points) What do the `break` and `continue` statements do in a loop? Give an example of when you would use each."
   ]
  },
  {
   "cell_type": "markdown",
   "id": "a2a71caa-d6b4-4e8d-ae27-ade05be17140",
   "metadata": {},
   "source": [
    " >Answer:"
   ]
  },
  {
   "cell_type": "markdown",
   "id": "1ed07202-3a5a-43b7-b511-7864765f14ed",
   "metadata": {},
   "source": [
    "### Essentials (50 points)"
   ]
  },
  {
   "cell_type": "markdown",
   "id": "b58a7b28-9163-454c-b007-19bc559797da",
   "metadata": {},
   "source": [
    "4. (10 points) Write an algorithm that prompts the user for 2 text strings.  Then calculate and print the number of matching characters as you progress from the left to the right (from position 0).  For example, if the user provides \"hello\" and \"help\" your final answer should be 3.  If the user provides   \"hell\" and \"hello\" your final answer should be 4.\n",
    "\n",
    "    Your algorithm needs to work when comparing same size strings (same length) and differing size strings in any order. \n",
    "\n",
    "    >Hint 1:  Use a loop to compare the characters up to length of the shortest string.   Be careful to terminate after exhausting your shorter string.   You MUST NOT continue to compare beyond the last character of the shorter string.\n",
    "    >Hint 2: You can access individual characters in a string the same way you can access individual items in a list by using `nameOfString[i]`."
   ]
  },
  {
   "cell_type": "code",
   "execution_count": 5,
   "id": "0b07a982-71f0-481e-9f9a-029a69183bdf",
   "metadata": {},
   "outputs": [
    {
     "name": "stdin",
     "output_type": "stream",
     "text": [
      "Give a string:  hello\n",
      "Give another string:  hell\n"
     ]
    },
    {
     "name": "stdout",
     "output_type": "stream",
     "text": [
      "4\n"
     ]
    }
   ],
   "source": [
    "## Answer:\n",
    "\n",
    "str1 = input('Give a string: ')\n",
    "str2 = input('Give another string: ')\n",
    "\n",
    "if(len(str1)>len(str2)):\n",
    "    length = len(str2)\n",
    "else:\n",
    "    length = len(str1)\n",
    "\n",
    "matches = 0\n",
    "for i in range(length):\n",
    "    if str1[i] is str2[i]:\n",
    "        matches+=1\n",
    "\n",
    "print(matches)"
   ]
  },
  {
   "cell_type": "markdown",
   "id": "2f91d2c8-251d-4324-951a-7004953bb554",
   "metadata": {},
   "source": [
    "5. (10 points) Implement the following algorithm in python.  The algorithm derives the $log_2{(num)}$ by counting how many times we can divide num by 2 until our num shrinks to 1.  Pseudo code is given below.\n",
    "\n",
    "    + prompt the user for an integer (num)\n",
    "    + declare an integer (count) and initialize it to be 0\n",
    "    + while our number (num) is larger than 1 do the following:\n",
    "         + add 1 to our count variable\n",
    "         + update our num to be half as big (dividing num by 2 ... integer division)\n",
    "    + output/print the final value of count."
   ]
  },
  {
   "cell_type": "markdown",
   "id": "0f97d1d0-6d8a-484a-839a-4f8e4a4a0ccc",
   "metadata": {},
   "source": [
    "> For example,  if we start with num = 8.... we will increment our count to 1 and update num to 4 and repeat the body of our while loop.   count increments to 2 and num updates to 2.   Then again, count increments to 3 and num updates to 1.   Since num is no longer > 1 (it is now equal to 1) the while loop exits.  And our algorithm shows the final answer as 3.  In other words, $ 2^3 = 8 $   or  $ log_2{(8)} = 3 $.\n"
   ]
  },
  {
   "cell_type": "code",
   "execution_count": 9,
   "id": "569fe0af-4426-4210-93c7-340e21026f80",
   "metadata": {},
   "outputs": [
    {
     "name": "stdin",
     "output_type": "stream",
     "text": [
      "Give number:  512\n"
     ]
    },
    {
     "name": "stdout",
     "output_type": "stream",
     "text": [
      "9\n"
     ]
    }
   ],
   "source": [
    "## Answer\n",
    "\n",
    "num = int(input('Give number: '))\n",
    "count = 0\n",
    "\n",
    "while(num > 1):\n",
    "    count += 1\n",
    "    num /= 2\n",
    "    \n",
    "print(count)"
   ]
  },
  {
   "cell_type": "markdown",
   "id": "3a9368c6-dd7e-4257-98e6-486f40029c7b",
   "metadata": {},
   "source": [
    "6. (10 points) Use iteration to print all of the divisors of a number -- N -- obtained from the human user.   \n",
    "\n",
    "> Note: X is a **divisor** of N if the remainder is zero after you divide N by X."
   ]
  },
  {
   "cell_type": "code",
   "execution_count": 14,
   "id": "429c83e3-6faf-4382-b157-0957a01c2a20",
   "metadata": {},
   "outputs": [
    {
     "name": "stdin",
     "output_type": "stream",
     "text": [
      "Give number:  127\n"
     ]
    },
    {
     "name": "stdout",
     "output_type": "stream",
     "text": [
      "1\n",
      "127\n"
     ]
    }
   ],
   "source": [
    "## Answer\n",
    "\n",
    "n = int(input('Give number: '))\n",
    "x = 1\n",
    "\n",
    "while(x<=n):\n",
    "    if(n%x==0):\n",
    "        print(x)\n",
    "    x+=1"
   ]
  },
  {
   "cell_type": "markdown",
   "id": "5abbe5ea-a448-43f5-82b2-098109e49134",
   "metadata": {},
   "source": [
    "7. (10 points) As activity director at the Austin College Club in Texas, it is your job to suggest appropriate activities to guests based on the weather: \n",
    "\n",
    "-  when temp is 80 and above: go swimming in Lake Texoma\n",
    "-  when temp is 60 and above but less than 80:  play tennis\n",
    "-  when temp is 40 and above but less than 60:  play golf\n",
    "-  when temp is less than 40: go skiing on the Grand Ave Overpass\n",
    "\n",
    "   \n",
    "    1.\tWrite a Python algorithm that prompts the user for a temperature, then prints out the activity appropriate for that temperature. Use a cascading **if-elif-else** control structure, and be sure that your conditions are no more complex than necessary.\n",
    "\n",
    "    2.\tModify your program so that if the temperature if greater than 95 or less than 20, it prints \"Visit our campus bookstore!\". ( Hint: Use a compound boolean expression )"
   ]
  },
  {
   "cell_type": "code",
   "execution_count": 20,
   "id": "b33a8fb6-291a-4ae4-9843-cfcdae2424c0",
   "metadata": {},
   "outputs": [
    {
     "name": "stdin",
     "output_type": "stream",
     "text": [
      "What is the temperature?  20\n"
     ]
    },
    {
     "name": "stdout",
     "output_type": "stream",
     "text": [
      "go skiing on the Grand Ave Overpass\n"
     ]
    }
   ],
   "source": [
    "## Answer Part 1\n",
    "\n",
    "temp = int(input('What is the temperature? '))\n",
    "\n",
    "if(temp>=80):\n",
    "    print('Go swimming in Lake Texoma')\n",
    "elif(temp<80 and temp>=60):\n",
    "    print('play tennis')\n",
    "elif(temp<60 and temp>=40):\n",
    "    print('play golf')\n",
    "else:\n",
    "    print('go skiing on the Grand Ave Overpass')"
   ]
  },
  {
   "cell_type": "code",
   "execution_count": 31,
   "id": "9135d1e9-cf51-4499-af9d-2fb9d8cce570",
   "metadata": {},
   "outputs": [
    {
     "name": "stdin",
     "output_type": "stream",
     "text": [
      "What is the temperature?  15\n"
     ]
    },
    {
     "name": "stdout",
     "output_type": "stream",
     "text": [
      "visit our campus bookstore!\n"
     ]
    }
   ],
   "source": [
    "## Answer Part 2\n",
    "\n",
    "temp = int(input('What is the temperature? '))\n",
    "\n",
    "if(temp>95 or temp<20):\n",
    "    print('visit our campus bookstore!')\n",
    "elif(temp>=80):\n",
    "    print('Go swimming in Lake Texoma')\n",
    "elif(temp>=60):\n",
    "    print('play tennis')\n",
    "elif(temp>=40):\n",
    "    print('play golf')\n",
    "else:\n",
    "    print('go skiing on the Grand Ave Overpass')"
   ]
  },
  {
   "cell_type": "markdown",
   "id": "eed323ec-048e-4f76-a5b3-55237425b246",
   "metadata": {},
   "source": [
    "8. (10 points) Using the `random` package, simulate flipping a fair coin at random and repeat it 1000 times. How many times were heads flipped?"
   ]
  },
  {
   "cell_type": "code",
   "execution_count": 37,
   "id": "d51fd6fe-f3f5-41b2-801e-d5f0aea8e722",
   "metadata": {},
   "outputs": [
    {
     "name": "stdout",
     "output_type": "stream",
     "text": [
      "502\n"
     ]
    }
   ],
   "source": [
    "## Answer\n",
    "\n",
    "heads = 0\n",
    "tails = 0\n",
    "\n",
    "import random\n",
    "\n",
    "for i in range(1000):\n",
    "    flip = random.randrange(0,2)\n",
    "    \n",
    "    if(flip==0):\n",
    "        heads += 1\n",
    "    else:\n",
    "        tails += 1\n",
    "\n",
    "print(heads)"
   ]
  },
  {
   "cell_type": "markdown",
   "id": "076e0758-6e78-43c5-9924-9e785fac664e",
   "metadata": {},
   "source": [
    "> Answer: 502"
   ]
  },
  {
   "cell_type": "markdown",
   "id": "4f2d9ef1-2754-45a0-844c-686f64e64966",
   "metadata": {},
   "source": [
    "### Advanced (20 points)"
   ]
  },
  {
   "cell_type": "markdown",
   "id": "0e614288-0a0f-416d-ba43-d53e3de102cf",
   "metadata": {},
   "source": [
    "9. (10 points) Cosine can be estimated as the sum of n terms as follows:\n",
    "$$\n",
    "\\cos(x) = \\sum_{i=0}^{n} \\frac{(-1)^i * x^{2i} }{(2i)!}\n",
    "$$\n",
    "\n",
    "    In other words, we can approximate the value of $\\cos(x)$ by the following sum of terms:\n",
    "$$\n",
    "\\cos(x) = 1 - \\frac{x^2}{2!} + \\frac{x^4}{4!} - \\frac{x^6}{6!} + ... \n",
    "$$\n",
    "\n",
    "We can calculate this with Python with a \"summing-as-you-go-strategy\" one term at a time ... as shown by the following pseudo-code :\n",
    "* initialize summing variable to zero.\n",
    "* initialize i to 0\n",
    "* repeat n times \n",
    "   - calculate the current term given the current value of i   \n",
    "   - add the current term to summing variable\n",
    "   - add 1 to i\n",
    "   \n",
    "Provide a Python implementation of the cos series sum above.  Prompt the user for x and n (the number of terms you would like to use for estimation).  Then compute the estimate of cosine using n=10 terms.Print out the results.   **Also** print what the math library calculates for cos(x).  Calculate and print the difference."
   ]
  },
  {
   "cell_type": "code",
   "execution_count": 44,
   "id": "7d9f3d86-6e7f-4b48-bfa1-f1c22efd8e7f",
   "metadata": {},
   "outputs": [
    {
     "name": "stdin",
     "output_type": "stream",
     "text": [
      "Value:  1\n",
      "Iterations:  10\n"
     ]
    },
    {
     "name": "stdout",
     "output_type": "stream",
     "text": [
      "0.5403023058681397\n"
     ]
    }
   ],
   "source": [
    "## Answer\n",
    "import math\n",
    "\n",
    "x = int(input('Value: '))\n",
    "n = int(input('Iterations: '))\n",
    "\n",
    "sum = 0\n",
    "\n",
    "for i in range(n):\n",
    "    sum += ((-1)**i * (x**(2*i)))/math.factorial(i*2)\n",
    "\n",
    "print(sum)"
   ]
  },
  {
   "cell_type": "markdown",
   "id": "f5e4cff0-4cd2-4b06-9da5-a984767467b2",
   "metadata": {},
   "source": [
    "10. (10 points) The area of a square whose width is 2r and height is 2r is easy to calculate.\n",
    "\n",
    "    $$\n",
    "    A_{square} = width * height = 2r * 2r = 4*r^2\n",
    "    $$\n",
    "\n",
    "    The formula for the Area of a circle with radius $r$ is given by the following:\n",
    "\n",
    "    $$\n",
    "A_{circle} = \\pi * r^2 \n",
    "    $$\n",
    "\n",
    "    The ratio of the areas is given by:\n",
    "\n",
    "    $${A_{circle} \\over A_{square}} = {(\\pi * r^2)\\over(4*r^2)} = {\\pi \\over 4}$$\n",
    "\n",
    "    Now, it turns out we can approximate the ratio $A_{circle} \\over A_{square}$ by randomly sampling (picking random points in the square) and testing if the point is INSIDE the circle.  If we do this many times and we can count the number of times our random point is INSIDE the circle we can estimate the ratio using the ratio $ count_{inside} \\over count_{total}$. The count ratio will approach the actual ratio as the number of samples gets large (as the number of iterations approaches infinity).\n",
    "\n",
    "    <c>![Image](estimating-pi-monte-carlo-method.png)</c>\n",
    "\n",
    "    Therefore, if we repeatedly sample our space with random points and count the number of points INSIDE the circle.   we can calculate the ratio.\n",
    "\n",
    "    $${count_{circle} \\over count_{total}} \\approx {\\pi \\over 4}$$\n",
    "\n",
    "    or \n",
    "\n",
    "    $$\\pi \\approx 4 * {count_{circle} \\over count_{total}}$$\n",
    "\n",
    "    Write a python algorithm that prompts the user for the value of n and derives/calculates an approximation of $\\pi$ after n iterations.   The algorithm should repeatedly use the random library 2 times to \"pick\" a random point (x,y) where the x value is a random between -1 and +1.  And the y value is also a random between -1 and +1.  With x,y calculate the distance from the origin.     \n",
    "\n",
    "    $$\n",
    "    d = \\sqrt{ x^2 + y^2 }\n",
    "    $$\n",
    "\n",
    "    Compare your distance to the radius ($r=1$).  if d is less than or equal to one, the sample point is in/on the circle.  \n",
    "\n",
    "    If you repeat this over and over n times, you can keep count of the number of samples landing *inside* or *on* the circle.  After n times, calculate the final answer using the equation above (4 times the ratio circle count / n ).\n",
    "\n",
    "    Print your final answer. It is close to $\\pi = 3.14159$?   "
   ]
  },
  {
   "cell_type": "code",
   "execution_count": 25,
   "id": "5827191c-02c1-4c86-abd7-22646ee27eaa",
   "metadata": {},
   "outputs": [
    {
     "name": "stdin",
     "output_type": "stream",
     "text": [
      "Iterations:  100000\n"
     ]
    },
    {
     "name": "stdout",
     "output_type": "stream",
     "text": [
      "3.137\n"
     ]
    }
   ],
   "source": [
    "## Answer\n",
    "import random\n",
    "import math\n",
    "\n",
    "n = int(input('Iterations: '))\n",
    "cCount = 0\n",
    "sCount = 0\n",
    "\n",
    "for i in range(n):\n",
    "    x = random.uniform(-1, 1)\n",
    "    y = random.uniform(-1, 1)\n",
    "    d = math.sqrt(x**2 + y**2)\n",
    "    \n",
    "    if(d<=1):\n",
    "        cCount += 1\n",
    "    else:\n",
    "        sCount += 1\n",
    "\n",
    "print((4*cCount)/(sCount+cCount))"
   ]
  },
  {
   "cell_type": "code",
   "execution_count": null,
   "id": "d6845a01-af65-44a8-b048-bf2e6c32988c",
   "metadata": {},
   "outputs": [],
   "source": []
  }
 ],
 "metadata": {
  "kernelspec": {
   "display_name": "Python 3 (ipykernel)",
   "language": "python",
   "name": "python3"
  },
  "language_info": {
   "codemirror_mode": {
    "name": "ipython",
    "version": 3
   },
   "file_extension": ".py",
   "mimetype": "text/x-python",
   "name": "python",
   "nbconvert_exporter": "python",
   "pygments_lexer": "ipython3",
   "version": "3.9.7"
  }
 },
 "nbformat": 4,
 "nbformat_minor": 5
}
