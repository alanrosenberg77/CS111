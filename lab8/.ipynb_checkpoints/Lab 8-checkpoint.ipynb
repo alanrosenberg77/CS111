{
 "cells": [
  {
   "cell_type": "markdown",
   "id": "a0f596d8-4d5f-42fd-8d84-b86e9e453eb7",
   "metadata": {},
   "source": [
    "## Instructions\n",
    "\n",
    "Answer the following questions. It behooves you to answer as much of each question as possible to receive some partial credit. You are advised to begin this lab early so that you have ample time to complete it. **Make sure that your code is commented appropriately to receive full credit on each problem**"
   ]
  },
  {
   "cell_type": "markdown",
   "id": "4f6acfa2-77dc-4996-8c78-77d295bdcb2f",
   "metadata": {},
   "source": [
    "## Assignment\n",
    "\n",
    "This assignment is worth 100 points. There are three sections to this homework assignment: a Fundamentals section, an Essentials section, and an Advanced section. You have all of the tools you need to complete all of the lab, but it is triaged for you to give you an idea of what you should focus on first."
   ]
  },
  {
   "cell_type": "markdown",
   "id": "9ca81fa7-c02c-4626-9a44-0baf16e8aac2",
   "metadata": {},
   "source": [
    "### Fundamentals (30 points)"
   ]
  },
  {
   "cell_type": "markdown",
   "id": "e420c4ce-3a6f-445b-bd90-460b9b48b350",
   "metadata": {},
   "source": [
    "1. (10 points) What is the difference between a `Series` and a `DataFrame`?"
   ]
  },
  {
   "cell_type": "markdown",
   "id": "ab7e2235-a295-481b-a988-db06b3752e1b",
   "metadata": {},
   "source": [
    "  > Answer:"
   ]
  },
  {
   "cell_type": "markdown",
   "id": "3dc213e4-0421-4438-9c52-b696208f0512",
   "metadata": {},
   "source": [
    "2. (10 points) What is the difference between the `.loc` and `.iloc` attributes for a pandas DataFrame?"
   ]
  },
  {
   "cell_type": "markdown",
   "id": "c2e036af-b632-4dc9-9eea-706fa06a9098",
   "metadata": {},
   "source": [
    "  > Answer: "
   ]
  },
  {
   "cell_type": "markdown",
   "id": "5757175b-1344-4697-b977-f996d5b499cd",
   "metadata": {},
   "source": [
    "3. (10 points) What is the difference between a copy and in-place sorting? Why might you want to use one over the other?"
   ]
  },
  {
   "cell_type": "markdown",
   "id": "b24f9937-a218-4083-8bcb-669a9956a99c",
   "metadata": {},
   "source": [
    "> Answer:"
   ]
  },
  {
   "cell_type": "markdown",
   "id": "1ed07202-3a5a-43b7-b511-7864765f14ed",
   "metadata": {},
   "source": [
    "### Essentials (50 points)"
   ]
  },
  {
   "cell_type": "markdown",
   "id": "b58a7b28-9163-454c-b007-19bc559797da",
   "metadata": {},
   "source": [
    "4. (10 points) The following code imports a dataset about people who were on the Titanic and stores it in the variable `titanic`:"
   ]
  },
  {
   "cell_type": "code",
   "execution_count": 1,
   "id": "1d24d342-8b75-43ca-a941-7b21095e4bfe",
   "metadata": {},
   "outputs": [],
   "source": [
    "import pandas as pd\n",
    "\n",
    "titanic = pd.read_csv(\"Titanic.csv\")"
   ]
  },
  {
   "cell_type": "markdown",
   "id": "413d81fd-e258-4c07-9db6-84489942ae15",
   "metadata": {},
   "source": [
    "Display the first few rows of the data set below:"
   ]
  },
  {
   "cell_type": "code",
   "execution_count": null,
   "id": "0b07a982-71f0-481e-9f9a-029a69183bdf",
   "metadata": {},
   "outputs": [],
   "source": [
    "## Answer:\n",
    "\n"
   ]
  },
  {
   "cell_type": "markdown",
   "id": "2f91d2c8-251d-4324-951a-7004953bb554",
   "metadata": {},
   "source": [
    "5. (10 points) Create a subset of the titanic data set of passengers who were in first class (`Pclass == 1`)."
   ]
  },
  {
   "cell_type": "code",
   "execution_count": 22,
   "id": "569fe0af-4426-4210-93c7-340e21026f80",
   "metadata": {},
   "outputs": [],
   "source": [
    "## Answer"
   ]
  },
  {
   "cell_type": "markdown",
   "id": "3a9368c6-dd7e-4257-98e6-486f40029c7b",
   "metadata": {},
   "source": [
    "6. (15 points) Create a histogram of the ages of passengers who were in first class."
   ]
  },
  {
   "cell_type": "code",
   "execution_count": null,
   "id": "dc082148-ce86-49d9-8076-1d8dd1f569b0",
   "metadata": {},
   "outputs": [],
   "source": [
    "## Answer"
   ]
  },
  {
   "cell_type": "markdown",
   "id": "5abbe5ea-a448-43f5-82b2-098109e49134",
   "metadata": {},
   "source": [
    "7. (15 points) Create a copy of the entire Titanic data set where the observations are sorted by the number of siblings or spouses (`sibsp`) the passengers has on board."
   ]
  },
  {
   "cell_type": "code",
   "execution_count": 15,
   "id": "6a7b34aa-ea8b-4047-b49e-2b73522db2cd",
   "metadata": {},
   "outputs": [],
   "source": [
    "## Answer"
   ]
  },
  {
   "cell_type": "markdown",
   "id": "4f2d9ef1-2754-45a0-844c-686f64e64966",
   "metadata": {},
   "source": [
    "### Advanced (20 points)"
   ]
  },
  {
   "cell_type": "markdown",
   "id": "f5e4cff0-4cd2-4b06-9da5-a984767467b2",
   "metadata": {},
   "source": [
    "8. (20 points) A common question in data science is to try and determine if there is a difference between two groups. For instance, we might wonder if the sex of the passenger on the Titanic affected whether or not they survived. We will explore this question here. One method for establishing a relationship is the following:\n",
    "        \n",
    "     + Randomly divide pick a subset of 314 observations. (The number of women on board the titanic) \n",
    "     + Record the proportion of people who survived in that random group\n",
    "     + Repeat this process 10000 times.\n",
    "     + Create a histogram of this information.\n",
    "     + Add a vertical line to this histogram representing the proportion of women who survived. \n",
    "     + Check to see if this value is extreme relative to the random samples.\n",
    "     \n",
    "Write a Python script below which performs this task. For the random subset task, you should look up the `.sample()` method for DataFrames. "
   ]
  },
  {
   "cell_type": "code",
   "execution_count": 1,
   "id": "5827191c-02c1-4c86-abd7-22646ee27eaa",
   "metadata": {},
   "outputs": [],
   "source": [
    "## Answer"
   ]
  }
 ],
 "metadata": {
  "kernelspec": {
   "display_name": "Python 3 (ipykernel)",
   "language": "python",
   "name": "python3"
  },
  "language_info": {
   "codemirror_mode": {
    "name": "ipython",
    "version": 3
   },
   "file_extension": ".py",
   "mimetype": "text/x-python",
   "name": "python",
   "nbconvert_exporter": "python",
   "pygments_lexer": "ipython3",
   "version": "3.9.12"
  }
 },
 "nbformat": 4,
 "nbformat_minor": 5
}
