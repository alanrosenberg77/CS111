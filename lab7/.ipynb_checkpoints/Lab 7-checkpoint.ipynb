{
 "cells": [
  {
   "cell_type": "markdown",
   "id": "a0f596d8-4d5f-42fd-8d84-b86e9e453eb7",
   "metadata": {},
   "source": [
    "## Instructions\n",
    "\n",
    "Answer the following questions. It behooves you to answer as much of each question as possible to receive some partial credit. You are advised to begin this lab early so that you have ample time to complete it. **Make sure that your code is commented appropriately to receive full credit on each problem**"
   ]
  },
  {
   "cell_type": "markdown",
   "id": "4f6acfa2-77dc-4996-8c78-77d295bdcb2f",
   "metadata": {},
   "source": [
    "## Assignment\n",
    "\n",
    "This assignment is worth 100 points. There are three sections to this homework assignment: a Fundamentals section, an Essentials section, and an Advanced section. You have all of the tools you need to complete all of the lab, but it is triaged for you to give you an idea of what you should focus on first."
   ]
  },
  {
   "cell_type": "markdown",
   "id": "9ca81fa7-c02c-4626-9a44-0baf16e8aac2",
   "metadata": {},
   "source": [
    "### Fundamentals (30 points)"
   ]
  },
  {
   "cell_type": "markdown",
   "id": "e420c4ce-3a6f-445b-bd90-460b9b48b350",
   "metadata": {},
   "source": [
    "1. (10 points) Discuss three attributes of an array."
   ]
  },
  {
   "cell_type": "markdown",
   "id": "ab7e2235-a295-481b-a988-db06b3752e1b",
   "metadata": {},
   "source": [
    "  > Answer:"
   ]
  },
  {
   "cell_type": "markdown",
   "id": "3dc213e4-0421-4438-9c52-b696208f0512",
   "metadata": {},
   "source": [
    "2. (10 points) What does the `np.arange()` function do?"
   ]
  },
  {
   "cell_type": "markdown",
   "id": "c2e036af-b632-4dc9-9eea-706fa06a9098",
   "metadata": {},
   "source": [
    "  > Answer: "
   ]
  },
  {
   "cell_type": "markdown",
   "id": "5757175b-1344-4697-b977-f996d5b499cd",
   "metadata": {},
   "source": [
    "3. (10 points) What is the difference between a shallow and a deep copy in Python? Does Python automatically create deep copies or shallow copies for arrays?"
   ]
  },
  {
   "cell_type": "markdown",
   "id": "b24f9937-a218-4083-8bcb-669a9956a99c",
   "metadata": {},
   "source": [
    "> Answer:"
   ]
  },
  {
   "cell_type": "markdown",
   "id": "1ed07202-3a5a-43b7-b511-7864765f14ed",
   "metadata": {},
   "source": [
    "### Essentials (50 points)"
   ]
  },
  {
   "cell_type": "markdown",
   "id": "b58a7b28-9163-454c-b007-19bc559797da",
   "metadata": {},
   "source": [
    "4. (10 points) Create a 2x10 array filled with zeros."
   ]
  },
  {
   "cell_type": "code",
   "execution_count": null,
   "id": "0b07a982-71f0-481e-9f9a-029a69183bdf",
   "metadata": {},
   "outputs": [],
   "source": [
    "## Answer:\n",
    "\n"
   ]
  },
  {
   "cell_type": "markdown",
   "id": "2f91d2c8-251d-4324-951a-7004953bb554",
   "metadata": {},
   "source": [
    "5. (10 points) Create a 100 x 100 array where each element is randomly assigned a 1 or 0. Call this matrix `rand`."
   ]
  },
  {
   "cell_type": "code",
   "execution_count": 22,
   "id": "569fe0af-4426-4210-93c7-340e21026f80",
   "metadata": {},
   "outputs": [],
   "source": [
    "## Answer"
   ]
  },
  {
   "cell_type": "markdown",
   "id": "3a9368c6-dd7e-4257-98e6-486f40029c7b",
   "metadata": {},
   "source": [
    "6. (15 points) Print out the following elements/subsets:\n",
    "\n",
    "    + The element in the 3rd row, 1st column.\n",
    "    + The element inf the 100th row, 100th column.\n",
    "    + The 10th row.\n",
    "    + The 11th column.\n",
    "    + Elements from the 20th row, 50th column to the 36th row, 72 column."
   ]
  },
  {
   "cell_type": "code",
   "execution_count": null,
   "id": "dc082148-ce86-49d9-8076-1d8dd1f569b0",
   "metadata": {},
   "outputs": [],
   "source": [
    "## Answer"
   ]
  },
  {
   "cell_type": "markdown",
   "id": "5abbe5ea-a448-43f5-82b2-098109e49134",
   "metadata": {},
   "source": [
    "7. (15 points) Reshape the original array to a single row of 10000 elements. Calculate the mean of this new array."
   ]
  },
  {
   "cell_type": "code",
   "execution_count": 15,
   "id": "6a7b34aa-ea8b-4047-b49e-2b73522db2cd",
   "metadata": {},
   "outputs": [],
   "source": [
    "## Answer"
   ]
  },
  {
   "cell_type": "markdown",
   "id": "4f2d9ef1-2754-45a0-844c-686f64e64966",
   "metadata": {},
   "source": [
    "### Advanced (20 points)"
   ]
  },
  {
   "cell_type": "markdown",
   "id": "f5e4cff0-4cd2-4b06-9da5-a984767467b2",
   "metadata": {},
   "source": [
    "8. (20 points) Write a function which calculates the median of all values in an array regardless of its shape. Note: arrays do not have a built in median function. You will have to use the other attributes of an array to make this function."
   ]
  },
  {
   "cell_type": "code",
   "execution_count": 1,
   "id": "5827191c-02c1-4c86-abd7-22646ee27eaa",
   "metadata": {},
   "outputs": [],
   "source": [
    "## Answer"
   ]
  }
 ],
 "metadata": {
  "kernelspec": {
   "display_name": "Python 3 (ipykernel)",
   "language": "python",
   "name": "python3"
  },
  "language_info": {
   "codemirror_mode": {
    "name": "ipython",
    "version": 3
   },
   "file_extension": ".py",
   "mimetype": "text/x-python",
   "name": "python",
   "nbconvert_exporter": "python",
   "pygments_lexer": "ipython3",
   "version": "3.9.12"
  }
 },
 "nbformat": 4,
 "nbformat_minor": 5
}
