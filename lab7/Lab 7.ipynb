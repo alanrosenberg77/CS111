{
 "cells": [
  {
   "cell_type": "markdown",
   "id": "a0f596d8-4d5f-42fd-8d84-b86e9e453eb7",
   "metadata": {},
   "source": [
    "## Instructions\n",
    "\n",
    "Answer the following questions. It behooves you to answer as much of each question as possible to receive some partial credit. You are advised to begin this lab early so that you have ample time to complete it. **Make sure that your code is commented appropriately to receive full credit on each problem**"
   ]
  },
  {
   "cell_type": "markdown",
   "id": "4f6acfa2-77dc-4996-8c78-77d295bdcb2f",
   "metadata": {},
   "source": [
    "## Assignment\n",
    "\n",
    "This assignment is worth 100 points. There are three sections to this homework assignment: a Fundamentals section, an Essentials section, and an Advanced section. You have all of the tools you need to complete all of the lab, but it is triaged for you to give you an idea of what you should focus on first."
   ]
  },
  {
   "cell_type": "markdown",
   "id": "9ca81fa7-c02c-4626-9a44-0baf16e8aac2",
   "metadata": {},
   "source": [
    "### Fundamentals (30 points)"
   ]
  },
  {
   "cell_type": "markdown",
   "id": "e420c4ce-3a6f-445b-bd90-460b9b48b350",
   "metadata": {},
   "source": [
    "1. (10 points) Discuss three attributes of an array."
   ]
  },
  {
   "cell_type": "markdown",
   "id": "ab7e2235-a295-481b-a988-db06b3752e1b",
   "metadata": {},
   "source": [
    "  > Answer:"
   ]
  },
  {
   "cell_type": "markdown",
   "id": "3dc213e4-0421-4438-9c52-b696208f0512",
   "metadata": {},
   "source": [
    "2. (10 points) What does the `np.arange()` function do?"
   ]
  },
  {
   "cell_type": "markdown",
   "id": "c2e036af-b632-4dc9-9eea-706fa06a9098",
   "metadata": {},
   "source": [
    "  > Answer: "
   ]
  },
  {
   "cell_type": "markdown",
   "id": "5757175b-1344-4697-b977-f996d5b499cd",
   "metadata": {},
   "source": [
    "3. (10 points) What is the difference between a shallow and a deep copy in Python? Does Python automatically create deep copies or shallow copies for arrays?"
   ]
  },
  {
   "cell_type": "markdown",
   "id": "b24f9937-a218-4083-8bcb-669a9956a99c",
   "metadata": {},
   "source": [
    "> Answer:"
   ]
  },
  {
   "cell_type": "markdown",
   "id": "1ed07202-3a5a-43b7-b511-7864765f14ed",
   "metadata": {},
   "source": [
    "### Essentials (50 points)"
   ]
  },
  {
   "cell_type": "markdown",
   "id": "b58a7b28-9163-454c-b007-19bc559797da",
   "metadata": {},
   "source": [
    "4. (10 points) Create a 2x10 array filled with zeros."
   ]
  },
  {
   "cell_type": "code",
   "execution_count": 4,
   "id": "0b07a982-71f0-481e-9f9a-029a69183bdf",
   "metadata": {},
   "outputs": [
    {
     "name": "stdout",
     "output_type": "stream",
     "text": [
      "[[0 0 0 0 0 0 0 0 0 0]\n",
      " [0 0 0 0 0 0 0 0 0 0]]\n"
     ]
    }
   ],
   "source": [
    "## Answer:\n",
    "import numpy as np\n",
    "\n",
    "arr = np.array([[0,0,0,0,0,0,0,0,0,0] , [0,0,0,0,0,0,0,0,0,0]])\n",
    "print(arr)"
   ]
  },
  {
   "cell_type": "markdown",
   "id": "2f91d2c8-251d-4324-951a-7004953bb554",
   "metadata": {},
   "source": [
    "5. (10 points) Create a 100 x 100 array where each element is randomly assigned a 1 or 0. Call this matrix `rand`."
   ]
  },
  {
   "cell_type": "code",
   "execution_count": 23,
   "id": "569fe0af-4426-4210-93c7-340e21026f80",
   "metadata": {},
   "outputs": [
    {
     "name": "stdout",
     "output_type": "stream",
     "text": [
      "[[0 1 1 ... 0 1 1]\n",
      " [0 0 0 ... 0 0 1]\n",
      " [1 0 1 ... 0 0 1]\n",
      " ...\n",
      " [1 1 1 ... 1 0 1]\n",
      " [1 0 0 ... 0 0 0]\n",
      " [1 1 0 ... 1 0 1]]\n"
     ]
    }
   ],
   "source": [
    "## Answer\n",
    "import random\n",
    "\n",
    "rand = np.random.randint(2, size = (100,100))\n",
    "        \n",
    "print(rand)"
   ]
  },
  {
   "cell_type": "markdown",
   "id": "3a9368c6-dd7e-4257-98e6-486f40029c7b",
   "metadata": {},
   "source": [
    "6. (15 points) Print out the following elements/subsets:\n",
    "\n",
    "    + The element in the 3rd row, 1st column.\n",
    "    + The element inf the 100th row, 100th column.\n",
    "    + The 10th row.\n",
    "    + The 11th column.\n",
    "    + Elements from the 20th row, 50th column to the 36th row, 72 column."
   ]
  },
  {
   "cell_type": "code",
   "execution_count": 30,
   "id": "dc082148-ce86-49d9-8076-1d8dd1f569b0",
   "metadata": {},
   "outputs": [
    {
     "name": "stdout",
     "output_type": "stream",
     "text": [
      "3rd row, 1st column: 1\n",
      "100th row, 100th column: 1\n",
      "10th row: [1 1 1 0 0 1 1 0 0 0 1 1 1 0 0 1 0 0 1 1 1 1 1 0 1 0 0 0 1 0 1 0 1 1 0 1 1\n",
      " 1 1 1 0 0 0 1 1 1 1 1 0 0 0 0 1 1 1 0 1 0 0 0 0 0 0 1 1 0 1 0 1 1 0 0 1 1\n",
      " 1 1 0 1 1 1 1 1 1 1 0 0 1 0 1 0 0 0 0 1 0 1 1 1 0 0]\n",
      "11th row: [1 1 0 1 0 1 0 1 1 0 1 0 1 0 1 0 1 1 0 0 0 1 0 1 1 1 1 1 0 0 1 1 0 0 1 0 0\n",
      " 1 1 0 1 1 1 1 1 1 1 0 0 1 0 1 1 0 0 0 1 1 0 0 1 0 1 0 1 1 1 1 1 1 1 0 1 0\n",
      " 0 0 0 0 0 1 1 1 0 1 1 1 0 1 0 0 1 0 0 1 0 1 1 0 0 0]\n",
      "20th row: [1 1 1 1 1 0 1 0 1 0 0 0 0 1 0 1 0 1 1 1 1 0 0 1 1 0 0 1 1 0 0 1 0 0 0 1 1\n",
      " 0 1 0 0 0 1 1 0 0 0 1 1 0 0 1 1 0 0 1 1 0 0 1 0 1 0 1 0 0 1 0 0 0 1 1 0 1\n",
      " 0 0 0 0 1 0 0 0 0 1 0 1 0 1 0 1 1 1 0 1 0 1 0 0 0 1]\n",
      "50th colomn to 36th row:\n",
      "[1, 1, 0, 0, 1, 0, 1, 1, 0, 0, 1, 1, 0, 1, 0, 0, 1, 1, 0, 0, 1, 1, 1, 1, 0, 1, 1, 0, 0, 1, 1, 0, 1, 1, 1, 1]\n",
      "72nd column:\n",
      "[0, 0, 0, 1, 1, 1, 1, 1, 0, 0, 0, 1, 0, 1, 1, 0, 1, 1, 1, 1, 0, 0, 1, 0, 1, 0, 0, 1, 0, 1, 0, 0, 0, 1, 0, 1, 1, 1, 0, 1, 1, 0, 1, 1, 0, 1, 1, 0, 0, 1, 1, 0, 0, 0, 0, 0, 0, 0, 0, 1, 1, 1, 1, 1, 0, 0, 0, 1, 0, 0, 1, 0, 1, 0, 0, 0, 0, 1, 1, 0, 1, 1, 1, 1, 0, 1, 0, 0, 1, 0, 1, 0, 1, 1, 1, 0, 1, 0, 1, 1]\n"
     ]
    }
   ],
   "source": [
    "## Answer\n",
    "\n",
    "print('3rd row, 1st column:',rand[2][0])\n",
    "print('100th row, 100th column:',rand[99][99])\n",
    "print('10th row:',rand[9])\n",
    "print('11th row:',rand[10])\n",
    "print('20th row:',rand[19])\n",
    "    \n",
    "print('50th colomn to 36th row:')\n",
    "col50toRow36 = []\n",
    "for x in range(36):\n",
    "    col50toRow36.append(rand[x][49])\n",
    "print(col50toRow36)\n",
    "\n",
    "print('72nd column:')\n",
    "col72 = []\n",
    "for x in range(100):\n",
    "    col72.append(rand[x][71])\n",
    "print(col72)"
   ]
  },
  {
   "cell_type": "markdown",
   "id": "5abbe5ea-a448-43f5-82b2-098109e49134",
   "metadata": {},
   "source": [
    "7. (15 points) Reshape the original array to a single row of 10000 elements. Calculate the mean of this new array."
   ]
  },
  {
   "cell_type": "code",
   "execution_count": 33,
   "id": "6a7b34aa-ea8b-4047-b49e-2b73522db2cd",
   "metadata": {},
   "outputs": [
    {
     "name": "stdout",
     "output_type": "stream",
     "text": [
      "[0 1 1 ... 1 0 1]\n",
      "0.5026\n"
     ]
    }
   ],
   "source": [
    "## Answer\n",
    "\n",
    "newArr = rand.reshape(-1)\n",
    "\n",
    "total = 0\n",
    "for x in newArr:\n",
    "    total += x\n",
    "\n",
    "print(newArr)\n",
    "print(total/newArr.size)"
   ]
  },
  {
   "cell_type": "markdown",
   "id": "4f2d9ef1-2754-45a0-844c-686f64e64966",
   "metadata": {},
   "source": [
    "### Advanced (20 points)"
   ]
  },
  {
   "cell_type": "markdown",
   "id": "f5e4cff0-4cd2-4b06-9da5-a984767467b2",
   "metadata": {},
   "source": [
    "8. (20 points) Write a function which calculates the median of all values in an array regardless of its shape. Note: arrays do not have a built in median function. You will have to use the other attributes of an array to make this function."
   ]
  },
  {
   "cell_type": "code",
   "execution_count": 42,
   "id": "5827191c-02c1-4c86-abd7-22646ee27eaa",
   "metadata": {},
   "outputs": [
    {
     "name": "stdout",
     "output_type": "stream",
     "text": [
      "0\n"
     ]
    }
   ],
   "source": [
    "## Answer\n",
    "\n",
    "def median(arr):\n",
    "    \"\"\"takes a numpy array, flattens,\n",
    "    then returns the median of the data\"\"\"\n",
    "    \n",
    "    newArr = arr.reshape(-1)\n",
    "    np.sort(newArr,None,'mergesort')\n",
    "    \n",
    "    return newArr[newArr.size//2]\n",
    "\n",
    "arr = np.array([1,2,3,4,5,6,7,8,9,10])\n",
    "print(median())"
   ]
  },
  {
   "cell_type": "code",
   "execution_count": null,
   "id": "c0c74c9e",
   "metadata": {},
   "outputs": [],
   "source": []
  }
 ],
 "metadata": {
  "kernelspec": {
   "display_name": "Python 3 (ipykernel)",
   "language": "python",
   "name": "python3"
  },
  "language_info": {
   "codemirror_mode": {
    "name": "ipython",
    "version": 3
   },
   "file_extension": ".py",
   "mimetype": "text/x-python",
   "name": "python",
   "nbconvert_exporter": "python",
   "pygments_lexer": "ipython3",
   "version": "3.9.7"
  }
 },
 "nbformat": 4,
 "nbformat_minor": 5
}
