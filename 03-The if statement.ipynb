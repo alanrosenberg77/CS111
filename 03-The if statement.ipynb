{
 "cells": [
  {
   "cell_type": "markdown",
   "id": "f8ad0cc8-8adb-4f27-a9f9-bab61126feae",
   "metadata": {},
   "source": [
    "# The `if` statement"
   ]
  },
  {
   "cell_type": "markdown",
   "id": "274fa3e5-8536-4095-b9bf-84424e135bc9",
   "metadata": {},
   "source": [
    "**Review:** Write a statement which checks to see if a number is odd. If the number is odd, print that it is odd. Otherwise, have the program do nothing."
   ]
  },
  {
   "cell_type": "code",
   "execution_count": 4,
   "id": "5dc055bb-bfa2-4a6a-ba31-7514cf3bcd0b",
   "metadata": {},
   "outputs": [
    {
     "name": "stdout",
     "output_type": "stream",
     "text": [
      "give number:5\n",
      "thats odd...\n"
     ]
    }
   ],
   "source": [
    "x=int(input('give number:'))\n",
    "\n",
    "if(x%2==1):\n",
    "    print('thats odd...')"
   ]
  },
  {
   "cell_type": "markdown",
   "id": "cc64f045-2d79-43db-a72b-9125a07917b4",
   "metadata": {},
   "source": [
    "### `if`...`else` statements"
   ]
  },
  {
   "cell_type": "markdown",
   "id": "2145931d-f5f2-4e22-937f-f84e7cd942e0",
   "metadata": {},
   "source": [
    "An example of the `if`...`else` statement is below. In this example, if the number is square root of the number is less than 10, the program prints the square root of the number. Otherwise the program takes the remainder of the number when divided by 10 (CS/Math folk would say \"mod 10\"). "
   ]
  },
  {
   "cell_type": "code",
   "execution_count": 6,
   "id": "62cfb18d-3fab-4382-9d27-b4454d29d374",
   "metadata": {},
   "outputs": [
    {
     "name": "stdout",
     "output_type": "stream",
     "text": [
      "5\n"
     ]
    }
   ],
   "source": [
    "# Number can be changed below. Try a few different\n",
    "# options and see how the program runs.\n",
    "number = 105\n",
    "\n",
    "#need the math library to perform the square root\n",
    "import math\n",
    "\n",
    "# Checks if the square root is less than 10\n",
    "if math.sqrt(number) < 10:\n",
    "    # f'{ }' is an example of formatted printing we will see later\n",
    "    print(f'{math.sqrt(number):.2f}')\n",
    "# If the sqrt(number) >= 10 the following code will run\n",
    "else: \n",
    "    print(number % 10)"
   ]
  },
  {
   "cell_type": "markdown",
   "id": "29af6f13-aea5-4fb1-a0d2-00054af99701",
   "metadata": {},
   "source": [
    "> Note: In the code above, we imported a *library* to help us perform a task. Libraries contain functionality not included with base Python. The `math` library contains code for many mathematical functions. We will talk more about this in future classes."
   ]
  },
  {
   "cell_type": "markdown",
   "id": "c596f639-6024-414a-ae07-56886d216408",
   "metadata": {},
   "source": [
    "**You try:** Write a program which checks to see if a number is divisible by 3. Have the program print out \"[NUMBER] is divisible by 3\" or \"[NUMBER] is not divisible by 3\""
   ]
  },
  {
   "cell_type": "code",
   "execution_count": 9,
   "id": "bb42fdcf-216d-4074-aa41-bf6d10a27032",
   "metadata": {},
   "outputs": [
    {
     "name": "stdout",
     "output_type": "stream",
     "text": [
      "give number:8\n",
      "not divisible by 3\n"
     ]
    }
   ],
   "source": [
    "x=int(input('give number:'))\n",
    "\n",
    "if(x%3==0):\n",
    "    print('divisible by 3')\n",
    "else:\n",
    "    print('not divisible by 3')"
   ]
  },
  {
   "cell_type": "markdown",
   "id": "87ef9e2f-16e3-4823-9b5f-bc47ed9cb591",
   "metadata": {},
   "source": [
    "**Bad example:** Look at the example below. This is an example of how not to use an `if`...`else` statement:"
   ]
  },
  {
   "cell_type": "code",
   "execution_count": 10,
   "id": "8b7b8cd4-143b-446f-8883-99279556d4bf",
   "metadata": {},
   "outputs": [
    {
     "name": "stdout",
     "output_type": "stream",
     "text": [
      "5\n"
     ]
    }
   ],
   "source": [
    "# *SHOULD* look at a number, and clamp the value between 0 and 10.\n",
    "\n",
    "# You can change this number and see where it goes wrong\n",
    "# Try -1, 5, and 11\n",
    "num = 5\n",
    "\n",
    "if num < 0:\n",
    "    print(0)\n",
    "if num > 10:\n",
    "    print(10)\n",
    "else:\n",
    "    print(num)"
   ]
  },
  {
   "cell_type": "markdown",
   "id": "5d6d60ec-100a-4a74-bd1e-2032a350cd52",
   "metadata": {},
   "source": [
    "Change the code above to work correctly by using an `elif` statement."
   ]
  },
  {
   "cell_type": "code",
   "execution_count": 11,
   "id": "4df6b1db-9b2f-4aab-bd19-93bc1af3cdbb",
   "metadata": {},
   "outputs": [
    {
     "name": "stdout",
     "output_type": "stream",
     "text": [
      "10\n"
     ]
    }
   ],
   "source": [
    "## Copy code here\n",
    "\n",
    "num = 16\n",
    "\n",
    "if num < 0:\n",
    "    print(0)\n",
    "elif num > 10:\n",
    "    print(10)\n",
    "else:\n",
    "    print(num)"
   ]
  },
  {
   "cell_type": "markdown",
   "id": "3a5ee618-2ae0-404d-b922-3ab7165a48a4",
   "metadata": {},
   "source": [
    "**You try:** Write a program which inputs a student's final grade and displays their course letter grade. Don't print +/- and assume a standard grading scale. Then test the following numbers to make sure it works: 62, 80, 93"
   ]
  },
  {
   "cell_type": "code",
   "execution_count": 35,
   "id": "39700fa1-b9a8-4f28-bc8d-dbf4a060f93c",
   "metadata": {},
   "outputs": [
    {
     "name": "stdout",
     "output_type": "stream",
     "text": [
      "final grade:55\n",
      "you fucking failed bro\n"
     ]
    }
   ],
   "source": [
    "x=int(input('final grade:'))\n",
    "\n",
    "if(x>=90):\n",
    "    print('A')\n",
    "elif(x<90 and x>=80):\n",
    "    print('B')\n",
    "elif(x<80 and x>=70):\n",
    "    print('C')\n",
    "elif(x<70 and x>=60):\n",
    "    print('D')\n",
    "else:\n",
    "    print('you fucking failed bro')"
   ]
  },
  {
   "cell_type": "markdown",
   "id": "fde1e3c9-8dcb-4620-bdbf-80299daa8921",
   "metadata": {},
   "source": [
    "**You try**: Suppose a nation structures its taxes as follows. If you make $\\$30,000$ or less you pay $5\\%$ in taxes. If you make between $\\$30,000$ and $\\$100,000$ you pay $8\\%$ on any amount earned *over the $\\$30,000$ mark*. Finally, any amount over $\\$100,000$ is taxed at a $15\\%$ rate. Write a script that calculates a person's tax bill for a given year. Check to see that it works by calculatin the bill for the following numbers: 23000, 35000, 100000, 250000."
   ]
  },
  {
   "cell_type": "code",
   "execution_count": 30,
   "id": "248abda0-8fec-44eb-8730-ce6cb5d6791b",
   "metadata": {},
   "outputs": [
    {
     "name": "stdout",
     "output_type": "stream",
     "text": [
      "Annual income? 15000\n",
      "bro that sucks still gettin taxed tho lmao\n",
      "5% tax rate\n",
      "$750.0 due\n"
     ]
    }
   ],
   "source": [
    "income = int(input('Annual income? '))\n",
    "\n",
    "if(income>100000):\n",
    "    print('max tax bozo earn less\\n15%')\n",
    "    print('$'+str(income*0.15)+', pay up')\n",
    "elif(income<=100000 and income>30000):\n",
    "    print('modest mf\\n8% tax rate')\n",
    "    print('$'+str(income*0.08)+', gimme my money')\n",
    "else:\n",
    "    print('bro that sucks still gettin taxed tho lmao\\n5% tax rate')\n",
    "    print('$'+str(income*0.05)+' due')"
   ]
  },
  {
   "cell_type": "code",
   "execution_count": null,
   "id": "30138270",
   "metadata": {},
   "outputs": [],
   "source": []
  }
 ],
 "metadata": {
  "kernelspec": {
   "display_name": "Python 3 (ipykernel)",
   "language": "python",
   "name": "python3"
  },
  "language_info": {
   "codemirror_mode": {
    "name": "ipython",
    "version": 3
   },
   "file_extension": ".py",
   "mimetype": "text/x-python",
   "name": "python",
   "nbconvert_exporter": "python",
   "pygments_lexer": "ipython3",
   "version": "3.9.12"
  }
 },
 "nbformat": 4,
 "nbformat_minor": 5
}
