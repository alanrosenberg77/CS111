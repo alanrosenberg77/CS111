{
 "cells": [
  {
   "cell_type": "markdown",
   "id": "ae938450",
   "metadata": {},
   "source": [
    "## Functions Part II\n",
    "\n",
    "1. Create a function that takes in three numbers and finds the average of those numbers. Next, add default parameters of 0 to the arguments. What happens when you add only 0, 1, or 2 arguments to the function?"
   ]
  },
  {
   "cell_type": "code",
   "execution_count": null,
   "id": "6286d390",
   "metadata": {},
   "outputs": [],
   "source": []
  },
  {
   "cell_type": "markdown",
   "id": "2956d7c8",
   "metadata": {},
   "source": [
    "2. Create a function that calculates the average of an arbitrary number of arguments."
   ]
  },
  {
   "cell_type": "code",
   "execution_count": null,
   "id": "cb4b74a4",
   "metadata": {},
   "outputs": [],
   "source": []
  },
  {
   "cell_type": "markdown",
   "id": "c7b5f50f",
   "metadata": {},
   "source": [
    "Methods are functions associated to objects. The `.lower()` and `.upper()` functions are methods associated with string objects. Run these methods on the string below:"
   ]
  },
  {
   "cell_type": "code",
   "execution_count": 2,
   "id": "09b804f4",
   "metadata": {},
   "outputs": [],
   "source": [
    "string = \"Dr. Edge is my favorite Professor.\"\n"
   ]
  },
  {
   "cell_type": "markdown",
   "id": "0d9be9d1",
   "metadata": {},
   "source": [
    "3. Which of the variables in the code (`radius`, `height`,`x`,`y`,`total`,`temp`) that follows is local and which are global?\n",
    "\n",
    "> Global Variables:\n",
    "\n",
    "> Local Variables:"
   ]
  },
  {
   "cell_type": "code",
   "execution_count": 7,
   "id": "c7507898",
   "metadata": {},
   "outputs": [
    {
     "name": "stdout",
     "output_type": "stream",
     "text": [
      "22\n"
     ]
    }
   ],
   "source": [
    "from math import pi\n",
    "\n",
    "def cylVol(radius = 1, height = 1):\n",
    "    return pi * radius ** 2 * height\n",
    "\n",
    "x = cylVol(3)\n",
    "\n",
    "y = 0\n",
    "total = 0\n",
    "while total < 10000:\n",
    "    temp = cylVol(y)\n",
    "    total += temp \n",
    "    y += 1\n",
    "print(y)"
   ]
  },
  {
   "cell_type": "markdown",
   "id": "44bfca27",
   "metadata": {},
   "source": [
    "4. From the statistics module, import the `mean` method. Calculate the mean of 100, 98, 95, 100, and 96. "
   ]
  },
  {
   "cell_type": "code",
   "execution_count": null,
   "id": "6330c018",
   "metadata": {},
   "outputs": [],
   "source": []
  }
 ],
 "metadata": {
  "kernelspec": {
   "display_name": "Python 3 (ipykernel)",
   "language": "python",
   "name": "python3"
  },
  "language_info": {
   "codemirror_mode": {
    "name": "ipython",
    "version": 3
   },
   "file_extension": ".py",
   "mimetype": "text/x-python",
   "name": "python",
   "nbconvert_exporter": "python",
   "pygments_lexer": "ipython3",
   "version": "3.9.7"
  }
 },
 "nbformat": 4,
 "nbformat_minor": 5
}
