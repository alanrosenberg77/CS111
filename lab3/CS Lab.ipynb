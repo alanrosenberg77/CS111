{
 "cells": [
  {
   "cell_type": "markdown",
   "id": "caeabfb2",
   "metadata": {},
   "source": [
    "## Computer Science Lab\n",
    "\n",
    "Null Pointers? Infinite Loops? Lonely?\n",
    "\n",
    "Drop by the Keck Lab for computer science tutoring<br>\n",
    "Monday thru Thursday from 7pm to 9pm<br>\n",
    "**No appointment necessary!**\n",
    "\n",
    "Bring your ducks!"
   ]
  },
  {
   "cell_type": "markdown",
   "id": "4f6acfa2-77dc-4996-8c78-77d295bdcb2f",
   "metadata": {},
   "source": [
    "## Assignment\n",
    "\n",
    "This assignment is worth 100 points. There are three sections to this homework assignment: a Fundamentals section, an Essentials section, and an Advanced section. You have all of the tools you need to complete all of the lab, but it is triaged for you to give you an idea of what you should focus on first."
   ]
  },
  {
   "cell_type": "markdown",
   "id": "9ca81fa7-c02c-4626-9a44-0baf16e8aac2",
   "metadata": {},
   "source": [
    "### Fundamentals (30 points)"
   ]
  },
  {
   "cell_type": "markdown",
   "id": "e420c4ce-3a6f-445b-bd90-460b9b48b350",
   "metadata": {},
   "source": [
    "1. (10 points) Do an internet search for \"confirmation bias\". In the context of data science, an outlier is an extreme value in a data set. It is good to check outliers to make sure the data is correct. Even when an outlier is correct, often some data scientists still remove outliers from their data sets. Considering the information you found on confirmation bias, why might it not be a good idea to remove outliers from our data sets?"
   ]
  },
  {
   "cell_type": "markdown",
   "id": "ab7e2235-a295-481b-a988-db06b3752e1b",
   "metadata": {},
   "source": [
    "  > Answer:"
   ]
  },
  {
   "cell_type": "markdown",
   "id": "3dc213e4-0421-4438-9c52-b696208f0512",
   "metadata": {},
   "source": [
    "2. (10 points) Why is commenting your code important? Think about why it might be important for yourself but also for a hypothetical team you could be working with."
   ]
  },
  {
   "cell_type": "markdown",
   "id": "c2e036af-b632-4dc9-9eea-706fa06a9098",
   "metadata": {},
   "source": [
    "  > Answer: "
   ]
  },
  {
   "cell_type": "markdown",
   "id": "5757175b-1344-4697-b977-f996d5b499cd",
   "metadata": {},
   "source": [
    "3. (10 points) So far in this class, we have seen certain modules like the `statistics` module, `math` module, or `random` module. Why doesn't Python load all of these modules automatically when you fire up a kernel?"
   ]
  },
  {
   "cell_type": "markdown",
   "id": "a2a71caa-d6b4-4e8d-ae27-ade05be17140",
   "metadata": {},
   "source": [
    " >Answer:"
   ]
  },
  {
   "cell_type": "markdown",
   "id": "1ed07202-3a5a-43b7-b511-7864765f14ed",
   "metadata": {},
   "source": [
    "### Essentials (50 points)"
   ]
  },
  {
   "cell_type": "markdown",
   "id": "b58a7b28-9163-454c-b007-19bc559797da",
   "metadata": {},
   "source": [
    "4. (10 points) Use a while loop to determine the biggest cube number less than 10,000."
   ]
  },
  {
   "cell_type": "code",
   "execution_count": null,
   "id": "0b07a982-71f0-481e-9f9a-029a69183bdf",
   "metadata": {},
   "outputs": [],
   "source": [
    "## Answer:"
   ]
  },
  {
   "cell_type": "markdown",
   "id": "2f91d2c8-251d-4324-951a-7004953bb554",
   "metadata": {},
   "source": [
    "5. (10 points) Use Python to simulate flipping an **unfair** coin where the probability of heads is two times tails. Next, simulate flipping the coin until 3 coins in a row show tails. How long does it take?\n",
    "\n",
    "    > Hint: You can write out a simple equation to determine the probability of flipping heads and tails (You know the total chance of flipping either heads or tails is 100% or 1). Next, you can create **2** counters, one for the total number of flips and one for the total number of consecutive tails.\n",
    "    "
   ]
  },
  {
   "cell_type": "code",
   "execution_count": null,
   "id": "569fe0af-4426-4210-93c7-340e21026f80",
   "metadata": {},
   "outputs": [],
   "source": [
    "## Answer"
   ]
  },
  {
   "cell_type": "markdown",
   "id": "c16408ce-152d-49e7-be43-26b1125dea53",
   "metadata": {},
   "source": [
    " > Number of flips required:"
   ]
  },
  {
   "cell_type": "markdown",
   "id": "3a9368c6-dd7e-4257-98e6-486f40029c7b",
   "metadata": {},
   "source": [
    "6. (10 points) Suppose you have the list given below:"
   ]
  },
  {
   "cell_type": "code",
   "execution_count": 69,
   "id": "d14fdc0e-d6f6-4679-bf0f-5f0858ce71c3",
   "metadata": {},
   "outputs": [],
   "source": [
    "#run this line of code before beginning this problem\n",
    "lst = [1,4,6,13,45,26,17,9,5,13]"
   ]
  },
  {
   "cell_type": "markdown",
   "id": "123c1ba0-94cd-41e2-99db-a57765a2cadb",
   "metadata": {},
   "source": [
    " Write a Python script that finds the two largest values of a list. Make sure your loop works by using another list."
   ]
  },
  {
   "cell_type": "code",
   "execution_count": null,
   "id": "429c83e3-6faf-4382-b157-0957a01c2a20",
   "metadata": {},
   "outputs": [],
   "source": [
    "## Answer"
   ]
  },
  {
   "cell_type": "markdown",
   "id": "5abbe5ea-a448-43f5-82b2-098109e49134",
   "metadata": {},
   "source": [
    "7. (10 points) We define $n! = n \\cdot (n-1) \\cdot (n-2) \\cdots 2 \\cdot 1$. Find the largest $n$ such that $n! < 2\\times 10^8$ **using the least amount of computational time.**"
   ]
  },
  {
   "cell_type": "code",
   "execution_count": 66,
   "id": "b33a8fb6-291a-4ae4-9843-cfcdae2424c0",
   "metadata": {},
   "outputs": [],
   "source": [
    "## Answer"
   ]
  },
  {
   "cell_type": "markdown",
   "id": "eed323ec-048e-4f76-a5b3-55237425b246",
   "metadata": {},
   "source": [
    "8. (10 points) Consider the grades from a recent DSA 111 course. Use the `statistics` library to determine the mean and median of this list. Next, remove the largest a smallest value from the list and calculate the mean and median again. Which value changed the most after removing the outliers?"
   ]
  },
  {
   "cell_type": "code",
   "execution_count": null,
   "id": "bca2cd39-d6f6-406d-bdc0-2cb8e3d50b52",
   "metadata": {},
   "outputs": [],
   "source": [
    "grades = [36, 64, 70, 71, 75, 69, 80, 75, 82, 81, 99, 78]"
   ]
  },
  {
   "cell_type": "code",
   "execution_count": 68,
   "id": "d51fd6fe-f3f5-41b2-801e-d5f0aea8e722",
   "metadata": {},
   "outputs": [],
   "source": [
    "## Answer"
   ]
  },
  {
   "cell_type": "markdown",
   "id": "076e0758-6e78-43c5-9924-9e785fac664e",
   "metadata": {},
   "source": [
    "> Answer: "
   ]
  },
  {
   "cell_type": "markdown",
   "id": "4f2d9ef1-2754-45a0-844c-686f64e64966",
   "metadata": {},
   "source": [
    "### Advanced (20 points)"
   ]
  },
  {
   "cell_type": "markdown",
   "id": "0e614288-0a0f-416d-ba43-d53e3de102cf",
   "metadata": {},
   "source": [
    "9. (10 points) A Pythagorean triple are three positive integers $a$, $b$, and $c$ such that $a^2 + b^2 = c^2$. Find all Pythagorean triples where $c < 20$. \n",
    "\n",
    "    > Hint: There are multiple ways to do this that make the computation simpler. Try and think about ways you could cut down on the computation time premptively. "
   ]
  },
  {
   "cell_type": "code",
   "execution_count": null,
   "id": "7d9f3d86-6e7f-4b48-bfa1-f1c22efd8e7f",
   "metadata": {},
   "outputs": [],
   "source": [
    "## Answer"
   ]
  },
  {
   "cell_type": "markdown",
   "id": "f5e4cff0-4cd2-4b06-9da5-a984767467b2",
   "metadata": {},
   "source": [
    "10. (10 points) Write a script which randomly picks a number between 1 and 100. Next, write a loops which:\n",
    "    - prompts the user to guess a number,\n",
    "    - then tells the user if the number selected is higher or lower than their guess\n",
    "    - and repeats this process until the correct number is guessed.\n",
    "    \n",
    "    Also, make sure that the program can be exited at any time by typing 'quit' when prompted for a guess by the computer."
   ]
  },
  {
   "cell_type": "code",
   "execution_count": 65,
   "id": "5827191c-02c1-4c86-abd7-22646ee27eaa",
   "metadata": {},
   "outputs": [],
   "source": [
    "## Answer"
   ]
  }
 ],
 "metadata": {
  "kernelspec": {
   "display_name": "Python 3 (ipykernel)",
   "language": "python",
   "name": "python3"
  },
  "language_info": {
   "codemirror_mode": {
    "name": "ipython",
    "version": 3
   },
   "file_extension": ".py",
   "mimetype": "text/x-python",
   "name": "python",
   "nbconvert_exporter": "python",
   "pygments_lexer": "ipython3",
   "version": "3.9.7"
  }
 },
 "nbformat": 4,
 "nbformat_minor": 5
}
