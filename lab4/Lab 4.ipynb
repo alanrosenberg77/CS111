{
 "cells": [
  {
   "cell_type": "markdown",
   "id": "a0f596d8-4d5f-42fd-8d84-b86e9e453eb7",
   "metadata": {},
   "source": [
    "## Instructions\n",
    "\n",
    "Answer the following questions. It behooves you to answer as much of each question as possible to receive some partial credit. You are advised to begin this lab early so that you have ample time to complete it. **Make sure that your code is commented appropriately to receive full credit on each problem**"
   ]
  },
  {
   "cell_type": "markdown",
   "id": "4f6acfa2-77dc-4996-8c78-77d295bdcb2f",
   "metadata": {},
   "source": [
    "## Assignment\n",
    "\n",
    "This assignment is worth 100 points. There are three sections to this homework assignment: a Fundamentals section, an Essentials section, and an Advanced section. You have all of the tools you need to complete all of the lab, but it is triaged for you to give you an idea of what you should focus on first."
   ]
  },
  {
   "cell_type": "markdown",
   "id": "9ca81fa7-c02c-4626-9a44-0baf16e8aac2",
   "metadata": {},
   "source": [
    "### Fundamentals (30 points)"
   ]
  },
  {
   "cell_type": "markdown",
   "id": "e420c4ce-3a6f-445b-bd90-460b9b48b350",
   "metadata": {},
   "source": [
    "1. (5 points) Give two reasons why you might want to use a function in your code."
   ]
  },
  {
   "cell_type": "markdown",
   "id": "ab7e2235-a295-481b-a988-db06b3752e1b",
   "metadata": {},
   "source": [
    "  > Answer:"
   ]
  },
  {
   "cell_type": "markdown",
   "id": "3dc213e4-0421-4438-9c52-b696208f0512",
   "metadata": {},
   "source": [
    "2. (5 points) Explain why you should never put an `input()` statement within a function."
   ]
  },
  {
   "cell_type": "markdown",
   "id": "c2e036af-b632-4dc9-9eea-706fa06a9098",
   "metadata": {},
   "source": [
    "  > Answer: "
   ]
  },
  {
   "cell_type": "markdown",
   "id": "5757175b-1344-4697-b977-f996d5b499cd",
   "metadata": {},
   "source": [
    "3. Consider the following code:"
   ]
  },
  {
   "cell_type": "code",
   "execution_count": 113,
   "id": "8aae1a11-cd4f-4024-a2d9-5b461b77d6a2",
   "metadata": {},
   "outputs": [],
   "source": [
    "def norm(p, xbar = 0, sd = 1):\n",
    "    \"\"\" Calculates something important\"\"\"\n",
    "    # Function code would go here\n",
    "    return answer"
   ]
  },
  {
   "cell_type": "markdown",
   "id": "e3b0482c-c7a1-49b4-ba24-c6d4e71f1570",
   "metadata": {},
   "source": [
    "  + (5 points) What are the arguments inside the parentheses? How do `xbar` and `sd` differ from `p`? "
   ]
  },
  {
   "cell_type": "markdown",
   "id": "a2a71caa-d6b4-4e8d-ae27-ade05be17140",
   "metadata": {
    "tags": []
   },
   "source": [
    " >Answer:"
   ]
  },
  {
   "cell_type": "markdown",
   "id": "35163e41-a3c6-48dd-8340-54d05c5ff310",
   "metadata": {},
   "source": [
    " + (5 points) What is the meaning of `\"\"\"...\"\"\"` in the code? Why is it important?"
   ]
  },
  {
   "cell_type": "markdown",
   "id": "2f4c4395-2bbb-45fc-abd8-9c8cd374ea9c",
   "metadata": {},
   "source": [
    "> Answer:"
   ]
  },
  {
   "cell_type": "markdown",
   "id": "24ce7625-044d-474b-8e78-c0a101719f98",
   "metadata": {},
   "source": [
    " + (5 points) Suppose we define the variable `temp` inside the function. Would you be able to access it outside of the function block? Why or why not?"
   ]
  },
  {
   "cell_type": "markdown",
   "id": "2bc0629a-209a-4ce5-9b47-5f1794e7a6bf",
   "metadata": {},
   "source": [
    ">Answer:"
   ]
  },
  {
   "cell_type": "markdown",
   "id": "a0aa0936-ba72-4c0a-acc1-280ff8c67176",
   "metadata": {},
   "source": [
    " + (5 points) What does the `return` statement do? Why can't we just use a `print()` statement instead?"
   ]
  },
  {
   "cell_type": "markdown",
   "id": "b24f9937-a218-4083-8bcb-669a9956a99c",
   "metadata": {},
   "source": [
    "> Answer:"
   ]
  },
  {
   "cell_type": "markdown",
   "id": "1ed07202-3a5a-43b7-b511-7864765f14ed",
   "metadata": {},
   "source": [
    "### Essentials (50 points)"
   ]
  },
  {
   "cell_type": "markdown",
   "id": "b58a7b28-9163-454c-b007-19bc559797da",
   "metadata": {},
   "source": [
    "4. (10 points) Write a function which simulates flipping a coin and returning heads or tails. "
   ]
  },
  {
   "cell_type": "code",
   "execution_count": 15,
   "id": "0b07a982-71f0-481e-9f9a-029a69183bdf",
   "metadata": {},
   "outputs": [
    {
     "name": "stdout",
     "output_type": "stream",
     "text": [
      "Heads\n"
     ]
    }
   ],
   "source": [
    "## Answer:\n",
    "import random\n",
    "\n",
    "def flipCoin():\n",
    "    \"\"\"Flips a coin, returning heads or tails\"\"\"\n",
    "    if random.randint(0,1) == 0:\n",
    "        return 'Heads'\n",
    "    else:\n",
    "        return 'Tails'\n",
    "\n",
    "print(flipCoin())"
   ]
  },
  {
   "cell_type": "markdown",
   "id": "2f91d2c8-251d-4324-951a-7004953bb554",
   "metadata": {},
   "source": [
    "5. (10 points) Write a function which inputs a list of grades and the gives the average of the grades **after removing the lowest two scores**. Make sure that the function can accept any number of arguments (and not a fixed list size). \n",
    "\n",
    "    > Hint: You already know how to do this, but you might look at the `sorted()` function to make your life a lot easier!\n",
    "    "
   ]
  },
  {
   "cell_type": "code",
   "execution_count": 24,
   "id": "569fe0af-4426-4210-93c7-340e21026f80",
   "metadata": {},
   "outputs": [
    {
     "name": "stdout",
     "output_type": "stream",
     "text": [
      "89.86666666666667\n"
     ]
    }
   ],
   "source": [
    "## Answer\n",
    "\n",
    "def avgGrades(grades):\n",
    "    \"\"\"Drops the 2 lowest values in a list\n",
    "    of grades, then averages the remaining grades\"\"\"\n",
    "    \n",
    "    sum = 0\n",
    "    for i in range(2):\n",
    "        min = grades[0]\n",
    "        for val in grades:\n",
    "            if(val < min):\n",
    "                min = val\n",
    "        grades.remove(min)\n",
    "    \n",
    "    for val in grades:\n",
    "        sum += val\n",
    "        \n",
    "    return sum/len(grades)\n",
    "\n",
    "\n",
    "grades = [95.5, 87.9, 86.2, 85.0, 72.4]\n",
    "print(avgGrades(grades))"
   ]
  },
  {
   "cell_type": "markdown",
   "id": "3a9368c6-dd7e-4257-98e6-486f40029c7b",
   "metadata": {},
   "source": [
    "6. (10 points) Write a function which determines if a number is prime or not."
   ]
  },
  {
   "cell_type": "code",
   "execution_count": 34,
   "id": "dc082148-ce86-49d9-8076-1d8dd1f569b0",
   "metadata": {},
   "outputs": [
    {
     "name": "stdout",
     "output_type": "stream",
     "text": [
      "False\n"
     ]
    }
   ],
   "source": [
    "## Answer\n",
    "\n",
    "def isPrime(number):\n",
    "    \"\"\"Determines whether a number is prime\"\"\"\n",
    "    \n",
    "    isPrime = True\n",
    "    for x in range(2,number):\n",
    "        if(number % x == 0):\n",
    "            isPrime = False\n",
    "    \n",
    "    return isPrime\n",
    "\n",
    "\n",
    "print(isPrime(4))"
   ]
  },
  {
   "cell_type": "markdown",
   "id": "5abbe5ea-a448-43f5-82b2-098109e49134",
   "metadata": {},
   "source": [
    "7. (10 points) Look up the formulas and difference between \"population\" standard deviation and \"sample\" standard deviation. Create a function which inputs a list and calculates either the population standard deviation or the sample standard deviation based on what the user wants. As a default, have the function calculate the sample standard deviation."
   ]
  },
  {
   "cell_type": "code",
   "execution_count": 37,
   "id": "b33a8fb6-291a-4ae4-9843-cfcdae2424c0",
   "metadata": {},
   "outputs": [
    {
     "name": "stdout",
     "output_type": "stream",
     "text": [
      "7.32006375199925\n"
     ]
    }
   ],
   "source": [
    "## Answer\n",
    "import math\n",
    "\n",
    "def calcSD(popOrSample, data):\n",
    "    \"\"\"Calculates standard deviation. Agrument\n",
    "    determines whether to use population SD (True)\n",
    "    or sample SD (False)\"\"\"\n",
    "    \n",
    "    #Population SD\n",
    "    if(popOrSample):\n",
    "        sum = 0;\n",
    "        for val in data:\n",
    "            sum += val\n",
    "        mew = sum/len(data)\n",
    "        \n",
    "        sum = 0\n",
    "        for val in data:\n",
    "            sum += (val - mew)**2\n",
    "        sum /= len(data)\n",
    "        return math.sqrt(sum)\n",
    "    \n",
    "    #Sample SD\n",
    "    else:\n",
    "        sum = 0;\n",
    "        for val in data:\n",
    "            sum += val\n",
    "        mean = sum/len(data)\n",
    "        \n",
    "        sum = 0\n",
    "        for val in data:\n",
    "            sum += (val - mean)**2\n",
    "        sum /= len(data)-1\n",
    "        return math.sqrt(sum)\n",
    "\n",
    "data = [4,7,10,15,20,25]\n",
    "print(calcSD(True, data))"
   ]
  },
  {
   "cell_type": "markdown",
   "id": "eed323ec-048e-4f76-a5b3-55237425b246",
   "metadata": {},
   "source": [
    "8. (10 points) Create a function which inputs two words and then checks to see how many letters match in each **by position**. For example `earth` and `earn` have three letters that match while `heart` and `earth` have 0. \n",
    "\n",
    "    >Hint: You can access individual letters in a string by using the code `nameOfString[i]`. Remember that numbering starts at 0!. You will also need to consider how you find the smallest word and only check matching letters up to the point the smallest word stops."
   ]
  },
  {
   "cell_type": "code",
   "execution_count": 49,
   "id": "d51fd6fe-f3f5-41b2-801e-d5f0aea8e722",
   "metadata": {},
   "outputs": [
    {
     "name": "stdout",
     "output_type": "stream",
     "text": [
      "3\n"
     ]
    }
   ],
   "source": [
    "## Answer\n",
    "\n",
    "def matches(word1, word2):\n",
    "    \"\"\"Checks to see how many matching letters\n",
    "    there are between two words\"\"\"\n",
    "    \n",
    "    length = 0;\n",
    "    len1 = len(word1)\n",
    "    len2 = len(word2)\n",
    "    if(len1 < len2):\n",
    "        length = len1\n",
    "    else:\n",
    "        length = len2\n",
    "        \n",
    "    matches = 0\n",
    "    for i in range(length):\n",
    "        if(word1[i] == word2[i]):\n",
    "            matches += 1\n",
    "            \n",
    "    return matches\n",
    "\n",
    "print(matches(\"earth\", \"earn\"))"
   ]
  },
  {
   "cell_type": "markdown",
   "id": "4f2d9ef1-2754-45a0-844c-686f64e64966",
   "metadata": {},
   "source": [
    "### Advanced (20 points)"
   ]
  },
  {
   "cell_type": "markdown",
   "id": "0e614288-0a0f-416d-ba43-d53e3de102cf",
   "metadata": {},
   "source": [
    "9. (10 points) The golden ratio, $\\phi$, is defined as the so-called \"continued\" fraction below:\n",
    "\n",
    "    $$ \\phi = 1 + \\dfrac{1}{1 + \\dfrac{1}{1 + \\dfrac{1}{1 +\\dfrac{1}{1 + \\dfrac{1}{1 + \\ddots}}}}} $$\n",
    "\n",
    "    We can estimate $\\phi$ by truncating the continued fraction in various places. As an example, we would get the following results after one step (which we call $\\phi_1$):\n",
    "    \n",
    "    $$ \\phi_1 = 1 + \\dfrac{1}{1 + 1} $$\n",
    "    After two steps ($\\phi_2$), we would get:\n",
    "    \n",
    "    $$ 1 + \\dfrac{1}{1 + \\dfrac{1}{1 + 1}} $$\n",
    "    \n",
    "    Write a program which estimates $\\phi$ to $n$ steps of precision.\n",
    "    \n",
    "    > Hint: Note that in the example above $\\phi_2 = 1 + \\dfrac{1}{\\phi_1}$. In general,\n",
    "    \n",
    "    $$ \\phi_n = 1 + \\dfrac{1}{\\phi_{n-1}} $$\n",
    "    \n",
    "    Use this to your advantage when defining the function.\n",
    "    \n",
    "    "
   ]
  },
  {
   "cell_type": "code",
   "execution_count": 10,
   "id": "7d9f3d86-6e7f-4b48-bfa1-f1c22efd8e7f",
   "metadata": {},
   "outputs": [
    {
     "name": "stdout",
     "output_type": "stream",
     "text": [
      "1.618033988749895\n"
     ]
    }
   ],
   "source": [
    "## Answer\n",
    "\n",
    "def estimatePhi(n):\n",
    "    \"\"\"Estimaing the golden ratio\"\"\"\n",
    "    \n",
    "    phi = 2\n",
    "    for i in range(n):\n",
    "        phi = 1 + (1/(phi))\n",
    "        \n",
    "    return phi\n",
    "\n",
    "print(estimatePhi(100))"
   ]
  },
  {
   "cell_type": "markdown",
   "id": "f5e4cff0-4cd2-4b06-9da5-a984767467b2",
   "metadata": {},
   "source": [
    "10. (10 points) If you are unfamiliar with a standard deck of 52 playing cards, look it up now. A **flush** in a 5-card poker hand is 5 cards of the same suit. Imagine that a deck of 52 playing cards is numbered 0-51, with 0-12, clubs, 13-25 diamonds, 26-38 hearts, and 39-51 spades. Thus the following are all examples of flushes:(1,5,3,7,12), (15, 14, 20, 25, 19), (27,28,29,30,31), (51,50,48,46,49). Write a program which randomly selects a 5 card hand and determines whether that hand is a flush. (Don't worry about straight flushes).\n",
    "\n",
    "> Hint 1: Create a list of \"cards\" using the `range()` function and then pick five without replacement using the `.sample()` method from the `random` library in Python.\n",
    "\n",
    "> Hint 2: The `floor()` function might be really useful here. \n"
   ]
  },
  {
   "cell_type": "code",
   "execution_count": 70,
   "id": "5827191c-02c1-4c86-abd7-22646ee27eaa",
   "metadata": {},
   "outputs": [
    {
     "name": "stdout",
     "output_type": "stream",
     "text": [
      "False\n"
     ]
    }
   ],
   "source": [
    "## Function\n",
    "import random\n",
    "\n",
    "def getSuit(card):\n",
    "    if(card <= 12):\n",
    "        return 'club'\n",
    "    elif(card > 12 and card <=25):\n",
    "        return 'diamond'\n",
    "    elif(card > 25 and card <= 38):\n",
    "        return 'heart'\n",
    "    elif(card > 38 and card <= 51):\n",
    "        return 'spade'\n",
    "\n",
    "def isFlush():\n",
    "    cards = range(52)\n",
    "    hand = random.sample(cards, 5)\n",
    "    \n",
    "    suit = getSuit(hand[0])\n",
    "    isFlush = True\n",
    "    for card in hand:\n",
    "        if(suit == getSuit(card)):\n",
    "            continue\n",
    "        else:\n",
    "            isFlush = False\n",
    "    return isFlush\n",
    "\n",
    "print(isFlush())"
   ]
  },
  {
   "cell_type": "markdown",
   "id": "231f12d9-fd39-4d88-aedd-4f461aedf75e",
   "metadata": {},
   "source": [
    "+ Next, simulate 50,000 poker hands and see how many flushes you get."
   ]
  },
  {
   "cell_type": "code",
   "execution_count": 79,
   "id": "247df19c-c03a-4fed-b7dc-8573f46b7908",
   "metadata": {},
   "outputs": [
    {
     "name": "stdout",
     "output_type": "stream",
     "text": [
      "90\n"
     ]
    }
   ],
   "source": [
    "## Simulation\n",
    "\n",
    "flushes = 0\n",
    "for i in range(50000):\n",
    "    if isFlush():\n",
    "        flushes += 1\n",
    "        \n",
    "print(flushes)"
   ]
  },
  {
   "cell_type": "markdown",
   "id": "8284b5bf-3292-4e8c-9051-125ffd2528bc",
   "metadata": {},
   "source": [
    "+ Finally, use this information to estimate the probability of drawing a flush in five card poker. (To see if your number was accurate you can compare it to the actual probability which is approximately $0.198\\%$.)"
   ]
  },
  {
   "cell_type": "code",
   "execution_count": 80,
   "id": "0bf20781-11e3-44ff-aeda-56da4a9ac692",
   "metadata": {},
   "outputs": [
    {
     "name": "stdout",
     "output_type": "stream",
     "text": [
      "Probability of drawing a flush in five card poker is 0.0018\n"
     ]
    }
   ],
   "source": [
    "## Estimated Probability\n",
    "\n",
    "print('Probability of drawing a flush in five card poker is',flushes/50000)"
   ]
  },
  {
   "cell_type": "code",
   "execution_count": null,
   "id": "9f592814",
   "metadata": {},
   "outputs": [],
   "source": []
  }
 ],
 "metadata": {
  "kernelspec": {
   "display_name": "Python 3 (ipykernel)",
   "language": "python",
   "name": "python3"
  },
  "language_info": {
   "codemirror_mode": {
    "name": "ipython",
    "version": 3
   },
   "file_extension": ".py",
   "mimetype": "text/x-python",
   "name": "python",
   "nbconvert_exporter": "python",
   "pygments_lexer": "ipython3",
   "version": "3.9.7"
  }
 },
 "nbformat": 4,
 "nbformat_minor": 5
}
