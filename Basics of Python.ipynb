{
 "cells": [
  {
   "cell_type": "markdown",
   "id": "aebd3b71",
   "metadata": {},
   "source": [
    "## Basics of Python\n",
    "\n",
    "Let's start with some basic commands. Just type in what I have listed for you, and see what it outputs.\n",
    "\n",
    "1. Type in 3+4. Python should perform the operation and output the correct solution"
   ]
  },
  {
   "cell_type": "code",
   "execution_count": 4,
   "id": "4fffa043",
   "metadata": {},
   "outputs": [
    {
     "data": {
      "text/plain": [
       "7"
      ]
     },
     "execution_count": 4,
     "metadata": {},
     "output_type": "execute_result"
    }
   ],
   "source": [
    "3 + 4"
   ]
  },
  {
   "cell_type": "markdown",
   "id": "d820dd58",
   "metadata": {},
   "source": [
    "2. Have Python multiple 5 and 4. The asterisk is used here for multiplication. "
   ]
  },
  {
   "cell_type": "code",
   "execution_count": 5,
   "id": "a8364cad",
   "metadata": {},
   "outputs": [
    {
     "data": {
      "text/plain": [
       "20"
      ]
     },
     "execution_count": 5,
     "metadata": {},
     "output_type": "execute_result"
    }
   ],
   "source": [
    "5 * 4"
   ]
  },
  {
   "cell_type": "markdown",
   "id": "bdcdeac3",
   "metadata": {},
   "source": [
    "3. Have python compute $2^4$. This can be accomplished using the $\\ast\\ast$. Try it below. "
   ]
  },
  {
   "cell_type": "code",
   "execution_count": 6,
   "id": "5cbbb2bb",
   "metadata": {},
   "outputs": [
    {
     "data": {
      "text/plain": [
       "16"
      ]
     },
     "execution_count": 6,
     "metadata": {},
     "output_type": "execute_result"
    }
   ],
   "source": [
    "2 ** 4\n",
    "# Note: ^ does not represent exponentiation"
   ]
  },
  {
   "cell_type": "markdown",
   "id": "122e3aa5",
   "metadata": {},
   "source": [
    "Commenting is one of the most important aspects of coding. Leaving a comment on code you have written not only allows you to remember what you were thinking when you wrote the script/program, but it also allows other to review your work.\n",
    "\n",
    "4. Compute $(3 + 7) ^ {10}$ and leave a comment indicating what you did. "
   ]
  },
  {
   "cell_type": "code",
   "execution_count": 7,
   "id": "dcad54c3",
   "metadata": {},
   "outputs": [
    {
     "data": {
      "text/plain": [
       "10000000000"
      ]
     },
     "execution_count": 7,
     "metadata": {},
     "output_type": "execute_result"
    }
   ],
   "source": [
    "(3+7) ** 10"
   ]
  },
  {
   "cell_type": "markdown",
   "id": "f208d3c6",
   "metadata": {},
   "source": [
    "Often, we will want to compute values from that we have saved. We can store values in a *variable*. The code below stores 3 as $x$ and 4 and $y$. \n",
    "\n",
    "5. Run the code, and notice nothing is output. This is because we have not *asked* Python to output anything. Computer languages can only do what we tell them too!\n",
    "\n",
    "6. Change the numbers to whatever you want and compute x + y. (Use the variables x and y not the numbers you selected!)"
   ]
  },
  {
   "cell_type": "code",
   "execution_count": 9,
   "id": "4cf14cbf",
   "metadata": {},
   "outputs": [
    {
     "data": {
      "text/plain": [
       "7"
      ]
     },
     "execution_count": 9,
     "metadata": {},
     "output_type": "execute_result"
    }
   ],
   "source": [
    "x = 3\n",
    "y = 4\n",
    "\n",
    "x+y"
   ]
  },
  {
   "cell_type": "markdown",
   "id": "6bfe2d24",
   "metadata": {},
   "source": [
    "Although equal signs typically go \"both\" ways (i.e. x = y and y = x) indicate the same thing, in Python assignment goes from left to right. \n",
    "\n",
    "7. Write x = y below and then compute x and compute y.\n",
    "\n",
    "8. Change x = y to y = x and then compute x and computer y."
   ]
  },
  {
   "cell_type": "code",
   "execution_count": null,
   "id": "42615e80",
   "metadata": {},
   "outputs": [],
   "source": [
    "x = 10\n",
    "y = 6"
   ]
  },
  {
   "cell_type": "markdown",
   "id": "7b7922c0",
   "metadata": {},
   "source": [
    "One last operation we will talk about in Python is the modulo operation. m modulo (or mod) n is the *remainder of m when divided by n*. For example, $43 \\mod 3 = 1$ and $756 \\mod 10 = 6$. In Python, the $\\%$ commands is used for this operation.\n",
    "\n",
    "9. What is the remainder of 45768 divided by 23?"
   ]
  },
  {
   "cell_type": "code",
   "execution_count": 10,
   "id": "e96eab73",
   "metadata": {},
   "outputs": [
    {
     "data": {
      "text/plain": [
       "21"
      ]
     },
     "execution_count": 10,
     "metadata": {},
     "output_type": "execute_result"
    }
   ],
   "source": [
    "45768%23"
   ]
  },
  {
   "cell_type": "markdown",
   "id": "d2c09d2f",
   "metadata": {},
   "source": [
    "### Strings\n",
    "\n",
    "So far, we have only dealt with numbers, but Python is perfectly capable of handling characters. Multiple characters are called a *string*. Strings can be stored in Python by using quotation marks. For example, see below:"
   ]
  },
  {
   "cell_type": "code",
   "execution_count": 11,
   "id": "933e597c",
   "metadata": {},
   "outputs": [],
   "source": [
    "x = 'Hello'\n",
    "y = 'World'"
   ]
  },
  {
   "cell_type": "markdown",
   "id": "9d20b414",
   "metadata": {},
   "source": [
    "10. Try to perform the +, $\\ast$, and ^ operations below with x and y. What happens when you do these? (Note: You will get errors for two of these). Leave yourself a comment to remind yourself of what happens."
   ]
  },
  {
   "cell_type": "code",
   "execution_count": 16,
   "id": "d16a76af",
   "metadata": {},
   "outputs": [
    {
     "data": {
      "text/plain": [
       "'HelloWorld'"
      ]
     },
     "execution_count": 16,
     "metadata": {},
     "output_type": "execute_result"
    }
   ],
   "source": [
    "x+y"
   ]
  },
  {
   "cell_type": "code",
   "execution_count": 17,
   "id": "97996ce6",
   "metadata": {},
   "outputs": [
    {
     "data": {
      "text/plain": [
       "'HelloHelloHello'"
      ]
     },
     "execution_count": 17,
     "metadata": {},
     "output_type": "execute_result"
    }
   ],
   "source": [
    "3*x"
   ]
  },
  {
   "cell_type": "code",
   "execution_count": null,
   "id": "938f3d97",
   "metadata": {},
   "outputs": [],
   "source": []
  }
 ],
 "metadata": {
  "kernelspec": {
   "display_name": "Python 3 (ipykernel)",
   "language": "python",
   "name": "python3"
  },
  "language_info": {
   "codemirror_mode": {
    "name": "ipython",
    "version": 3
   },
   "file_extension": ".py",
   "mimetype": "text/x-python",
   "name": "python",
   "nbconvert_exporter": "python",
   "pygments_lexer": "ipython3",
   "version": "3.9.12"
  }
 },
 "nbformat": 4,
 "nbformat_minor": 5
}
