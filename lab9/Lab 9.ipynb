{
 "cells": [
  {
   "cell_type": "markdown",
   "id": "a0f596d8-4d5f-42fd-8d84-b86e9e453eb7",
   "metadata": {},
   "source": [
    "## Instructions\n",
    "\n",
    "Answer the following questions. It behooves you to answer as much of each question as possible to receive some partial credit. You are advised to begin this lab early so that you have ample time to complete it. **Make sure that your code is commented appropriately to receive full credit on each problem**"
   ]
  },
  {
   "cell_type": "markdown",
   "id": "4f6acfa2-77dc-4996-8c78-77d295bdcb2f",
   "metadata": {},
   "source": [
    "## Assignment\n",
    "\n",
    "This assignment is worth 100 points. There are three sections to this homework assignment: a Fundamentals section, an Essentials section, and an Advanced section. You have all of the tools you need to complete all of the lab, but it is triaged for you to give you an idea of what you should focus on first."
   ]
  },
  {
   "cell_type": "markdown",
   "id": "9ca81fa7-c02c-4626-9a44-0baf16e8aac2",
   "metadata": {},
   "source": [
    "### Fundamentals (30 points)"
   ]
  },
  {
   "cell_type": "markdown",
   "id": "e420c4ce-3a6f-445b-bd90-460b9b48b350",
   "metadata": {},
   "source": [
    "1. (10 points) Read more about formatting strings in the book. What characters do you use to left-align, right-align, and center a string?"
   ]
  },
  {
   "cell_type": "markdown",
   "id": "ab7e2235-a295-481b-a988-db06b3752e1b",
   "metadata": {},
   "source": [
    "  > Answer:"
   ]
  },
  {
   "cell_type": "markdown",
   "id": "3dc213e4-0421-4438-9c52-b696208f0512",
   "metadata": {},
   "source": [
    "2. (10 points) List 3 things that you can do to string data in a data set to make it easier for data analysis."
   ]
  },
  {
   "cell_type": "markdown",
   "id": "c2e036af-b632-4dc9-9eea-706fa06a9098",
   "metadata": {},
   "source": [
    "  > Answer: "
   ]
  },
  {
   "cell_type": "markdown",
   "id": "5757175b-1344-4697-b977-f996d5b499cd",
   "metadata": {},
   "source": [
    "3. (10 points) Read section 8.12 about regular expressions. Make a list of the types of strings you can search for using them."
   ]
  },
  {
   "cell_type": "markdown",
   "id": "b24f9937-a218-4083-8bcb-669a9956a99c",
   "metadata": {},
   "source": [
    "> Answer:"
   ]
  },
  {
   "cell_type": "markdown",
   "id": "1ed07202-3a5a-43b7-b511-7864765f14ed",
   "metadata": {},
   "source": [
    "### Essentials (50 points)"
   ]
  },
  {
   "cell_type": "markdown",
   "id": "b58a7b28-9163-454c-b007-19bc559797da",
   "metadata": {},
   "source": [
    "4. (10 points) Remove all white space from the following strings:"
   ]
  },
  {
   "cell_type": "code",
   "execution_count": 2,
   "id": "1d24d342-8b75-43ca-a941-7b21095e4bfe",
   "metadata": {},
   "outputs": [
    {
     "name": "stdout",
     "output_type": "stream",
     "text": [
      "['One', 'Two', 'Three']\n"
     ]
    }
   ],
   "source": [
    "lst = ['   One    ', 'Two     ', '       Three']\n",
    "\n",
    "lst = [string.strip() for string in lst]\n",
    "print(lst)"
   ]
  },
  {
   "cell_type": "markdown",
   "id": "2f91d2c8-251d-4324-951a-7004953bb554",
   "metadata": {},
   "source": [
    "5. (10 points) Proofread the following string and use the `.replace()` function to replace the mispelled words."
   ]
  },
  {
   "cell_type": "code",
   "execution_count": 6,
   "id": "569fe0af-4426-4210-93c7-340e21026f80",
   "metadata": {},
   "outputs": [
    {
     "name": "stdout",
     "output_type": "stream",
     "text": [
      "in this string, every word is spelled correctly, \n",
      "            \n",
      "but a cool hacker wrote this so it needs to be cleaned up\n"
     ]
    }
   ],
   "source": [
    "## Answer\n",
    "\n",
    "string = \"\"\"1n th1s str1ng, 3v3ry w0rd 1s sp3ll3d corr3ctly, \n",
    "            \\nbut a c00l hack3r wr0t3 th1s s0 1t n33ds to b3 cl3an3d up\"\"\"\n",
    "\n",
    "string = string.replace('1', 'i')\n",
    "string = string.replace('3', 'e')\n",
    "string = string.replace('0', 'o')\n",
    "\n",
    "print(string)"
   ]
  },
  {
   "cell_type": "markdown",
   "id": "3a9368c6-dd7e-4257-98e6-486f40029c7b",
   "metadata": {},
   "source": [
    "6. (15 points) Below is the text for *Romeo and Juliet* again. Find the following:\n",
    " + The position at which 'romeo' first appears in the script.\n",
    " + How many times 'juliet' appears in the script.\n",
    " + The *last* time 'mercutio' is mentioned in the script."
   ]
  },
  {
   "cell_type": "code",
   "execution_count": 39,
   "id": "dc082148-ce86-49d9-8076-1d8dd1f569b0",
   "metadata": {},
   "outputs": [
    {
     "name": "stdout",
     "output_type": "stream",
     "text": [
      "5641\n",
      "182\n",
      "121958\n"
     ]
    }
   ],
   "source": [
    "## File\n",
    "file=open(\"romeoJuliet.txt\")\n",
    "dataString=file.read().lower()\n",
    "file.close()\n",
    "\n",
    "start = dataString.index('two households')\n",
    "dataString = dataString[start:]\n",
    "\n",
    "# remove punctuation\n",
    "text2 = \"\"\n",
    "for char in dataString:\n",
    "    if char.isalnum() == True or char.isspace() == True:\n",
    "        text2 = text2 + char\n",
    "text = text2\n",
    "# print(text)\n",
    "\n",
    "## Answer\n",
    "\n",
    "print(text.find('romeo'))\n",
    "print(text.count('juliet'))\n",
    "print(text.rfind('mercutio'))"
   ]
  },
  {
   "cell_type": "markdown",
   "id": "5abbe5ea-a448-43f5-82b2-098109e49134",
   "metadata": {},
   "source": [
    "7. (15 points) In Romeo and Juliet above, determine the longest and most common word. \n",
    "\n",
    "> Hint: Use two dictionaries!"
   ]
  },
  {
   "cell_type": "code",
   "execution_count": 40,
   "id": "6a7b34aa-ea8b-4047-b49e-2b73522db2cd",
   "metadata": {},
   "outputs": [],
   "source": [
    "## Answer\n",
    "\n",
    "text = text.split()\n",
    "rAndJ = {word:text.count(word) for word in text}\n",
    "otherRAndJ = {word:len(word) for word in text}"
   ]
  },
  {
   "cell_type": "code",
   "execution_count": 46,
   "id": "eba2f8f4",
   "metadata": {},
   "outputs": [
    {
     "name": "stdout",
     "output_type": "stream",
     "text": [
      "neighbourstained\n",
      "and\n"
     ]
    }
   ],
   "source": [
    "longest = 'romeo'\n",
    "for key in otherRAndJ.keys():\n",
    "    if otherRAndJ.get(key) > otherRAndJ.get(longest):\n",
    "        longest = key\n",
    "        \n",
    "print(longest)\n",
    "\n",
    "mode = 'romeo'\n",
    "for key in rAndJ.keys():\n",
    "    if rAndJ.get(key) > rAndJ.get(mode):\n",
    "        mode = key\n",
    "\n",
    "print(mode)"
   ]
  },
  {
   "cell_type": "markdown",
   "id": "4f2d9ef1-2754-45a0-844c-686f64e64966",
   "metadata": {},
   "source": [
    "### Advanced (20 points)"
   ]
  },
  {
   "cell_type": "markdown",
   "id": "f5e4cff0-4cd2-4b06-9da5-a984767467b2",
   "metadata": {},
   "source": [
    "8. (20 points) Read Section 8.12 about regular expressions (Do it for real if you half-assed it above). Below is the text of the United States Constitution that we used in class. Your task is to find the longest word in the Constitution that is a contraction (e.g. \"don't\", \"won't\" ,etc.) *by using a regular expression to do so*. You should do the following items:\n",
    " + Split the constitution into individual words.\n",
    " + Find all words that are a contraction.\n",
    " + Remove any extraneous punctuation (everything but the ').\n",
    " + Make a dictionary of these words and their length.\n",
    " + Find the longest word."
   ]
  },
  {
   "cell_type": "code",
   "execution_count": 47,
   "id": "5827191c-02c1-4c86-abd7-22646ee27eaa",
   "metadata": {},
   "outputs": [
    {
     "name": "stdout",
     "output_type": "stream",
     "text": [
      "notwithstanding 15\n"
     ]
    }
   ],
   "source": [
    "## Answer\n",
    "import re # regular expression library\n",
    "import requests\n",
    "\n",
    "response = requests.get('https://www.usconstitution.net/const.txt')\n",
    "text = response.text\n",
    "\n",
    "text = text[278:]\n",
    "\n",
    "removals = ['\\n','\\r','.','-','\"',';',',','?','!']\n",
    "for item in removals:\n",
    "    text = text.replace(item, ' ')\n",
    "\n",
    "text = text.split()\n",
    "\n",
    "contractions = []\n",
    "for word in text:\n",
    "#     finding all words with the letter d instead (to return some results)\n",
    "    x = re.search('w', word)\n",
    "    if x:\n",
    "        contractions.append(word)\n",
    "\n",
    "\n",
    "lengths = {word : len(word) for word in contractions}\n",
    "\n",
    "max = list(lengths.keys())[0]\n",
    "for key in lengths.keys():\n",
    "    if lengths.get(key) > lengths.get(max):\n",
    "        max = key\n",
    "        \n",
    "print(max, lengths.get(max))"
   ]
  },
  {
   "cell_type": "code",
   "execution_count": null,
   "id": "9b5ae0b4",
   "metadata": {},
   "outputs": [],
   "source": []
  }
 ],
 "metadata": {
  "kernelspec": {
   "display_name": "Python 3 (ipykernel)",
   "language": "python",
   "name": "python3"
  },
  "language_info": {
   "codemirror_mode": {
    "name": "ipython",
    "version": 3
   },
   "file_extension": ".py",
   "mimetype": "text/x-python",
   "name": "python",
   "nbconvert_exporter": "python",
   "pygments_lexer": "ipython3",
   "version": "3.9.12"
  }
 },
 "nbformat": 4,
 "nbformat_minor": 5
}
