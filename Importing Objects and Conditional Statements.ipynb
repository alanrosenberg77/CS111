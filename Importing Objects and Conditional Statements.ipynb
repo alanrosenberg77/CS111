{
 "cells": [
  {
   "cell_type": "markdown",
   "id": "5e960430",
   "metadata": {},
   "source": [
    "## Importing Objects\n",
    "\n",
    "1. Import the `math` object using the `import` statement"
   ]
  },
  {
   "cell_type": "code",
   "execution_count": null,
   "id": "a7e845bd",
   "metadata": {},
   "outputs": [],
   "source": []
  },
  {
   "cell_type": "markdown",
   "id": "7043b421",
   "metadata": {},
   "source": [
    "2. evaluate $\\sin(\\frac{\\pi}{6})$ in Python. Note: the sin function is a method of the `math` package and pi is as well."
   ]
  },
  {
   "cell_type": "code",
   "execution_count": null,
   "id": "9f37b8f9",
   "metadata": {},
   "outputs": [],
   "source": []
  },
  {
   "cell_type": "markdown",
   "id": "fcdc9f68",
   "metadata": {},
   "source": [
    "3. The `pow(x,y)` method in the `math` package returns the value of $x^y$. Set $x = 49$ and $y = 1/2$ and determine $x ^ y$.  "
   ]
  },
  {
   "cell_type": "code",
   "execution_count": null,
   "id": "208dd060",
   "metadata": {},
   "outputs": [],
   "source": []
  },
  {
   "cell_type": "markdown",
   "id": "a5376421",
   "metadata": {},
   "source": [
    "4. Now, evaluate `pow(y,x)`. Does the order matter?"
   ]
  },
  {
   "cell_type": "code",
   "execution_count": 14,
   "id": "974118b7",
   "metadata": {},
   "outputs": [],
   "source": [
    "import random as rand"
   ]
  },
  {
   "cell_type": "markdown",
   "id": "69670232",
   "metadata": {},
   "source": [
    "5. Now, import the `random` module as `rand`. Use the `seed` method in the module and set it to 2. Now, print a random number. (Note: `random` is a method of `rand`"
   ]
  },
  {
   "cell_type": "code",
   "execution_count": null,
   "id": "35345b71",
   "metadata": {},
   "outputs": [],
   "source": []
  },
  {
   "cell_type": "markdown",
   "id": "a7251c78",
   "metadata": {},
   "source": [
    "6. Create an if-else statement that does the asks the user for an integer and then determines whether that number is divisible by three. If it isn't divisible by 3, have Python tell the user what the remainder is when that number is divided by three."
   ]
  },
  {
   "cell_type": "code",
   "execution_count": null,
   "id": "52f596bc",
   "metadata": {},
   "outputs": [],
   "source": []
  },
  {
   "cell_type": "markdown",
   "id": "a1d57f4e",
   "metadata": {},
   "source": [
    "6. Create a program which determines if a number is divisible by 6 *but* do it by asking if the number is divisible by 3 and even! Have Python indicate whether the number is divisible by 6. "
   ]
  },
  {
   "cell_type": "code",
   "execution_count": null,
   "id": "cb179389",
   "metadata": {},
   "outputs": [],
   "source": []
  },
  {
   "cell_type": "markdown",
   "id": "1eb7bf6d",
   "metadata": {},
   "source": [
    "7. Challenge question: Make a program that does all of the following:\n",
    "    * Have it pick a random number\n",
    "    * Have it tell the user what number it picked\n",
    "    * Have it tell the user whether the number is less than $-3$, between $-3$ and $3$, or greater than $3$.\n",
    "    * If the number is in the first two categories, have Python say, \"This is an outlier!\". In the middle case have it say \"This number is typical.\""
   ]
  },
  {
   "cell_type": "code",
   "execution_count": null,
   "id": "7e25217a",
   "metadata": {},
   "outputs": [],
   "source": []
  }
 ],
 "metadata": {
  "kernelspec": {
   "display_name": "Python 3 (ipykernel)",
   "language": "python",
   "name": "python3"
  },
  "language_info": {
   "codemirror_mode": {
    "name": "ipython",
    "version": 3
   },
   "file_extension": ".py",
   "mimetype": "text/x-python",
   "name": "python",
   "nbconvert_exporter": "python",
   "pygments_lexer": "ipython3",
   "version": "3.9.7"
  }
 },
 "nbformat": 4,
 "nbformat_minor": 5
}
