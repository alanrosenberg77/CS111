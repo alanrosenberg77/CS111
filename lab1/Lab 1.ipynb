{
 "cells": [
  {
   "cell_type": "markdown",
   "id": "45bad7ba-9890-4bd9-ba30-2ececcf5f270",
   "metadata": {},
   "source": [
    "\n",
    "\n",
    "### Note:\n",
    "\n",
    "You can easily lose points for the following:\n",
    "\n",
    "- No comments\n",
    "- Incorrect of missing header information.\n",
    "- Not submitting the right files.   When you upload your project folder, you need to make sure ALL the files (including data files) are in your project.\n",
    "### Tips:\n",
    "\n",
    "The following tips will help your grade:\n",
    "- Don’t turn in code that doesn’t run. You will lose a lot of points if your code doesn’t run at all. If you must turn in code that doesn’t run, write a detailed comment explaining why you were having trouble and what you would do if you had more time.\n",
    "\n",
    "- Check your work. If I give you example data make sure to try it. I will when I test it.\n",
    "\n",
    "- Please come and ask me questions. The reason I teach here at Austin College is because I like helping students one-on-one more than performing on stage.\n",
    "\n",
    "- Ask friends for help, but don’t get too much help. When you work together, make sure that at the end of the day all of the work is your own. (As a rule of thumb, you can work together at the whiteboard, but before you go back to code, destroy all your notes, i.e., clean off the whiteboard.) Do not copy source code.\n",
    "\n",
    "- Take a guess. More often than not, your first guess about these things will be right. Don’t over think it. Just try something."
   ]
  },
  {
   "cell_type": "markdown",
   "id": "96492046-92b0-4a36-ab1e-314d6e3b4953",
   "metadata": {},
   "source": [
    "## Assignment\n",
    "\n",
    "This assignment is worth 100 points. There are three sections to this homework assignment: a Fundamentals section, an Essentials section, and an Advanced section. You have all of the tools you need to complete all of the lab, but it is triaged for you to give you an idea of what you should focus on first."
   ]
  },
  {
   "cell_type": "markdown",
   "id": "55425ace-fdec-4c18-b601-d5f95a76bd4f",
   "metadata": {},
   "source": [
    "### Fundamentals (30 points)\n",
    "\n",
    "1. (5 points) Give two examples of characters that cannot be used in a Python variable name and two examples of characters that cannot *start* a Python variable name.\n",
    "\n",
    "    > Example 1: !\n",
    "    \n",
    "    > Example 2: %\n",
    "    \n",
    "    > Example 1: \n",
    "    \n",
    "    > Example 2: \n",
    "    "
   ]
  },
  {
   "cell_type": "markdown",
   "id": "792f3a65-a496-461a-bab2-232e67d13062",
   "metadata": {},
   "source": [
    "2. (5 points) What is a type in Python? What is dynamic typing in Python?'\n",
    "\n",
    "    > Answer: "
   ]
  },
  {
   "cell_type": "markdown",
   "id": "2f8029c1-e814-4be7-856d-29a2b61d0f4f",
   "metadata": {},
   "source": [
    "3. (5 points) Determine the type of the following values:\n",
    "\n",
    "    + `3`: int\n",
    "    + `3.0`: float\n",
    "    + `'hello world'`: string\n",
    "    + `6 / 2`: float\n",
    "    + `'3.0'`: float"
   ]
  },
  {
   "cell_type": "markdown",
   "id": "ff534b37-1d77-4367-bfb7-7804a9c22a39",
   "metadata": {},
   "source": [
    "4. (5 points) What does the `%` operation do in Python? How does this related to the arithmetic we do on a clock daily?\n",
    "\n",
    "    > Answer: "
   ]
  },
  {
   "cell_type": "markdown",
   "id": "9bc37e79-c51c-43e4-96d2-43b113277e14",
   "metadata": {},
   "source": [
    "5. (5 points) What is an escape sequence?\n",
    "\n",
    "    > Answer: \n",
    "    \n",
    "    What do the following escape sequences do?\n",
    "    \n",
    "    > `\\n`: new line\n",
    "    \n",
    "    > `\\t`:\n",
    "    \n",
    "    > `\\\\`: comment\n",
    "    \n",
    "    > `\\'`: types a '"
   ]
  },
  {
   "cell_type": "markdown",
   "id": "3aa1a6f4-4050-4ffd-8166-d0bfd95c6c8d",
   "metadata": {},
   "source": [
    "6. How does the `if` statement in Python work? What type of value in Python does an `if` take as an input?\n",
    "\n",
    "    > Answer: executes code segment only if the logical statement within the if statement is true"
   ]
  },
  {
   "cell_type": "markdown",
   "id": "6a40190c-cc01-45f7-b3f7-2f6724e4d3d2",
   "metadata": {},
   "source": [
    "### Essentials (50 points):"
   ]
  },
  {
   "cell_type": "markdown",
   "id": "3d90f14d-5d3f-48c4-81d8-7786c9150f9b",
   "metadata": {},
   "source": [
    "7. (2 points) Create a variable that holds an integer. Print it out.\n"
   ]
  },
  {
   "cell_type": "code",
   "execution_count": 1,
   "id": "8010ba12-3eed-47d5-aa55-03e29500a02c",
   "metadata": {},
   "outputs": [
    {
     "name": "stdout",
     "output_type": "stream",
     "text": [
      "5\n"
     ]
    }
   ],
   "source": [
    "## Answer\n",
    "x=5\n",
    "print(x)"
   ]
  },
  {
   "cell_type": "markdown",
   "id": "0ddfb117-bb5d-42f8-93e1-702e13abed1a",
   "metadata": {},
   "source": [
    "8. (3 points) Create a variable that holds a float. Print it out."
   ]
  },
  {
   "cell_type": "code",
   "execution_count": 2,
   "id": "fec7cd88-a4d8-4162-8bba-aaeec1736530",
   "metadata": {},
   "outputs": [
    {
     "name": "stdout",
     "output_type": "stream",
     "text": [
      "5.0\n"
     ]
    }
   ],
   "source": [
    "## Answer\n",
    "x=5.0\n",
    "print(x)"
   ]
  },
  {
   "cell_type": "markdown",
   "id": "879bb928-9025-4c90-99b3-97f87ec8e005",
   "metadata": {},
   "source": [
    "9. (3 points): Create a variable that holds `94.23` but as a *string*:"
   ]
  },
  {
   "cell_type": "code",
   "execution_count": 3,
   "id": "f78d4b20-e5eb-4251-96f5-796ea926f4ee",
   "metadata": {},
   "outputs": [],
   "source": [
    "## Answer:\n",
    "x=str(94.23)"
   ]
  },
  {
   "cell_type": "markdown",
   "id": "33d56b02-b26c-461e-8857-0a4564093f47",
   "metadata": {},
   "source": [
    "10. (2 points) Convert the string from the last problem to a float:"
   ]
  },
  {
   "cell_type": "code",
   "execution_count": 4,
   "id": "f2786106-e0d8-4d22-a723-848b50b06c15",
   "metadata": {},
   "outputs": [
    {
     "name": "stdout",
     "output_type": "stream",
     "text": [
      "94.23\n"
     ]
    }
   ],
   "source": [
    "## Answer:\n",
    "print(float(x))"
   ]
  },
  {
   "cell_type": "markdown",
   "id": "3ad2a4dc-b09a-4678-843e-248567fe0017",
   "metadata": {},
   "source": [
    "11. (10 points) For a circle of radius 2,  display the circumference, diameter, and and area. (You let $\\pi = 3.14159$)"
   ]
  },
  {
   "cell_type": "code",
   "execution_count": 6,
   "id": "2488a350-c055-49ee-baf5-6ac164d2e123",
   "metadata": {},
   "outputs": [
    {
     "name": "stdout",
     "output_type": "stream",
     "text": [
      "radius: 2\n",
      "diameter: 4\n",
      "circumference: 12.56636\n"
     ]
    }
   ],
   "source": [
    "## Answer\n",
    "r=2\n",
    "d=r*2\n",
    "c=3.14159*d\n",
    "print('radius:',r)\n",
    "print('diameter:',d)\n",
    "print('circumference:',c)"
   ]
  },
  {
   "cell_type": "markdown",
   "id": "680f0aef-9af5-46d2-829c-b69928ed4f7a",
   "metadata": {},
   "source": [
    "12. (10 points) Prompt the user for an integer. Use Python to determine if the integer is divisible by 7. Use a print statement to tell the user if their number is divisible by 7. \n",
    "\n",
    "> Note:  \"Prompt the user\" means print out an instructional message to the human running your code.   Then follow up by reading in their response when they follow the instruction.  You might have to convert their text response into the right type of number if needed."
   ]
  },
  {
   "cell_type": "code",
   "execution_count": 7,
   "id": "27007498-565c-4895-a32c-42bd1519991d",
   "metadata": {},
   "outputs": [
    {
     "name": "stdout",
     "output_type": "stream",
     "text": [
      "give a number:14\n",
      "your number is divisible by 7\n"
     ]
    }
   ],
   "source": [
    "## Answer\n",
    "x=int(input('give a number:'))\n",
    "\n",
    "if(x%7==0):\n",
    "    print('your number is divisible by 7')"
   ]
  },
  {
   "cell_type": "markdown",
   "id": "371093d6-9914-4c54-b1b6-d0080d4fab3d",
   "metadata": {},
   "source": [
    "13. (10 points) Prompt the user for three numbers, find the average of those numbers, and print that average for the user.\n"
   ]
  },
  {
   "cell_type": "code",
   "execution_count": 8,
   "id": "7c34851c-9372-4761-b2ad-b9fe65cc0fa9",
   "metadata": {},
   "outputs": [
    {
     "name": "stdout",
     "output_type": "stream",
     "text": [
      "first number:5\n",
      "second number:6\n",
      "third number:7\n",
      "6.0\n"
     ]
    }
   ],
   "source": [
    "## Answer\n",
    "x=int(input('first number:'))\n",
    "y=int(input('second number:'))\n",
    "z=int(input('third number:'))\n",
    "\n",
    "avg=(x+y+z)/3\n",
    "print(avg)"
   ]
  },
  {
   "cell_type": "markdown",
   "id": "3a790e93-e2ec-4ac2-8bc5-85aaa9673ca9",
   "metadata": {},
   "source": [
    "14. (10 points) A developer wants to keep track of the user's birthday in a variable. Prompt the user to enter an integer between 1 and 12. Store this\n",
    "value in a variable called <b>val</b>.  Using if, elif, and else print out the following based on their val:\n",
    "- “Spring” if the number is between 3 and 5.\n",
    "- “Summer” if the number is between 6 and 8.\n",
    "- “Fall” if the number is between 9 and 11.\n",
    "- “Winter” if the number is 1, 2, or 12.\n",
    "- “Wrong number!” if the number isn’t between 1 and 12.\n"
   ]
  },
  {
   "cell_type": "code",
   "execution_count": 11,
   "id": "f496fa0f-076b-4224-9806-fc2ef12cec95",
   "metadata": {},
   "outputs": [
    {
     "name": "stdout",
     "output_type": "stream",
     "text": [
      "number 1-12:14\n",
      "i said 1-12:15\n",
      "i said 1-12:16\n",
      "i said 1-12:13\n",
      "i said 1-12:12\n",
      "Winter\n"
     ]
    }
   ],
   "source": [
    "## Answer\n",
    "val=int(input('number 1-12:'))\n",
    "while(val<1 or val>12):\n",
    "    val=int(input('i said 1-12:'))\n",
    "\n",
    "if(val>=3 and val<=5):\n",
    "    print('Spring')\n",
    "elif(val>=6 and val<=8):\n",
    "    print('Summer')\n",
    "elif(val>=9 and val<=11):\n",
    "    print('Fall')\n",
    "elif(val==1 or val==2 or val==12):\n",
    "    print('Winter')"
   ]
  },
  {
   "cell_type": "markdown",
   "id": "630c1184-238f-4761-be39-7d80450d23da",
   "metadata": {},
   "source": [
    "## Advanced (20 points)"
   ]
  },
  {
   "cell_type": "markdown",
   "id": "f9fa0f36-816b-400b-a21c-cba875a20064",
   "metadata": {},
   "source": [
    "15. (10 points) Prompt the user for a temperature in Farenheit. Next, convert that temperature to Celsius. Print out a statement that says, \"x degrees in Farenheit is y degrees in Celsius.\""
   ]
  },
  {
   "cell_type": "code",
   "execution_count": 5,
   "id": "6a70e1b3-07ab-4d05-b586-b9a309c0e701",
   "metadata": {},
   "outputs": [
    {
     "name": "stdout",
     "output_type": "stream",
     "text": [
      "Temp in Farenheit:212\n",
      "212.0 degrees in Farenheit is 100.0 degrees in Celsius.\n"
     ]
    }
   ],
   "source": [
    "## Answer\n",
    "fTemp=float(input('Temp in Farenheit:'))\n",
    "cTemp=(fTemp-32)/1.8\n",
    "print(fTemp,'degrees in Farenheit is',cTemp,'degrees in Celsius.')"
   ]
  },
  {
   "cell_type": "markdown",
   "id": "8e01552a-e5b8-49e0-8c7e-c3c15e5e8896",
   "metadata": {},
   "source": [
    "16. (10 points) Prompt the user for an integer between 10 and 20 and hold it in a variable named **tval**.   If the user provides a number (if tval is) too small, then convert the tval to 10.   If the user provides a number too large, convert the value to 20.   Now print the resulting *clamped* value to show the value clamped between 10 and 20.\n"
   ]
  },
  {
   "cell_type": "code",
   "execution_count": 10,
   "id": "395a0092-d39c-4176-b736-52987487f13d",
   "metadata": {},
   "outputs": [
    {
     "name": "stdout",
     "output_type": "stream",
     "text": [
      "integer between 10 and 20:100\n",
      "20\n"
     ]
    }
   ],
   "source": [
    "## Answer\n",
    "tval=int(input('integer between 10 and 20:'))\n",
    "\n",
    "if(tval<10):\n",
    "    tval=10\n",
    "elif(tval>20):\n",
    "    tval=20\n",
    "print(tval)"
   ]
  },
  {
   "cell_type": "code",
   "execution_count": null,
   "id": "6ed88268",
   "metadata": {},
   "outputs": [],
   "source": []
  }
 ],
 "metadata": {
  "kernelspec": {
   "display_name": "Python 3 (ipykernel)",
   "language": "python",
   "name": "python3"
  },
  "language_info": {
   "codemirror_mode": {
    "name": "ipython",
    "version": 3
   },
   "file_extension": ".py",
   "mimetype": "text/x-python",
   "name": "python",
   "nbconvert_exporter": "python",
   "pygments_lexer": "ipython3",
   "version": "3.9.7"
  }
 },
 "nbformat": 4,
 "nbformat_minor": 5
}
