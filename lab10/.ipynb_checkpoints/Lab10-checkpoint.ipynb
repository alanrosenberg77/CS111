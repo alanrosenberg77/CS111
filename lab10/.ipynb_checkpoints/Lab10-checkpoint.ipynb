{
 "cells": [
  {
   "cell_type": "markdown",
   "id": "a0f596d8-4d5f-42fd-8d84-b86e9e453eb7",
   "metadata": {},
   "source": [
    "## Instructions\n",
    "\n",
    "Answer the following questions. It behooves you to answer as much of each question as possible to receive some partial credit. You are advised to begin this lab early so that you have ample time to complete it. **Make sure that your code is commented appropriately to receive full credit on each problem**"
   ]
  },
  {
   "cell_type": "markdown",
   "id": "4f6acfa2-77dc-4996-8c78-77d295bdcb2f",
   "metadata": {},
   "source": [
    "## Assignment\n",
    "\n",
    "This assignment is worth 100 points. There are three sections to this homework assignment: a Fundamentals section, an Essentials section, and an Advanced section. You have all of the tools you need to complete all of the lab, but it is triaged for you to give you an idea of what you should focus on first."
   ]
  },
  {
   "cell_type": "markdown",
   "id": "9ca81fa7-c02c-4626-9a44-0baf16e8aac2",
   "metadata": {},
   "source": [
    "### Fundamentals (30 points)"
   ]
  },
  {
   "cell_type": "markdown",
   "id": "e420c4ce-3a6f-445b-bd90-460b9b48b350",
   "metadata": {},
   "source": [
    "1. (10 points) "
   ]
  },
  {
   "cell_type": "markdown",
   "id": "ab7e2235-a295-481b-a988-db06b3752e1b",
   "metadata": {},
   "source": [
    "  > Answer:"
   ]
  },
  {
   "cell_type": "markdown",
   "id": "3dc213e4-0421-4438-9c52-b696208f0512",
   "metadata": {},
   "source": [
    "2. (10 points) "
   ]
  },
  {
   "cell_type": "markdown",
   "id": "c2e036af-b632-4dc9-9eea-706fa06a9098",
   "metadata": {},
   "source": [
    "  > Answer: "
   ]
  },
  {
   "cell_type": "markdown",
   "id": "5757175b-1344-4697-b977-f996d5b499cd",
   "metadata": {},
   "source": [
    "3. (10 points) "
   ]
  },
  {
   "cell_type": "markdown",
   "id": "b24f9937-a218-4083-8bcb-669a9956a99c",
   "metadata": {},
   "source": [
    "> Answer:"
   ]
  },
  {
   "cell_type": "markdown",
   "id": "1ed07202-3a5a-43b7-b511-7864765f14ed",
   "metadata": {},
   "source": [
    "### Essentials (50 points)"
   ]
  },
  {
   "cell_type": "markdown",
   "id": "b58a7b28-9163-454c-b007-19bc559797da",
   "metadata": {},
   "source": [
    "4. (5 points) Read in the **quakes.csv** file which contains a list of recorded seismic events over a period of time. Use `pandas` to do this."
   ]
  },
  {
   "cell_type": "code",
   "execution_count": 1,
   "id": "1d24d342-8b75-43ca-a941-7b21095e4bfe",
   "metadata": {},
   "outputs": [],
   "source": [
    "## Answer\n",
    "\n"
   ]
  },
  {
   "cell_type": "markdown",
   "id": "aa8ad1e7-b797-4d7c-b387-d5c745e394af",
   "metadata": {},
   "source": [
    "5. (5 points) For earthquakes where the depth was greater than 1.0, determine the maximum, minimum, and average *magnitude* of those quakes."
   ]
  },
  {
   "cell_type": "code",
   "execution_count": null,
   "id": "25858dd7-d2f1-41f5-b985-fb1de76e8fcf",
   "metadata": {},
   "outputs": [],
   "source": [
    "## Answer"
   ]
  },
  {
   "cell_type": "markdown",
   "id": "2f91d2c8-251d-4324-951a-7004953bb554",
   "metadata": {},
   "source": [
    "6. (10 points) Define a function called `numQuakes(region, date)` that accepts two parameters (a `region` string, like \"CA\" and a `date` string, like \"2019-03-27\"). Your function should count and return the number of **earthquakes** (see type column) events in that region on that day. Only consider type=\"earthquakes\". \n",
    "\n",
    "> Hint: Create a sub-data frame which only contains earthquakes that occurred in that region on that date. Then use the `.count()` method to count the number of earthquakes in that sub-data frame."
   ]
  },
  {
   "cell_type": "code",
   "execution_count": 8,
   "id": "569fe0af-4426-4210-93c7-340e21026f80",
   "metadata": {},
   "outputs": [],
   "source": [
    "## Answer\n"
   ]
  },
  {
   "cell_type": "markdown",
   "id": "b293a38e-2537-4043-9249-8254ca1cb5b9",
   "metadata": {},
   "source": [
    "7. (5 points) Create a new data frame of `quakes` which contains only the `region`, `magnitude`, and `depth` columns."
   ]
  },
  {
   "cell_type": "code",
   "execution_count": null,
   "id": "a36ac8b3-6483-4a57-8cc3-0b8c177c3181",
   "metadata": {},
   "outputs": [],
   "source": []
  },
  {
   "cell_type": "markdown",
   "id": "3a9368c6-dd7e-4257-98e6-486f40029c7b",
   "metadata": {},
   "source": [
    "8. (5 points) Read about the `.groupby()` method in pandas. Use this to show the average depth and magnitude for earthquakes indexed by region (i.e., one row per region, columns for average magnitude and depth)."
   ]
  },
  {
   "cell_type": "code",
   "execution_count": null,
   "id": "dc082148-ce86-49d9-8076-1d8dd1f569b0",
   "metadata": {},
   "outputs": [],
   "source": [
    "## Answer"
   ]
  },
  {
   "cell_type": "markdown",
   "id": "5abbe5ea-a448-43f5-82b2-098109e49134",
   "metadata": {},
   "source": [
    "9. (5 points) Now plot a bar chart (one bar for each region showing average magnitude).  Be sure to add title and label your axis."
   ]
  },
  {
   "cell_type": "code",
   "execution_count": 1,
   "id": "6a7b34aa-ea8b-4047-b49e-2b73522db2cd",
   "metadata": {},
   "outputs": [],
   "source": [
    "## Answer"
   ]
  },
  {
   "cell_type": "markdown",
   "id": "1c022e31-dc1b-478d-aeb3-68df5e9bec06",
   "metadata": {},
   "source": [
    "10. (5 points) Now make a histogram of the distribution of the earthquake magnitudes."
   ]
  },
  {
   "cell_type": "code",
   "execution_count": null,
   "id": "9fc811d2-54c8-4b0b-b0c8-df20537bdba8",
   "metadata": {},
   "outputs": [],
   "source": [
    "## Answer"
   ]
  },
  {
   "cell_type": "markdown",
   "id": "cb5787b3-b7c9-49bd-8af4-b3ddbe4af1eb",
   "metadata": {},
   "source": [
    "11. (5 points) Make a scatterplot comparing the depth of the earthquake to its magnitude."
   ]
  },
  {
   "cell_type": "code",
   "execution_count": null,
   "id": "d714fa46-5e6a-440c-8a24-a62c9df36726",
   "metadata": {},
   "outputs": [],
   "source": [
    "## Answer"
   ]
  },
  {
   "cell_type": "markdown",
   "id": "5448f0b6-a4f2-466c-8239-69a663002480",
   "metadata": {},
   "source": [
    "12. (10 points) Show a plot of the number/count of earthquakes by landmark. Only show the top 10 landmarks in your plot. To do this you should:\n",
    " + Make a new dataframe only containing `type == 'earthquake'` only keeping the columns `landmark` and `type`. \n",
    " + Group by `landmark` and use the `.count()` method and store this `Series`.\n",
    " + Look up and use the `.nlargest()` method on that stored series.\n",
    " + Plot the result."
   ]
  },
  {
   "cell_type": "code",
   "execution_count": null,
   "id": "8b50faf7-0150-4e4f-a5fd-29b02be52ca5",
   "metadata": {},
   "outputs": [],
   "source": [
    "## Answer"
   ]
  },
  {
   "cell_type": "markdown",
   "id": "4f2d9ef1-2754-45a0-844c-686f64e64966",
   "metadata": {},
   "source": [
    "### Advanced (20 points)\n",
    "\n",
    "---\n",
    "In the following you will use `pandas` to process the `dow_jones_index.data.csv`. \n",
    "\n",
    "---"
   ]
  },
  {
   "cell_type": "markdown",
   "id": "f5e4cff0-4cd2-4b06-9da5-a984767467b2",
   "metadata": {},
   "source": [
    "13. (5 points) Define a new function named `symbols(file)` that accepts the `file` name (as a string) from which to read stock data.  The function should compute and return a sorted list of distinct stock symbols (such as AA, AXP, BA ..., XOM). Use the above data set to make sure this works.\n",
    " \n",
    " >Hint: You only need to keep one column from the data frame. The `.sort_values()` and `.unique()` functions should help you here. "
   ]
  },
  {
   "cell_type": "code",
   "execution_count": 1,
   "id": "5827191c-02c1-4c86-abd7-22646ee27eaa",
   "metadata": {},
   "outputs": [],
   "source": [
    "## Answer\n"
   ]
  },
  {
   "cell_type": "markdown",
   "id": "1ce59fab-5633-4efa-8db7-5d205945d07e",
   "metadata": {},
   "source": [
    "14. (5 points) Define a new function called `dateRange(file)` that accepts a `file` name (as a string) from which to read stock data.  The function should compute and return a tuple consisting of 2 python date objects (not strings): derived from the first and last dates found in the stock data file provided. Test your function to make sure that it works.\n",
    "\n",
    ">Hint: Look up the `pd.to_datetime()` method and change `df.date` to a date-time type. You can then sort `df.date` easily."
   ]
  },
  {
   "cell_type": "markdown",
   "id": "a1abf8df-25c7-46a8-8790-cc861e49816a",
   "metadata": {},
   "source": [
    "15 (10 points) Create a python fragment that does the following:\n",
    "\n",
    " + prompts the user for a valid stock symbol (Use your function you wrote above!). Continue to prompt until the user provides a valid symbol.\n",
    " + read the `dow_jones_index.data.csv` file and compute the average close price per month over the date range of the file.  Your algorithm should produce a series in which you provide the average close price for the specified stock for each month.\n",
    " + use the `.plot.line()` method to create a line graph displaying the average price of that stock over the date range in the file"
   ]
  },
  {
   "cell_type": "code",
   "execution_count": null,
   "id": "819a8130-9481-4fab-a67a-7813b1f19598",
   "metadata": {},
   "outputs": [],
   "source": [
    "## Answer"
   ]
  }
 ],
 "metadata": {
  "kernelspec": {
   "display_name": "Python 3 (ipykernel)",
   "language": "python",
   "name": "python3"
  },
  "language_info": {
   "codemirror_mode": {
    "name": "ipython",
    "version": 3
   },
   "file_extension": ".py",
   "mimetype": "text/x-python",
   "name": "python",
   "nbconvert_exporter": "python",
   "pygments_lexer": "ipython3",
   "version": "3.9.7"
  }
 },
 "nbformat": 4,
 "nbformat_minor": 5
}
