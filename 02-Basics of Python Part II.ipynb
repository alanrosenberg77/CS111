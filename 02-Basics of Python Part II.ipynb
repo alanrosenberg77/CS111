{
 "cells": [
  {
   "cell_type": "markdown",
   "id": "94b32e91-024c-43be-a930-f59c22fc4274",
   "metadata": {},
   "source": [
    "## Basics of Python--Part II"
   ]
  },
  {
   "cell_type": "markdown",
   "id": "28ebc5a7-d724-4f39-973b-a05b50fddd88",
   "metadata": {},
   "source": [
    "This lab focuses on two aspects of Python we will use almost daily: the `print()` function, `input()` function, and the `if` statement.  "
   ]
  },
  {
   "cell_type": "markdown",
   "id": "7443fa38-2f7e-4541-bb24-95044b0cbfbd",
   "metadata": {},
   "source": [
    "### The `print()` function"
   ]
  },
  {
   "cell_type": "markdown",
   "id": "32a5c3c2-649b-4fe8-a32b-200f7d346c0d",
   "metadata": {},
   "source": [
    "Python has a number of built-in functions which allow us some to perform operations or actions in Python. One of the most important ones is the `print()` function. An example of it is below:"
   ]
  },
  {
   "cell_type": "code",
   "execution_count": 1,
   "id": "82d32335-7842-49d2-9794-3bb14974b076",
   "metadata": {},
   "outputs": [
    {
     "name": "stdout",
     "output_type": "stream",
     "text": [
      "Hello World\n"
     ]
    }
   ],
   "source": [
    "print('Hello World')"
   ]
  },
  {
   "cell_type": "markdown",
   "id": "ae8da460-7509-4a25-9502-6c83fd96edf7",
   "metadata": {},
   "source": [
    "In Jupyter Lab, note that we can also print the contents of a variable by writing the variable by itself. If you try to print the contents of multiple variables in this way, however, Jupyter will only print the last variable. See below for an example:"
   ]
  },
  {
   "cell_type": "code",
   "execution_count": 2,
   "id": "712382df-63a7-4c40-8b12-fb8985eb1ec3",
   "metadata": {},
   "outputs": [
    {
     "data": {
      "text/plain": [
       "7"
      ]
     },
     "execution_count": 2,
     "metadata": {},
     "output_type": "execute_result"
    }
   ],
   "source": [
    "x = 'Hello'\n",
    "y = 7\n",
    "\n",
    "x\n",
    "y"
   ]
  },
  {
   "cell_type": "markdown",
   "id": "eb1a368c-684d-41c1-a5a5-5b08a14bced2",
   "metadata": {},
   "source": [
    "We can use `print()` statements to print both of these values. Try it below:"
   ]
  },
  {
   "cell_type": "code",
   "execution_count": 4,
   "id": "f52c4df1-bd0c-4fd6-876d-db970310ad67",
   "metadata": {},
   "outputs": [
    {
     "name": "stdout",
     "output_type": "stream",
     "text": [
      "Hello\n",
      "7\n"
     ]
    }
   ],
   "source": [
    "print(x)\n",
    "print(y)"
   ]
  },
  {
   "cell_type": "markdown",
   "id": "e5343919-29a3-4ea3-8670-00d0ca6cb2e4",
   "metadata": {},
   "source": [
    "The `print()` function also allows for multiple *arguments*. An \"argument\" is a value we input into a function (i.e. one that goes inside of the parentheses). We separate arguments of a function with a comma. Try to print both $x$ and $y$ using a single `print()` statement."
   ]
  },
  {
   "cell_type": "code",
   "execution_count": 5,
   "id": "40463829",
   "metadata": {},
   "outputs": [
    {
     "name": "stdout",
     "output_type": "stream",
     "text": [
      "Hello 7\n"
     ]
    }
   ],
   "source": [
    "print(x,y)"
   ]
  },
  {
   "cell_type": "markdown",
   "id": "1d143cbc-228c-4230-a6f9-406d7fe4c0c4",
   "metadata": {},
   "source": [
    "### Formatting Printed Text"
   ]
  },
  {
   "cell_type": "markdown",
   "id": "ccc66574-5e58-4352-8ffa-9dae2a7df641",
   "metadata": {},
   "source": [
    "Often, we will want to print text for the user of our program in a manner that is easily readable. Here are some commands that will help with this:\n",
    "\n",
    " + `\\n`--prints subsequent text on a newline\n",
    " + `\\t`--inserts a tab (typically 3 spaces)\n",
    "    \n",
    "In the space below, print the following text using a single print statement:\n",
    "\n",
    "This is one line.\\\n",
    "This is the second line.\\\n",
    "This is the third line."
   ]
  },
  {
   "cell_type": "code",
   "execution_count": 8,
   "id": "b04f058d-3839-4405-946c-6f8902321c9a",
   "metadata": {},
   "outputs": [
    {
     "name": "stdout",
     "output_type": "stream",
     "text": [
      "This is one line.\n",
      "This is the second line.\n",
      "This is the thrid line.\n"
     ]
    }
   ],
   "source": [
    "print(\"This is one line.\\nThis is the second line.\\nThis is the thrid line.\")"
   ]
  },
  {
   "cell_type": "markdown",
   "id": "fb93b43f-cb76-4b86-ba01-cb0fc1abc92c",
   "metadata": {},
   "source": [
    "You might have noticed that the print statement did not allow the text to appear on separate lines. This can be annoying in general. A way to avoid this is to use the triple quote method, which you can read about in the book in Section 2.5."
   ]
  },
  {
   "cell_type": "markdown",
   "id": "ff628978-9eee-4cd9-9625-ed73e9a9cde7",
   "metadata": {},
   "source": [
    "### The `input()` function"
   ]
  },
  {
   "cell_type": "markdown",
   "id": "14619a82-cb4c-42be-aa23-4c3dbdeb81b2",
   "metadata": {},
   "source": [
    "Many of our scripts (programs) will be written with other users in mind. These scripts may require some information from the user before it can proceed. We can gather this information using the `input()` function. See an example of this below:"
   ]
  },
  {
   "cell_type": "code",
   "execution_count": 9,
   "id": "c9aeea0d-a2cf-499a-90ca-5a01d8ac8a5e",
   "metadata": {},
   "outputs": [
    {
     "name": "stdout",
     "output_type": "stream",
     "text": [
      "What is your favorite number?7\n"
     ]
    }
   ],
   "source": [
    "name = input(\"What is your favorite number?\")"
   ]
  },
  {
   "cell_type": "markdown",
   "id": "b27d758c-c70b-415f-8a47-b822bf3a9402",
   "metadata": {},
   "source": [
    "Notice that we store the inputted information into a variable, in this case `name`. The `input()` statement takes the text we want to display to the user when we ask for their input as an argument. Copy the code from the block above into the block below. Modify the text so that the input box appears *2 lines* below the input text and change the text to ask for the users favorite number. \n",
    "\n",
    "> Hint: Think about some of the commands we used above!"
   ]
  },
  {
   "cell_type": "code",
   "execution_count": 24,
   "id": "36fa0592-4f45-4e2f-8780-166ede942694",
   "metadata": {},
   "outputs": [
    {
     "name": "stdout",
     "output_type": "stream",
     "text": [
      "What is your favorite number?\n",
      "\n",
      "10\n"
     ]
    }
   ],
   "source": [
    "number = input(\"What is your favorite number?\\n\\n\")"
   ]
  },
  {
   "cell_type": "markdown",
   "id": "c277dc97-167f-4438-8a67-f37994679fd1",
   "metadata": {},
   "source": [
    "What is the type of variable created from the `input()` statement? Use python to check this."
   ]
  },
  {
   "cell_type": "code",
   "execution_count": 22,
   "id": "321e6f19-b209-428a-9535-0bbe63ebc36a",
   "metadata": {},
   "outputs": [
    {
     "data": {
      "text/plain": [
       "str"
      ]
     },
     "execution_count": 22,
     "metadata": {},
     "output_type": "execute_result"
    }
   ],
   "source": [
    "type(number)"
   ]
  },
  {
   "cell_type": "markdown",
   "id": "b74484b3-07a6-490b-a3ef-a5e08e55815f",
   "metadata": {},
   "source": [
    "Change the favorite number to a integer. This can be accomplished using the `int()` function. Then print the follow statement for the user:\n",
    "\n",
    "Your favorite number square is [FAVORITE NUMBER SQUARED]!"
   ]
  },
  {
   "cell_type": "code",
   "execution_count": 26,
   "id": "bcd60283-8be4-4247-8a3f-9e1d99ca1e20",
   "metadata": {},
   "outputs": [
    {
     "name": "stdout",
     "output_type": "stream",
     "text": [
      "Your favorite number squared is 100\n"
     ]
    }
   ],
   "source": [
    "print('Your favorite number squared is ' + str(int(number)**2))"
   ]
  },
  {
   "cell_type": "markdown",
   "id": "abb3e115-50f8-4351-912e-b99e132bec04",
   "metadata": {},
   "source": [
    "**Practice:** Write a program that \n",
    " + Asks for two users' favorite numbers,\n",
    " + Adds those two numbers and squares them, and\n",
    " + Displays that result in a nice way to the user.\n",
    " \n",
    "Then ask your neighbors for their favorite numbers to check your program. Remember this information in case you can use it against them in the future."
   ]
  },
  {
   "cell_type": "code",
   "execution_count": 38,
   "id": "c36797e0-148e-46e0-91d8-a9cec4373598",
   "metadata": {},
   "outputs": [
    {
     "name": "stdout",
     "output_type": "stream",
     "text": [
      "Give your favorite number:7\n",
      "Give your 2nd favorite number:9\n",
      "The sum squared of your favorite numbers is:  256\n"
     ]
    }
   ],
   "source": [
    "num1 = input('Give your favorite number:')\n",
    "num2 = input('Give your 2nd favorite number:')\n",
    "\n",
    "num1 = int(num1)\n",
    "num2 = int(num2)\n",
    "val = (num1+num2)**2\n",
    "\n",
    "\n",
    "print('The sum squared of your favorite numbers is: ', val)"
   ]
  },
  {
   "cell_type": "markdown",
   "id": "db47bebe-96e0-4a85-ab1a-e361b68e903b",
   "metadata": {},
   "source": [
    "## The `if` statement"
   ]
  },
  {
   "cell_type": "markdown",
   "id": "0e78ac5c-2bdd-4fcd-b66a-aa90af4d6cd8",
   "metadata": {},
   "source": [
    "Often, the functionality of our scripts will depend on the information we are working with. For instance, I might want to write a program which squares a number if it is odd and cubes it if it is even. The method for doing this is below:"
   ]
  },
  {
   "cell_type": "code",
   "execution_count": 37,
   "id": "36747172-9dbe-406d-9741-71394286f266",
   "metadata": {},
   "outputs": [
    {
     "name": "stdout",
     "output_type": "stream",
     "text": [
      "9\n"
     ]
    }
   ],
   "source": [
    "number = 3\n",
    "\n",
    "if number % 2 == 0:\n",
    "    print(number ** 3)\n",
    "if number % 2 == 1:\n",
    "    print(number ** 2)"
   ]
  },
  {
   "cell_type": "markdown",
   "id": "5a91aac0-ff79-409e-8f74-0e31083094e9",
   "metadata": {},
   "source": [
    "Before we investigate this entire script let's unpack it. \n",
    " + What is the code `number % 2 == 0` doing?\n",
    " + What do you get when you type `number % 2 == 0` below?\n",
    " + What type of variable in `number % 2 == 0`?"
   ]
  },
  {
   "cell_type": "markdown",
   "id": "f9817fdc-702f-4d85-8cca-e3538ce5fd8b",
   "metadata": {},
   "source": [
    "`number % 2 == 0` is asking whether the number is even."
   ]
  },
  {
   "cell_type": "code",
   "execution_count": 40,
   "id": "9686470a-b84f-45c7-baab-1c7d44777761",
   "metadata": {},
   "outputs": [
    {
     "data": {
      "text/plain": [
       "False"
      ]
     },
     "execution_count": 40,
     "metadata": {},
     "output_type": "execute_result"
    }
   ],
   "source": [
    "## Type of number % 2 == 0\n",
    "number % 2 == 0"
   ]
  },
  {
   "cell_type": "markdown",
   "id": "1f90f64f-ba00-47b7-9ff3-736213927602",
   "metadata": {},
   "source": [
    "`number % 2 == 0` is a boolean"
   ]
  },
  {
   "cell_type": "markdown",
   "id": "642f86f3-955b-4253-906c-2e1f8c79793e",
   "metadata": {},
   "source": [
    "#### Boolean\n",
    "\n",
    "As we see above this type of statement is a `Bool` which is short for **Boolean**. A Boolean is named after George Boole, a logician of the mid-1800s. A Boolean is a statement that is either `True` or `False`.\n",
    "\n",
    "#### The difference between `==` and `=`\n",
    "\n",
    "Notice that we used two `=` above instead of one. Remember that a single `=` is an *assignment* of the value on the right to the value on the left. A `==` is *asking a question about the equality of both values*. Consider the two examples:\n",
    " + `x = y` says I am assigning the value `y` to `x`. `x` now inherits the type of `y`.\n",
    " + `x == y` asks, \"Are `x` and `y` the same value?\" This statement itself is a Boolean and `x` and `y` retain their original types. "
   ]
  },
  {
   "cell_type": "markdown",
   "id": "9ff2727d-5ad2-495a-be86-694e7f38da30",
   "metadata": {},
   "source": [
    "**Practice:** Ask the user how many hours they studied for this class yesterday. If the answer is 0, politely remind the student that studying a bit every day can make the work load for this course more manageable. Otherwise, say nothing."
   ]
  },
  {
   "cell_type": "code",
   "execution_count": 43,
   "id": "92d0805e-9a5f-4a22-b85b-064914b826e5",
   "metadata": {},
   "outputs": [
    {
     "name": "stdout",
     "output_type": "stream",
     "text": [
      "How many hours did you study yesterday?0\n",
      "stop playing league\n"
     ]
    }
   ],
   "source": [
    "hours = input('How many hours did you study yesterday?')\n",
    "\n",
    "if(int(hours) == 0):\n",
    "    print('stop playing league')"
   ]
  },
  {
   "cell_type": "markdown",
   "id": "bfe6adbe-a4d7-488c-be7a-7a82caf5bda0",
   "metadata": {},
   "source": [
    "**Practice:** Ask the user for a number between 1 and 10. If the number is greater than 5, repeat their number back to them. If the number is less than 5, gaslight them by subtracting one and telling them the new number is actually their favorite number."
   ]
  },
  {
   "cell_type": "code",
   "execution_count": 50,
   "id": "38e4c71f",
   "metadata": {},
   "outputs": [
    {
     "name": "stdout",
     "output_type": "stream",
     "text": [
      "gimme number 1-10\n",
      "5\n",
      "the number is 4 \n",
      "get gaslit bozo\n"
     ]
    }
   ],
   "source": [
    "num = input('gimme number 1-10\\n')\n",
    "\n",
    "if(int(num) > 5):\n",
    "    print('the number is', num)\n",
    "else:\n",
    "    print('the number is', int(num)-1, '\\nget gaslit bozo')"
   ]
  },
  {
   "cell_type": "markdown",
   "id": "e5ba1bda-52da-49f4-857b-a61011da74ef",
   "metadata": {},
   "source": [
    "**Practice:** Write a script which inputs a number, squares it if it is divisible by 3. and doubles it otherwise. Hint: You might want to look up the *not equal* operator!"
   ]
  },
  {
   "cell_type": "code",
   "execution_count": 52,
   "id": "6bed2932-8eba-4696-be92-46f78c185dcb",
   "metadata": {},
   "outputs": [
    {
     "name": "stdout",
     "output_type": "stream",
     "text": [
      "gimme numer\n",
      "3\n",
      "9\n"
     ]
    }
   ],
   "source": [
    "num = input('gimme numer\\n')\n",
    "num = int(num)\n",
    "\n",
    "if(num % 3 == 0):\n",
    "    print(num**2)\n",
    "else:\n",
    "    print(num*2)"
   ]
  },
  {
   "cell_type": "markdown",
   "id": "e605ed1f-fdd3-4b60-ac4c-5014fa161ab3",
   "metadata": {},
   "source": [
    "### Additional Practice Questions"
   ]
  },
  {
   "cell_type": "markdown",
   "id": "d6af877a-556f-4372-a81f-ea75ea889497",
   "metadata": {},
   "source": [
    "For each of these questions, make sure to comment your code to remind yourself of what you have done!"
   ]
  },
  {
   "cell_type": "markdown",
   "id": "39c5ea8c-360e-460e-8245-73491573be65",
   "metadata": {},
   "source": [
    "1. The `min()` function takes an arbitrary number of numeric arguments and returns the minimum. (Later it will also take lists of numbers). Write a program which asks the user for three integers, finds the minimum integer, and prints it nicely for the user. "
   ]
  },
  {
   "cell_type": "code",
   "execution_count": 53,
   "id": "fa53602b-e1a6-48a2-bb24-2990aed81658",
   "metadata": {},
   "outputs": [
    {
     "name": "stdout",
     "output_type": "stream",
     "text": [
      "gimme numer1\n",
      "gimme numer2\n",
      "gimme numer3\n",
      "1\n"
     ]
    }
   ],
   "source": [
    "num1 = int(input('gimme numer'))\n",
    "num2 = int(input('gimme numer'))\n",
    "num3 = int(input('gimme numer'))\n",
    "\n",
    "min = min(num1, num2, num3)\n",
    "print(min)"
   ]
  },
  {
   "cell_type": "markdown",
   "id": "6d8cc735-d95a-4182-8908-7abefcae5420",
   "metadata": {},
   "source": [
    "2. The `range` of a function is difference between the maximum and minimum values. Use the inputs from the user above an calculate the range. Print it out nicely for the user."
   ]
  },
  {
   "cell_type": "code",
   "execution_count": null,
   "id": "1859aa9e-6066-4a29-a51b-b90e1b0379c6",
   "metadata": {},
   "outputs": [],
   "source": []
  },
  {
   "cell_type": "markdown",
   "id": "fc708802-f855-494d-9f96-4ea770d7631f",
   "metadata": {},
   "source": [
    "3. Write a script that inputs three numbers, finds the minimum value, and then takes the average of the larger two numbers. Display this information nicely for the user. "
   ]
  },
  {
   "cell_type": "code",
   "execution_count": null,
   "id": "db9d75b6-9c53-4a4e-a37e-b7cc966b7721",
   "metadata": {},
   "outputs": [],
   "source": []
  }
 ],
 "metadata": {
  "kernelspec": {
   "display_name": "Python 3 (ipykernel)",
   "language": "python",
   "name": "python3"
  },
  "language_info": {
   "codemirror_mode": {
    "name": "ipython",
    "version": 3
   },
   "file_extension": ".py",
   "mimetype": "text/x-python",
   "name": "python",
   "nbconvert_exporter": "python",
   "pygments_lexer": "ipython3",
   "version": "3.9.12"
  }
 },
 "nbformat": 4,
 "nbformat_minor": 5
}
