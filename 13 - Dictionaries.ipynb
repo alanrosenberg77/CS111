{
 "cells": [
  {
   "cell_type": "markdown",
   "id": "30ff9a0a",
   "metadata": {},
   "source": [
    "## Dictionaries"
   ]
  },
  {
   "cell_type": "markdown",
   "id": "24836911",
   "metadata": {},
   "source": [
    "Here is a dictionary for `stateElectoralVotes`:"
   ]
  },
  {
   "cell_type": "code",
   "execution_count": 1,
   "id": "9224735d",
   "metadata": {},
   "outputs": [],
   "source": [
    "stateElectoralVotes = {'Alabama':9,'Montana':4,'Alaska':3, \n",
    "                       'Nebraska':5,'Arizona':11,'Nevada':6,\n",
    "                       'Arkansas':6,'New Hampshire':4,'California':54,\n",
    "                       'New Jersey':14,'Colorado':10,'New Mexico':5,\n",
    "                       'Connecticut':7,'New York':28,'Delaware':3,\n",
    "                       'North Carolina':16,'Florida':30,'North Dakota':3,\n",
    "                       'Georgia':16,'Ohio':17,'Hawaii':4,\n",
    "                       'Oklahoma':7,'Idaho':4,'Oregon':8,\n",
    "                       'Illinois':19,'Pennsylvania':19,'Indiana':11,\n",
    "                       'Rhode Island':4,'Iowa':6,'South Carolina':9,\n",
    "                       'Kansas':6,'South Dakota':3,'Kentucky':8,\n",
    "                       'Tennessee':11,'Louisiana':8,'Texas':40,\n",
    "                       'Maine':4,'Utah':6,'Maryland':10,\n",
    "                       'Vermont':3,'Massachusetts':11,'Virginia':13,\n",
    "                       'Michigan':15,'Washington':12,'Minnesota':10,\n",
    "                       'West Virginia':4,'Mississippi':6,'Wisconsin':10,\n",
    "                       'Missouri':10,'Wyoming':3}"
   ]
  },
  {
   "cell_type": "markdown",
   "id": "8f5730be-20b1-4e31-8b4c-33fd7e6de21c",
   "metadata": {},
   "source": [
    "A dictionary is a set of key-value pairs. In the dictionary above, what are the keys and what are the values?\n",
    "\n",
    "> Keys: States\n",
    "\n",
    "> Values: Number of Electoral Votes"
   ]
  },
  {
   "cell_type": "markdown",
   "id": "ce35ed4e-1cc9-4229-8b45-f9ca2683b765",
   "metadata": {},
   "source": [
    "Iterate through the above dictionary and print out the name of the state and the number of electoral votes if the number of electoral votes is greater than 30."
   ]
  },
  {
   "cell_type": "code",
   "execution_count": 4,
   "id": "8971d48d-f008-4551-95ae-6a8013cc34e5",
   "metadata": {},
   "outputs": [
    {
     "name": "stdout",
     "output_type": "stream",
     "text": [
      "{'California': 54, 'Florida': 30, 'Texas': 40}\n"
     ]
    }
   ],
   "source": [
    "greaterStateVotes = {state : vote for state,vote in stateElectoralVotes.items() if vote >= 30}\n",
    "\n",
    "print(greaterStateVotes)"
   ]
  },
  {
   "cell_type": "markdown",
   "id": "c7f54638-fe0c-47f6-82bd-807410ecec30",
   "metadata": {},
   "source": [
    "Determine the following information:\n",
    "\n",
    " + How many electoral votes does Nebraska receive?\n",
    " + Is Alabama in the dictionary?"
   ]
  },
  {
   "cell_type": "code",
   "execution_count": 7,
   "id": "cf9088d3-6053-44e4-95b4-93d8fe3b0672",
   "metadata": {},
   "outputs": [
    {
     "name": "stdout",
     "output_type": "stream",
     "text": [
      "5\n",
      "True\n"
     ]
    }
   ],
   "source": [
    "print(stateElectoralVotes.get('Nebraska'))\n",
    "print('Alabama' in stateElectoralVotes)"
   ]
  },
  {
   "cell_type": "markdown",
   "id": "70dd29f5-9458-4e27-849c-cd331407a453",
   "metadata": {},
   "source": [
    "`Washington DC` also receives electoral votes. Check the see if it is in the dictionary. Use the `.get()` method to avoid any errors."
   ]
  },
  {
   "cell_type": "code",
   "execution_count": null,
   "id": "2dfc287d-e31a-4a2b-9329-e23bf65d58e6",
   "metadata": {},
   "outputs": [],
   "source": []
  },
  {
   "cell_type": "markdown",
   "id": "de349f8f-7cd9-4277-be3f-def0c112d662",
   "metadata": {},
   "source": [
    "Add `Washington DC` to the dictionary. (DC receives 3 electoral votes)"
   ]
  },
  {
   "cell_type": "code",
   "execution_count": null,
   "id": "4a7d176f-d645-4d17-a726-e17c9334c310",
   "metadata": {},
   "outputs": [],
   "source": []
  },
  {
   "cell_type": "markdown",
   "id": "bd00ceaf-1c65-4b76-9b0d-a3c201f6f391",
   "metadata": {},
   "source": [
    "Below is the set of states Dr. Edge has lived in. Make a dictionary comprehension to make a subset of the above dictionary. Next, add up all the electoral votes from that new dictionary."
   ]
  },
  {
   "cell_type": "code",
   "execution_count": 3,
   "id": "692c4ae7-e4ba-4e0d-86ed-2744f0dd6dbc",
   "metadata": {},
   "outputs": [],
   "source": [
    "edgeResidences = {'Texas','Kentucky','Indiana','Ohio'}"
   ]
  },
  {
   "cell_type": "markdown",
   "id": "ec981afa-e3fe-4b59-a4ae-e50fdef1189b",
   "metadata": {},
   "source": [
    "### On your own"
   ]
  },
  {
   "cell_type": "markdown",
   "id": "97e7dbc6",
   "metadata": {},
   "source": [
    "1. Find how many electoral votes all states that begin with `M` have.\n",
    "\n",
    ">Hint: Strings are iterable meaning `string[i]` gives you the ith element of a string!"
   ]
  },
  {
   "cell_type": "code",
   "execution_count": null,
   "id": "df375af0",
   "metadata": {},
   "outputs": [],
   "source": []
  },
  {
   "cell_type": "markdown",
   "id": "c7dd4315",
   "metadata": {},
   "source": [
    "2. Create a new dictionary with the electoral votes for states in New England. (Hint: Use a dictionary comprehension.)"
   ]
  },
  {
   "cell_type": "code",
   "execution_count": 2,
   "id": "d60e5eb1",
   "metadata": {},
   "outputs": [],
   "source": [
    "# states in New England\n",
    "\n",
    "newEngland = {'Connecticut','Maine','New Hampshire',\n",
    "              'Vermont','Massachusetts','Rhode Island'}"
   ]
  },
  {
   "cell_type": "markdown",
   "id": "ce703c56",
   "metadata": {},
   "source": [
    "3. Find all unique values of electoral votes. That is, find each number that appears at least once as the number of electoral votes for a state or DC. (Hint: Sets cannot have duplicate items in them!)"
   ]
  },
  {
   "cell_type": "code",
   "execution_count": null,
   "id": "39e208eb",
   "metadata": {},
   "outputs": [],
   "source": []
  },
  {
   "cell_type": "markdown",
   "id": "96e796d9",
   "metadata": {},
   "source": [
    "4. Suppose during class that Congress passed a law admitting Puerto Rico as the 51st state in the Union. According to the Constitution, new states receive 3 electoral votes. Add Puerto Rico to the dictionary."
   ]
  },
  {
   "cell_type": "code",
   "execution_count": null,
   "id": "08f9e0b0",
   "metadata": {},
   "outputs": [],
   "source": []
  },
  {
   "cell_type": "markdown",
   "id": "cc607cde",
   "metadata": {},
   "source": [
    "5. While you were completing that problem, Congress then decided to rescind statehood to Puerto Rico (despite the fact it has no Constitutional authority to do so.) Remove Puerto Rico from the dictionary."
   ]
  },
  {
   "cell_type": "code",
   "execution_count": null,
   "id": "9afae221",
   "metadata": {},
   "outputs": [],
   "source": []
  },
  {
   "cell_type": "markdown",
   "id": "2313ced3",
   "metadata": {},
   "source": [
    "6. How many total electoral votes are there? Use Python to confirm your answer if you already know."
   ]
  },
  {
   "cell_type": "code",
   "execution_count": null,
   "id": "86442377",
   "metadata": {},
   "outputs": [],
   "source": []
  }
 ],
 "metadata": {
  "kernelspec": {
   "display_name": "Python 3 (ipykernel)",
   "language": "python",
   "name": "python3"
  },
  "language_info": {
   "codemirror_mode": {
    "name": "ipython",
    "version": 3
   },
   "file_extension": ".py",
   "mimetype": "text/x-python",
   "name": "python",
   "nbconvert_exporter": "python",
   "pygments_lexer": "ipython3",
   "version": "3.9.12"
  }
 },
 "nbformat": 4,
 "nbformat_minor": 5
}
